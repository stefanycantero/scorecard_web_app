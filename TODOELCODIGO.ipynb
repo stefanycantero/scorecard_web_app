{
  "cells": [
    {
      "cell_type": "code",
      "execution_count": null,
      "metadata": {
        "colab": {
          "base_uri": "https://localhost:8080/",
          "height": 34
        },
        "id": "NSOorE5NbK9M",
        "outputId": "8ca0c865-25ce-4211-d320-085468955bee"
      },
      "outputs": [
        {
          "data": {
            "text/plain": [
              "<Figure size 640x480 with 0 Axes>"
            ]
          },
          "metadata": {},
          "output_type": "display_data"
        }
      ],
      "source": [
        "import numpy as np\n",
        "import pandas as pd\n",
        "import matplotlib.pyplot as plt\n",
        "import seaborn as sns\n",
        "import random\n",
        "sns.set(context='notebook')\n",
        "sns.set_style(\"whitegrid\", {'axes.grid' : False})\n",
        "plt.tight_layout()\n",
        "\n",
        "import warnings\n",
        "warnings.filterwarnings(\"ignore\")\n",
        "\n",
        "%matplotlib inline\n",
        "np.random.seed(0)\n",
        "random.seed(0)"
      ]
    },
    {
      "cell_type": "code",
      "execution_count": null,
      "metadata": {
        "colab": {
          "base_uri": "https://localhost:8080/"
        },
        "id": "mpvrEZxw_feK",
        "outputId": "c877b2ac-9fa0-4e4d-c4bb-eafe763b5b0a"
      },
      "outputs": [
        {
          "name": "stdout",
          "output_type": "stream",
          "text": [
            "<class 'pandas.core.frame.DataFrame'>\n",
            "RangeIndex: 887379 entries, 0 to 887378\n",
            "Data columns (total 74 columns):\n",
            " #   Column                       Non-Null Count   Dtype  \n",
            "---  ------                       --------------   -----  \n",
            " 0   id                           887379 non-null  int64  \n",
            " 1   member_id                    887379 non-null  int64  \n",
            " 2   loan_amnt                    887379 non-null  float64\n",
            " 3   funded_amnt                  887379 non-null  float64\n",
            " 4   funded_amnt_inv              887379 non-null  float64\n",
            " 5   term                         887379 non-null  object \n",
            " 6   int_rate                     887379 non-null  float64\n",
            " 7   installment                  887379 non-null  float64\n",
            " 8   grade                        887379 non-null  object \n",
            " 9   sub_grade                    887379 non-null  object \n",
            " 10  emp_title                    835917 non-null  object \n",
            " 11  emp_length                   842554 non-null  object \n",
            " 12  home_ownership               887379 non-null  object \n",
            " 13  annual_inc                   887375 non-null  float64\n",
            " 14  verification_status          887379 non-null  object \n",
            " 15  issue_d                      887379 non-null  object \n",
            " 16  loan_status                  887379 non-null  object \n",
            " 17  pymnt_plan                   887379 non-null  object \n",
            " 18  url                          887379 non-null  object \n",
            " 19  desc                         126026 non-null  object \n",
            " 20  purpose                      887379 non-null  object \n",
            " 21  title                        887226 non-null  object \n",
            " 22  zip_code                     887379 non-null  object \n",
            " 23  addr_state                   887379 non-null  object \n",
            " 24  dti                          887379 non-null  float64\n",
            " 25  delinq_2yrs                  887350 non-null  float64\n",
            " 26  earliest_cr_line             887350 non-null  object \n",
            " 27  inq_last_6mths               887350 non-null  float64\n",
            " 28  mths_since_last_delinq       433067 non-null  float64\n",
            " 29  mths_since_last_record       137053 non-null  float64\n",
            " 30  open_acc                     887350 non-null  float64\n",
            " 31  pub_rec                      887350 non-null  float64\n",
            " 32  revol_bal                    887379 non-null  float64\n",
            " 33  revol_util                   886877 non-null  float64\n",
            " 34  total_acc                    887350 non-null  float64\n",
            " 35  initial_list_status          887379 non-null  object \n",
            " 36  out_prncp                    887379 non-null  float64\n",
            " 37  out_prncp_inv                887379 non-null  float64\n",
            " 38  total_pymnt                  887379 non-null  float64\n",
            " 39  total_pymnt_inv              887379 non-null  float64\n",
            " 40  total_rec_prncp              887379 non-null  float64\n",
            " 41  total_rec_int                887379 non-null  float64\n",
            " 42  total_rec_late_fee           887379 non-null  float64\n",
            " 43  recoveries                   887379 non-null  float64\n",
            " 44  collection_recovery_fee      887379 non-null  float64\n",
            " 45  last_pymnt_d                 869720 non-null  object \n",
            " 46  last_pymnt_amnt              887379 non-null  float64\n",
            " 47  next_pymnt_d                 634408 non-null  object \n",
            " 48  last_credit_pull_d           887326 non-null  object \n",
            " 49  collections_12_mths_ex_med   887234 non-null  float64\n",
            " 50  mths_since_last_major_derog  221703 non-null  float64\n",
            " 51  policy_code                  887379 non-null  float64\n",
            " 52  application_type             887379 non-null  object \n",
            " 53  annual_inc_joint             511 non-null     float64\n",
            " 54  dti_joint                    509 non-null     float64\n",
            " 55  verification_status_joint    511 non-null     object \n",
            " 56  acc_now_delinq               887350 non-null  float64\n",
            " 57  tot_coll_amt                 817103 non-null  float64\n",
            " 58  tot_cur_bal                  817103 non-null  float64\n",
            " 59  open_acc_6m                  21372 non-null   float64\n",
            " 60  open_il_6m                   21372 non-null   float64\n",
            " 61  open_il_12m                  21372 non-null   float64\n",
            " 62  open_il_24m                  21372 non-null   float64\n",
            " 63  mths_since_rcnt_il           20810 non-null   float64\n",
            " 64  total_bal_il                 21372 non-null   float64\n",
            " 65  il_util                      18617 non-null   float64\n",
            " 66  open_rv_12m                  21372 non-null   float64\n",
            " 67  open_rv_24m                  21372 non-null   float64\n",
            " 68  max_bal_bc                   21372 non-null   float64\n",
            " 69  all_util                     21372 non-null   float64\n",
            " 70  total_rev_hi_lim             817103 non-null  float64\n",
            " 71  inq_fi                       21372 non-null   float64\n",
            " 72  total_cu_tl                  21372 non-null   float64\n",
            " 73  inq_last_12m                 21372 non-null   float64\n",
            "dtypes: float64(49), int64(2), object(23)\n",
            "memory usage: 501.0+ MB\n"
          ]
        }
      ],
      "source": [
        "## leemos el conjunto de datos\n",
        "\n",
        "df = pd.read_csv('loan.csv')\n",
        "\n",
        "df.info()"
      ]
    },
    {
      "cell_type": "code",
      "execution_count": null,
      "metadata": {
        "id": "2gM_EWEPEqBr"
      },
      "outputs": [],
      "source": [
        "##  transformar la columna loan status a 0 y 1.\n",
        "\n",
        "df['loan_status'] = np.where(df.loc[:, 'loan_status'].isin(['Charged Off', 'Default', 'Late (31-120 days)',\n",
        "                                        'Does not meet the credit policy. Status:Charged Off']), 0, 1)\n",
        "\n",
        "df_raw = df.copy()"
      ]
    },
    {
      "cell_type": "code",
      "execution_count": null,
      "metadata": {
        "id": "N6EktHilhExD"
      },
      "outputs": [],
      "source": [
        "## de entrada se elimjian estas que el usario no conoce cuando se inicia el prestamo y otras no aportan información relevante\n",
        "\n",
        "df = df.drop(labels=['total_pymnt','total_pymnt_inv', 'out_prncp','out_prncp_inv', 'funded_amnt_inv',\n",
        "                   'funded_amnt', 'total_rec_prncp', 'total_rec_late_fee', 'recoveries',\n",
        "                   'collection_recovery_fee', 'last_pymnt_amnt', 'total_rec_int', 'last_credit_pull_d', 'url', 'member_id', 'policy_code', 'last_pymnt_d','desc', 'title','zip_code', 'addr_state','id'], axis=1)\n",
        "\n",
        "\n",
        "\n"
      ]
    },
    {
      "cell_type": "code",
      "execution_count": null,
      "metadata": {
        "colab": {
          "base_uri": "https://localhost:8080/"
        },
        "id": "w70EmPFOOCkN",
        "outputId": "2dec0074-9597-45e7-8201-d6ffeb67f404"
      },
      "outputs": [
        {
          "name": "stdout",
          "output_type": "stream",
          "text": [
            "loan_amnt                      0.000000\n",
            "term                           0.000000\n",
            "int_rate                       0.000000\n",
            "installment                    0.000000\n",
            "grade                          0.000000\n",
            "sub_grade                      0.000000\n",
            "emp_title                      0.057993\n",
            "emp_length                     0.050514\n",
            "home_ownership                 0.000000\n",
            "annual_inc                     0.000005\n",
            "verification_status            0.000000\n",
            "issue_d                        0.000000\n",
            "loan_status                    0.000000\n",
            "pymnt_plan                     0.000000\n",
            "purpose                        0.000000\n",
            "dti                            0.000000\n",
            "delinq_2yrs                    0.000033\n",
            "earliest_cr_line               0.000033\n",
            "inq_last_6mths                 0.000033\n",
            "mths_since_last_delinq         0.511971\n",
            "mths_since_last_record         0.845553\n",
            "open_acc                       0.000033\n",
            "pub_rec                        0.000033\n",
            "revol_bal                      0.000000\n",
            "revol_util                     0.000566\n",
            "total_acc                      0.000033\n",
            "initial_list_status            0.000000\n",
            "next_pymnt_d                   0.285077\n",
            "collections_12_mths_ex_med     0.000163\n",
            "mths_since_last_major_derog    0.750160\n",
            "application_type               0.000000\n",
            "annual_inc_joint               0.999424\n",
            "dti_joint                      0.999426\n",
            "verification_status_joint      0.999424\n",
            "acc_now_delinq                 0.000033\n",
            "tot_coll_amt                   0.079195\n",
            "tot_cur_bal                    0.079195\n",
            "open_acc_6m                    0.975916\n",
            "open_il_6m                     0.975916\n",
            "open_il_12m                    0.975916\n",
            "open_il_24m                    0.975916\n",
            "mths_since_rcnt_il             0.976549\n",
            "total_bal_il                   0.975916\n",
            "il_util                        0.979020\n",
            "open_rv_12m                    0.975916\n",
            "open_rv_24m                    0.975916\n",
            "max_bal_bc                     0.975916\n",
            "all_util                       0.975916\n",
            "total_rev_hi_lim               0.079195\n",
            "inq_fi                         0.975916\n",
            "total_cu_tl                    0.975916\n",
            "inq_last_12m                   0.975916\n",
            "dtype: float64\n",
            "To drop:\n",
            "Index(['mths_since_last_delinq', 'mths_since_last_record', 'next_pymnt_d',\n",
            "       'mths_since_last_major_derog', 'annual_inc_joint', 'dti_joint',\n",
            "       'verification_status_joint', 'open_acc_6m', 'open_il_6m', 'open_il_12m',\n",
            "       'open_il_24m', 'mths_since_rcnt_il', 'total_bal_il', 'il_util',\n",
            "       'open_rv_12m', 'open_rv_24m', 'max_bal_bc', 'all_util', 'inq_fi',\n",
            "       'total_cu_tl', 'inq_last_12m'],\n",
            "      dtype='object')\n"
          ]
        }
      ],
      "source": [
        "\n",
        "\n",
        "## variables con más del 20%  de datos faltantes no se consideran\n",
        "\n",
        "total_na=df.isna().sum()\n",
        "# Identificar las columnas con más del 20% de valores nulos\n",
        "missing_values = df.isnull().mean()\n",
        "columns_to_drop = missing_values[missing_values > 0.2].index\n",
        "df = df.drop(columns=columns_to_drop)\n",
        "print(missing_values)\n",
        "print(\"To drop:\")\n",
        "print(columns_to_drop)\n",
        "\n",
        "\n",
        "\n",
        "\n",
        "\n",
        "\n",
        "\n"
      ]
    },
    {
      "cell_type": "markdown",
      "metadata": {
        "id": "uvhlaruhOiQB"
      },
      "source": [
        "La columna eliminada más cercana al umbral de eliminación es next_pymnt_d que es es la próxima fecha de pago, una variable que no aportaría en el target del modelo así y que las demás variables a eliminar poseen demasiados datos faltantes. Por estas razones se considera que depurar estos datos es una buena estrategia que no afectaría al modelo."
      ]
    },
    {
      "cell_type": "code",
      "execution_count": null,
      "metadata": {
        "colab": {
          "base_uri": "https://localhost:8080/",
          "height": 377
        },
        "id": "JkFFAi0PUxBo",
        "outputId": "b0313070-fa73-4184-9a75-9e09c98a025c"
      },
      "outputs": [
        {
          "data": {
            "text/html": [
              "<div>\n",
              "<style scoped>\n",
              "    .dataframe tbody tr th:only-of-type {\n",
              "        vertical-align: middle;\n",
              "    }\n",
              "\n",
              "    .dataframe tbody tr th {\n",
              "        vertical-align: top;\n",
              "    }\n",
              "\n",
              "    .dataframe thead th {\n",
              "        text-align: right;\n",
              "    }\n",
              "</style>\n",
              "<table border=\"1\" class=\"dataframe\">\n",
              "  <thead>\n",
              "    <tr style=\"text-align: right;\">\n",
              "      <th></th>\n",
              "      <th>loan_amnt</th>\n",
              "      <th>term</th>\n",
              "      <th>int_rate</th>\n",
              "      <th>installment</th>\n",
              "      <th>grade</th>\n",
              "      <th>sub_grade</th>\n",
              "      <th>emp_title</th>\n",
              "      <th>emp_length</th>\n",
              "      <th>home_ownership</th>\n",
              "      <th>annual_inc</th>\n",
              "      <th>...</th>\n",
              "      <th>revol_bal</th>\n",
              "      <th>revol_util</th>\n",
              "      <th>total_acc</th>\n",
              "      <th>initial_list_status</th>\n",
              "      <th>collections_12_mths_ex_med</th>\n",
              "      <th>application_type</th>\n",
              "      <th>acc_now_delinq</th>\n",
              "      <th>tot_coll_amt</th>\n",
              "      <th>tot_cur_bal</th>\n",
              "      <th>total_rev_hi_lim</th>\n",
              "    </tr>\n",
              "  </thead>\n",
              "  <tbody>\n",
              "    <tr>\n",
              "      <th>0</th>\n",
              "      <td>5000.0</td>\n",
              "      <td>36 months</td>\n",
              "      <td>10.65</td>\n",
              "      <td>162.87</td>\n",
              "      <td>B</td>\n",
              "      <td>B2</td>\n",
              "      <td>NaN</td>\n",
              "      <td>10+ years</td>\n",
              "      <td>RENT</td>\n",
              "      <td>24000.0</td>\n",
              "      <td>...</td>\n",
              "      <td>13648.0</td>\n",
              "      <td>83.7</td>\n",
              "      <td>9.0</td>\n",
              "      <td>f</td>\n",
              "      <td>0.0</td>\n",
              "      <td>INDIVIDUAL</td>\n",
              "      <td>0.0</td>\n",
              "      <td>NaN</td>\n",
              "      <td>NaN</td>\n",
              "      <td>NaN</td>\n",
              "    </tr>\n",
              "    <tr>\n",
              "      <th>1</th>\n",
              "      <td>2500.0</td>\n",
              "      <td>60 months</td>\n",
              "      <td>15.27</td>\n",
              "      <td>59.83</td>\n",
              "      <td>C</td>\n",
              "      <td>C4</td>\n",
              "      <td>Ryder</td>\n",
              "      <td>&lt; 1 year</td>\n",
              "      <td>RENT</td>\n",
              "      <td>30000.0</td>\n",
              "      <td>...</td>\n",
              "      <td>1687.0</td>\n",
              "      <td>9.4</td>\n",
              "      <td>4.0</td>\n",
              "      <td>f</td>\n",
              "      <td>0.0</td>\n",
              "      <td>INDIVIDUAL</td>\n",
              "      <td>0.0</td>\n",
              "      <td>NaN</td>\n",
              "      <td>NaN</td>\n",
              "      <td>NaN</td>\n",
              "    </tr>\n",
              "    <tr>\n",
              "      <th>2</th>\n",
              "      <td>2400.0</td>\n",
              "      <td>36 months</td>\n",
              "      <td>15.96</td>\n",
              "      <td>84.33</td>\n",
              "      <td>C</td>\n",
              "      <td>C5</td>\n",
              "      <td>NaN</td>\n",
              "      <td>10+ years</td>\n",
              "      <td>RENT</td>\n",
              "      <td>12252.0</td>\n",
              "      <td>...</td>\n",
              "      <td>2956.0</td>\n",
              "      <td>98.5</td>\n",
              "      <td>10.0</td>\n",
              "      <td>f</td>\n",
              "      <td>0.0</td>\n",
              "      <td>INDIVIDUAL</td>\n",
              "      <td>0.0</td>\n",
              "      <td>NaN</td>\n",
              "      <td>NaN</td>\n",
              "      <td>NaN</td>\n",
              "    </tr>\n",
              "    <tr>\n",
              "      <th>3</th>\n",
              "      <td>10000.0</td>\n",
              "      <td>36 months</td>\n",
              "      <td>13.49</td>\n",
              "      <td>339.31</td>\n",
              "      <td>C</td>\n",
              "      <td>C1</td>\n",
              "      <td>AIR RESOURCES BOARD</td>\n",
              "      <td>10+ years</td>\n",
              "      <td>RENT</td>\n",
              "      <td>49200.0</td>\n",
              "      <td>...</td>\n",
              "      <td>5598.0</td>\n",
              "      <td>21.0</td>\n",
              "      <td>37.0</td>\n",
              "      <td>f</td>\n",
              "      <td>0.0</td>\n",
              "      <td>INDIVIDUAL</td>\n",
              "      <td>0.0</td>\n",
              "      <td>NaN</td>\n",
              "      <td>NaN</td>\n",
              "      <td>NaN</td>\n",
              "    </tr>\n",
              "    <tr>\n",
              "      <th>4</th>\n",
              "      <td>3000.0</td>\n",
              "      <td>60 months</td>\n",
              "      <td>12.69</td>\n",
              "      <td>67.79</td>\n",
              "      <td>B</td>\n",
              "      <td>B5</td>\n",
              "      <td>University Medical Group</td>\n",
              "      <td>1 year</td>\n",
              "      <td>RENT</td>\n",
              "      <td>80000.0</td>\n",
              "      <td>...</td>\n",
              "      <td>27783.0</td>\n",
              "      <td>53.9</td>\n",
              "      <td>38.0</td>\n",
              "      <td>f</td>\n",
              "      <td>0.0</td>\n",
              "      <td>INDIVIDUAL</td>\n",
              "      <td>0.0</td>\n",
              "      <td>NaN</td>\n",
              "      <td>NaN</td>\n",
              "      <td>NaN</td>\n",
              "    </tr>\n",
              "  </tbody>\n",
              "</table>\n",
              "<p>5 rows × 31 columns</p>\n",
              "</div>"
            ],
            "text/plain": [
              "   loan_amnt        term  int_rate  installment grade sub_grade  \\\n",
              "0     5000.0   36 months     10.65       162.87     B        B2   \n",
              "1     2500.0   60 months     15.27        59.83     C        C4   \n",
              "2     2400.0   36 months     15.96        84.33     C        C5   \n",
              "3    10000.0   36 months     13.49       339.31     C        C1   \n",
              "4     3000.0   60 months     12.69        67.79     B        B5   \n",
              "\n",
              "                  emp_title emp_length home_ownership  annual_inc  ...  \\\n",
              "0                       NaN  10+ years           RENT     24000.0  ...   \n",
              "1                     Ryder   < 1 year           RENT     30000.0  ...   \n",
              "2                       NaN  10+ years           RENT     12252.0  ...   \n",
              "3       AIR RESOURCES BOARD  10+ years           RENT     49200.0  ...   \n",
              "4  University Medical Group     1 year           RENT     80000.0  ...   \n",
              "\n",
              "  revol_bal revol_util  total_acc initial_list_status  \\\n",
              "0   13648.0       83.7        9.0                   f   \n",
              "1    1687.0        9.4        4.0                   f   \n",
              "2    2956.0       98.5       10.0                   f   \n",
              "3    5598.0       21.0       37.0                   f   \n",
              "4   27783.0       53.9       38.0                   f   \n",
              "\n",
              "  collections_12_mths_ex_med  application_type  acc_now_delinq tot_coll_amt  \\\n",
              "0                        0.0        INDIVIDUAL             0.0          NaN   \n",
              "1                        0.0        INDIVIDUAL             0.0          NaN   \n",
              "2                        0.0        INDIVIDUAL             0.0          NaN   \n",
              "3                        0.0        INDIVIDUAL             0.0          NaN   \n",
              "4                        0.0        INDIVIDUAL             0.0          NaN   \n",
              "\n",
              "   tot_cur_bal  total_rev_hi_lim  \n",
              "0          NaN               NaN  \n",
              "1          NaN               NaN  \n",
              "2          NaN               NaN  \n",
              "3          NaN               NaN  \n",
              "4          NaN               NaN  \n",
              "\n",
              "[5 rows x 31 columns]"
            ]
          },
          "execution_count": 6,
          "metadata": {},
          "output_type": "execute_result"
        }
      ],
      "source": [
        "df.head() ## van 30 columnas"
      ]
    },
    {
      "cell_type": "code",
      "execution_count": null,
      "metadata": {
        "colab": {
          "base_uri": "https://localhost:8080/",
          "height": 1000
        },
        "id": "SYTGkV6HZhrV",
        "outputId": "ce9acca6-be57-4882-cdd4-a55a27624cbf"
      },
      "outputs": [
        {
          "data": {
            "image/png": "[encoded data removed]",
            "text/plain": [
              "<Figure size 2400x2400 with 2 Axes>"
            ]
          },
          "metadata": {},
          "output_type": "display_data"
        }
      ],
      "source": [
        "\n",
        "## matriz de correlaciones\n",
        "import numpy as np\n",
        "import seaborn as sns\n",
        "import matplotlib.pyplot as plt\n",
        "\n",
        "# Seleccionar solo las columnas numéricas\n",
        "df_numeric = df.select_dtypes(include=[np.number])\n",
        "\n",
        "# Crear la matriz de correlación\n",
        "corr_matrix = df_numeric.corr().fillna(0)\n",
        "\n",
        "# Crear una máscara para ocultar la parte superior del mapa de calor\n",
        "mask = np.zeros_like(corr_matrix, dtype=bool)\n",
        "mask[np.triu_indices_from(mask)] = True\n",
        "\n",
        "# Graficar el mapa de calor\n",
        "plt.figure(figsize=(24, 24))\n",
        "sns.heatmap(\n",
        "    corr_matrix,\n",
        "    mask=mask,\n",
        "    annot=True,\n",
        "    cmap=\"inferno\",\n",
        "    vmin=-1,\n",
        "    fmt='.1g',\n",
        "    edgecolor='w',\n",
        "    linewidth=0.6\n",
        ")\n",
        "plt.title('Matriz de Correlación (Solo Variables Numéricas)', fontsize=16)\n",
        "plt.show()\n"
      ]
    },
    {
      "cell_type": "markdown",
      "metadata": {
        "id": "ulJtyybqiN_M"
      },
      "source": [
        "se eliminarán aquellas columnas que posean un correlación de al menos 60% y se dejará aquella que tenga más correlación con el target es decir las variables:"
      ]
    },
    {
      "cell_type": "code",
      "execution_count": null,
      "metadata": {
        "id": "vmQWalGmd6bt"
      },
      "outputs": [],
      "source": [
        " # se eliminarán aquellas columnas que posean un correlación de al menos 60% es decir las variables:\n",
        "\n",
        "\n",
        "\n",
        "df.drop(columns=['total_acc', 'total_rev_hi_lim'], inplace=True)"
      ]
    },
    {
      "cell_type": "code",
      "execution_count": null,
      "metadata": {
        "colab": {
          "base_uri": "https://localhost:8080/"
        },
        "id": "PDzNnfzNseIY",
        "outputId": "0b7189b0-0f56-4dda-eb54-392d3aedbd86"
      },
      "outputs": [
        {
          "data": {
            "text/plain": [
              "(887379, 29)"
            ]
          },
          "execution_count": 9,
          "metadata": {},
          "output_type": "execute_result"
        }
      ],
      "source": [
        "df.shape ## ahora quedan 29 columnas"
      ]
    },
    {
      "cell_type": "code",
      "execution_count": null,
      "metadata": {
        "colab": {
          "base_uri": "https://localhost:8080/"
        },
        "id": "lgbf36AKvz-f",
        "outputId": "93de50be-1c77-41d3-f020-2284eec8a73a"
      },
      "outputs": [
        {
          "name": "stdout",
          "output_type": "stream",
          "text": [
            "Index(['loan_amnt', 'term', 'int_rate', 'installment', 'grade', 'sub_grade',\n",
            "       'emp_title', 'emp_length', 'home_ownership', 'annual_inc',\n",
            "       'verification_status', 'issue_d', 'loan_status', 'pymnt_plan',\n",
            "       'purpose', 'dti', 'delinq_2yrs', 'earliest_cr_line', 'inq_last_6mths',\n",
            "       'open_acc', 'pub_rec', 'revol_bal', 'revol_util', 'initial_list_status',\n",
            "       'collections_12_mths_ex_med', 'application_type', 'acc_now_delinq',\n",
            "       'tot_coll_amt', 'tot_cur_bal'],\n",
            "      dtype='object')\n"
          ]
        }
      ],
      "source": [
        "print(df.columns)"
      ]
    },
    {
      "cell_type": "code",
      "execution_count": null,
      "metadata": {
        "id": "K1OP2ISZwplj"
      },
      "outputs": [],
      "source": [
        "\n",
        "df.drop(columns=['earliest_cr_line', 'issue_d','initial_list_status'], inplace=True)"
      ]
    },
    {
      "cell_type": "code",
      "execution_count": null,
      "metadata": {
        "colab": {
          "base_uri": "https://localhost:8080/"
        },
        "id": "OoHlcemby92P",
        "outputId": "737635a9-45f3-4fed-b519-78d0df953194"
      },
      "outputs": [
        {
          "data": {
            "text/plain": [
              "(887379, 26)"
            ]
          },
          "execution_count": 12,
          "metadata": {},
          "output_type": "execute_result"
        }
      ],
      "source": [
        "df.shape"
      ]
    },
    {
      "cell_type": "code",
      "execution_count": null,
      "metadata": {
        "colab": {
          "base_uri": "https://localhost:8080/"
        },
        "id": "1TWnVBJgzLGM",
        "outputId": "aed08dde-c0a6-4f08-b8a7-dea01013e4ea"
      },
      "outputs": [
        {
          "name": "stdout",
          "output_type": "stream",
          "text": [
            "Categorías diferentes: 299273\n",
            "Numero de N/A: 0\n",
            "Numero de clientes que clientes no especificaron su trabajo pero si el tiempo en el: 0\n"
          ]
        }
      ],
      "source": [
        "## Rellenar los valores en los que los clientes no especificaron su trabajo pero si el tiempo en el\n",
        "\n",
        "print(\"Categorías diferentes:\", df[\"emp_title\"].nunique())\n",
        "print(\"Numero de N/A:\", df[\"emp_title\"].isna().sum())\n",
        "print(\"Numero de clientes que clientes no especificaron su trabajo pero si el tiempo en el:\",\n",
        "      df[(df['emp_length'].notnull()) & (df['emp_title'].isnull())].shape[0])\n",
        "\n",
        "# Imputarles la expresion off the books que es trabajo informal o no oficial\n",
        "df['emp_title'] = df.apply(lambda row: 'off the books' if pd.notnull(row['emp_length']) and pd.isnull(row['emp_title']) else row['emp_title'], axis=1)"
      ]
    },
    {
      "cell_type": "markdown",
      "metadata": {
        "id": "cLkQFrJkbdMP"
      },
      "source": [
        "Verificar que aquellos valores nulos de aquellos que no especificaron el trabajo posiblemente tengan valores nulos en el \"emp_lenght\" y la razón sea porque no trabajan."
      ]
    },
    {
      "cell_type": "code",
      "execution_count": null,
      "metadata": {
        "colab": {
          "base_uri": "https://localhost:8080/"
        },
        "id": "1FUdWi_SbYp3",
        "outputId": "246a1626-f1fc-4070-b8dd-75fe211bd1fa"
      },
      "outputs": [
        {
          "name": "stdout",
          "output_type": "stream",
          "text": [
            "Series([], Name: count, dtype: int64)\n",
            "Numero de datos N/A en aquellos que no trabajan 44436\n",
            "Numero de datos que no trabajan y tienen en su experiencia un valor diferente de nulo 0\n"
          ]
        }
      ],
      "source": [
        "df[\"emp_title\"] = df[\"emp_title\"].fillna(\"Does not work\")\n",
        "no_trabajan = df[df[\"emp_title\"]==\"Does not work\"][\"emp_length\"]\n",
        "no_trabajan.shape\n",
        "print(no_trabajan.value_counts())\n",
        "print(\"Numero de datos N/A en aquellos que no trabajan\", no_trabajan.isna().sum())\n",
        "print(\"Numero de datos que no trabajan y tienen en su experiencia un valor diferente de nulo\",\n",
        "      no_trabajan[no_trabajan.notnull()].shape[0])"
      ]
    },
    {
      "cell_type": "markdown",
      "metadata": {
        "id": "XhIK79WfccLb"
      },
      "source": [
        "Como se confirmó el comportamiento que estabamos prediciendo en los datos podemos seguir y procesar la columna de experiencia y aplicarles el valor de -1 a los clientes que no trabajan para diferenciar y en caso de que el modelo encuentre una correlación positiva entre esta columna y el target penalizar un poco estos clientes."
      ]
    },
    {
      "cell_type": "markdown",
      "metadata": {
        "id": "v3-BWTvyAQO8"
      },
      "source": [
        "Hacer una copia de la columna del trabajo para analisis posterior(creación de embeddings) , y se elimina de el dataframe original debido que si se realizara un one-hot incrementaría demasiado la dimensionalidad del problema."
      ]
    },
    {
      "cell_type": "code",
      "execution_count": null,
      "metadata": {
        "id": "x-W60aN0AQO8"
      },
      "outputs": [],
      "source": [
        "emp_title =df[\"emp_title\"].copy()\n",
        "df.drop(columns=['emp_title'], inplace=True)"
      ]
    },
    {
      "cell_type": "code",
      "execution_count": null,
      "metadata": {
        "colab": {
          "base_uri": "https://localhost:8080/"
        },
        "id": "GK_v2dVNt1it",
        "outputId": "ebc7d41e-f7d4-4480-9fe2-c436b26aeb17"
      },
      "outputs": [
        {
          "name": "stdout",
          "output_type": "stream",
          "text": [
            "Numero de datos con nulo en esta columna: 44825 siendo un 5.05% del total\n",
            "[10  0  1  3  8  9  4  5  6  2  7 -1]\n"
          ]
        }
      ],
      "source": [
        "# convertir a numerica la columna emp_length ya que esta en string\n",
        "\n",
        "\n",
        "def convertir(df, columna):\n",
        "    df[columna] = df[columna].replace({\n",
        "        r'\\+ years': '',\n",
        "        r' years': '',\n",
        "        r' year': '',\n",
        "        r'< 1': '0'\n",
        "    }, regex=True)\n",
        "\n",
        "    # Convertir a tipo numérico y asignar 0 donde haya valores faltantes\n",
        "    df[columna] = pd.to_numeric(df[columna], errors='coerce').fillna(-1).astype(int)\n",
        "print(\"Numero de datos con nulo en esta columna:\", df[\"emp_length\"].isnull().sum(), \"siendo un\",\n",
        "      str(round(df[\"emp_length\"].isnull().sum() / df.shape[0] * 100, 2)) + \"%\", \"del total\")\n",
        "convertir(df, 'emp_length')\n",
        "print(df['emp_length'].unique())\n"
      ]
    },
    {
      "cell_type": "code",
      "execution_count": null,
      "metadata": {
        "id": "TX90VcvSyOEO"
      },
      "outputs": [],
      "source": [
        "# converting term to numeric\n",
        "\n",
        "def term_numeric(df, column):\n",
        "    df[column] = pd.to_numeric(df[column].str.replace(' months', ''))\n",
        "\n",
        "term_numeric(df, 'term')"
      ]
    },
    {
      "cell_type": "code",
      "execution_count": null,
      "metadata": {
        "id": "QCl2wN7u2F3F"
      },
      "outputs": [],
      "source": [
        "\n",
        "## ELIMINAR application_type  Y PYMTN-PLAN ESTAN DESBALANCEADAS ESAS CLASES\n",
        "\n",
        "\n",
        "df.drop(columns=['application_type', 'pymnt_plan'], inplace=True)"
      ]
    },
    {
      "cell_type": "code",
      "execution_count": null,
      "metadata": {
        "colab": {
          "base_uri": "https://localhost:8080/",
          "height": 805
        },
        "id": "TaM7eVSG32O-",
        "outputId": "c3453487-37d8-4ead-e708-808de81bccc5"
      },
      "outputs": [
        {
          "data": {
            "text/plain": [
              "loan_amnt                         0\n",
              "term                              0\n",
              "int_rate                          0\n",
              "installment                       0\n",
              "grade                             0\n",
              "sub_grade                         0\n",
              "emp_length                        0\n",
              "home_ownership                    0\n",
              "annual_inc                        4\n",
              "verification_status               0\n",
              "loan_status                       0\n",
              "purpose                           0\n",
              "dti                               0\n",
              "delinq_2yrs                      29\n",
              "inq_last_6mths                   29\n",
              "open_acc                         29\n",
              "pub_rec                          29\n",
              "revol_bal                         0\n",
              "revol_util                      502\n",
              "collections_12_mths_ex_med      145\n",
              "acc_now_delinq                   29\n",
              "tot_coll_amt                  70276\n",
              "tot_cur_bal                   70276\n",
              "dtype: int64"
            ]
          },
          "execution_count": 21,
          "metadata": {},
          "output_type": "execute_result"
        }
      ],
      "source": [
        "## ver que tiene NA\n",
        "\n",
        "df.isna().sum()"
      ]
    },
    {
      "cell_type": "code",
      "execution_count": null,
      "metadata": {
        "colab": {
          "base_uri": "https://localhost:8080/"
        },
        "id": "w7AmHZwwzyg2",
        "outputId": "38a49ff5-39e4-4f01-c074-3883cae6ed06"
      },
      "outputs": [
        {
          "name": "stdout",
          "output_type": "stream",
          "text": [
            "<class 'pandas.core.frame.DataFrame'>\n",
            "RangeIndex: 887379 entries, 0 to 887378\n",
            "Data columns (total 23 columns):\n",
            " #   Column                      Non-Null Count   Dtype  \n",
            "---  ------                      --------------   -----  \n",
            " 0   loan_amnt                   887379 non-null  float64\n",
            " 1   term                        887379 non-null  int64  \n",
            " 2   int_rate                    887379 non-null  float64\n",
            " 3   installment                 887379 non-null  float64\n",
            " 4   grade                       887379 non-null  object \n",
            " 5   sub_grade                   887379 non-null  object \n",
            " 6   emp_length                  887379 non-null  int32  \n",
            " 7   home_ownership              887379 non-null  object \n",
            " 8   annual_inc                  887375 non-null  float64\n",
            " 9   verification_status         887379 non-null  object \n",
            " 10  loan_status                 887379 non-null  int32  \n",
            " 11  purpose                     887379 non-null  object \n",
            " 12  dti                         887379 non-null  float64\n",
            " 13  delinq_2yrs                 887350 non-null  float64\n",
            " 14  inq_last_6mths              887350 non-null  float64\n",
            " 15  open_acc                    887350 non-null  float64\n",
            " 16  pub_rec                     887350 non-null  float64\n",
            " 17  revol_bal                   887379 non-null  float64\n",
            " 18  revol_util                  886877 non-null  float64\n",
            " 19  collections_12_mths_ex_med  887234 non-null  float64\n",
            " 20  acc_now_delinq              887350 non-null  float64\n",
            " 21  tot_coll_amt                817103 non-null  float64\n",
            " 22  tot_cur_bal                 817103 non-null  float64\n",
            "dtypes: float64(15), int32(2), int64(1), object(5)\n",
            "memory usage: 148.9+ MB\n"
          ]
        }
      ],
      "source": [
        "## imputar valores nulos\n",
        "\n",
        "df.info()\n"
      ]
    },
    {
      "cell_type": "code",
      "execution_count": null,
      "metadata": {
        "id": "WnibdN_u0doI"
      },
      "outputs": [],
      "source": [
        "## imputar las numericas con la mediana\n",
        "\n",
        "from sklearn.impute import SimpleImputer\n",
        "\n",
        "# Select the numerical columns with missing values\n",
        "h = df.select_dtypes(['float64', 'int64', 'int32']).isnull().sum()\n",
        "columns  = h[h > 0].index\n",
        "\n",
        "for column in columns:\n",
        "    imputer = SimpleImputer(missing_values=np.nan, strategy='median')\n",
        "    df[column] = imputer.fit_transform(pd.DataFrame(df[column]))\n",
        "\n"
      ]
    },
    {
      "cell_type": "code",
      "execution_count": null,
      "metadata": {
        "colab": {
          "base_uri": "https://localhost:8080/",
          "height": 805
        },
        "id": "9QztKlde3iJg",
        "outputId": "4cf83231-c963-49db-b752-a73f28e0eb55"
      },
      "outputs": [
        {
          "data": {
            "text/plain": [
              "loan_amnt                              0\n",
              "term                                   0\n",
              "int_rate                               0\n",
              "installment                            0\n",
              "sub_grade                              0\n",
              "emp_length                             0\n",
              "annual_inc                             0\n",
              "loan_status                            0\n",
              "dti                                    0\n",
              "delinq_2yrs                            0\n",
              "inq_last_6mths                         0\n",
              "open_acc                               0\n",
              "pub_rec                                0\n",
              "revol_bal                              0\n",
              "revol_util                             0\n",
              "collections_12_mths_ex_med             0\n",
              "acc_now_delinq                         0\n",
              "tot_coll_amt                           0\n",
              "tot_cur_bal                            0\n",
              "home_ownership_MORTGAGE                0\n",
              "home_ownership_NONE                    0\n",
              "home_ownership_OTHER                   0\n",
              "home_ownership_OWN                     0\n",
              "home_ownership_RENT                    0\n",
              "verification_status_Source Verified    0\n",
              "verification_status_Verified           0\n",
              "purpose_credit_card                    0\n",
              "purpose_debt_consolidation             0\n",
              "purpose_educational                    0\n",
              "purpose_home_improvement               0\n",
              "purpose_house                          0\n",
              "purpose_major_purchase                 0\n",
              "purpose_medical                        0\n",
              "purpose_moving                         0\n",
              "purpose_other                          0\n",
              "purpose_renewable_energy               0\n",
              "purpose_small_business                 0\n",
              "purpose_vacation                       0\n",
              "purpose_wedding                        0\n",
              "dtype: int64"
            ]
          },
          "execution_count": 47,
          "metadata": {},
          "output_type": "execute_result"
        }
      ],
      "source": [
        "df.isna().sum() ## ya no hay nulos"
      ]
    },
    {
      "cell_type": "code",
      "execution_count": null,
      "metadata": {
        "colab": {
          "base_uri": "https://localhost:8080/",
          "height": 256
        },
        "id": "kw2i-82j3pHZ",
        "outputId": "c3c64c08-ac40-4621-f763-96fdefb5c738"
      },
      "outputs": [
        {
          "data": {
            "text/html": [
              "<div>\n",
              "<style scoped>\n",
              "    .dataframe tbody tr th:only-of-type {\n",
              "        vertical-align: middle;\n",
              "    }\n",
              "\n",
              "    .dataframe tbody tr th {\n",
              "        vertical-align: top;\n",
              "    }\n",
              "\n",
              "    .dataframe thead th {\n",
              "        text-align: right;\n",
              "    }\n",
              "</style>\n",
              "<table border=\"1\" class=\"dataframe\">\n",
              "  <thead>\n",
              "    <tr style=\"text-align: right;\">\n",
              "      <th></th>\n",
              "      <th>loan_amnt</th>\n",
              "      <th>term</th>\n",
              "      <th>int_rate</th>\n",
              "      <th>installment</th>\n",
              "      <th>grade</th>\n",
              "      <th>sub_grade</th>\n",
              "      <th>emp_length</th>\n",
              "      <th>home_ownership</th>\n",
              "      <th>annual_inc</th>\n",
              "      <th>verification_status</th>\n",
              "      <th>...</th>\n",
              "      <th>delinq_2yrs</th>\n",
              "      <th>inq_last_6mths</th>\n",
              "      <th>open_acc</th>\n",
              "      <th>pub_rec</th>\n",
              "      <th>revol_bal</th>\n",
              "      <th>revol_util</th>\n",
              "      <th>collections_12_mths_ex_med</th>\n",
              "      <th>acc_now_delinq</th>\n",
              "      <th>tot_coll_amt</th>\n",
              "      <th>tot_cur_bal</th>\n",
              "    </tr>\n",
              "  </thead>\n",
              "  <tbody>\n",
              "    <tr>\n",
              "      <th>0</th>\n",
              "      <td>5000.0</td>\n",
              "      <td>36</td>\n",
              "      <td>10.65</td>\n",
              "      <td>162.87</td>\n",
              "      <td>B</td>\n",
              "      <td>B2</td>\n",
              "      <td>10</td>\n",
              "      <td>RENT</td>\n",
              "      <td>24000.0</td>\n",
              "      <td>Verified</td>\n",
              "      <td>...</td>\n",
              "      <td>0.0</td>\n",
              "      <td>1.0</td>\n",
              "      <td>3.0</td>\n",
              "      <td>0.0</td>\n",
              "      <td>13648.0</td>\n",
              "      <td>83.7</td>\n",
              "      <td>0.0</td>\n",
              "      <td>0.0</td>\n",
              "      <td>0.0</td>\n",
              "      <td>80559.0</td>\n",
              "    </tr>\n",
              "    <tr>\n",
              "      <th>1</th>\n",
              "      <td>2500.0</td>\n",
              "      <td>60</td>\n",
              "      <td>15.27</td>\n",
              "      <td>59.83</td>\n",
              "      <td>C</td>\n",
              "      <td>C4</td>\n",
              "      <td>0</td>\n",
              "      <td>RENT</td>\n",
              "      <td>30000.0</td>\n",
              "      <td>Source Verified</td>\n",
              "      <td>...</td>\n",
              "      <td>0.0</td>\n",
              "      <td>5.0</td>\n",
              "      <td>3.0</td>\n",
              "      <td>0.0</td>\n",
              "      <td>1687.0</td>\n",
              "      <td>9.4</td>\n",
              "      <td>0.0</td>\n",
              "      <td>0.0</td>\n",
              "      <td>0.0</td>\n",
              "      <td>80559.0</td>\n",
              "    </tr>\n",
              "    <tr>\n",
              "      <th>2</th>\n",
              "      <td>2400.0</td>\n",
              "      <td>36</td>\n",
              "      <td>15.96</td>\n",
              "      <td>84.33</td>\n",
              "      <td>C</td>\n",
              "      <td>C5</td>\n",
              "      <td>10</td>\n",
              "      <td>RENT</td>\n",
              "      <td>12252.0</td>\n",
              "      <td>Not Verified</td>\n",
              "      <td>...</td>\n",
              "      <td>0.0</td>\n",
              "      <td>2.0</td>\n",
              "      <td>2.0</td>\n",
              "      <td>0.0</td>\n",
              "      <td>2956.0</td>\n",
              "      <td>98.5</td>\n",
              "      <td>0.0</td>\n",
              "      <td>0.0</td>\n",
              "      <td>0.0</td>\n",
              "      <td>80559.0</td>\n",
              "    </tr>\n",
              "    <tr>\n",
              "      <th>3</th>\n",
              "      <td>10000.0</td>\n",
              "      <td>36</td>\n",
              "      <td>13.49</td>\n",
              "      <td>339.31</td>\n",
              "      <td>C</td>\n",
              "      <td>C1</td>\n",
              "      <td>10</td>\n",
              "      <td>RENT</td>\n",
              "      <td>49200.0</td>\n",
              "      <td>Source Verified</td>\n",
              "      <td>...</td>\n",
              "      <td>0.0</td>\n",
              "      <td>1.0</td>\n",
              "      <td>10.0</td>\n",
              "      <td>0.0</td>\n",
              "      <td>5598.0</td>\n",
              "      <td>21.0</td>\n",
              "      <td>0.0</td>\n",
              "      <td>0.0</td>\n",
              "      <td>0.0</td>\n",
              "      <td>80559.0</td>\n",
              "    </tr>\n",
              "    <tr>\n",
              "      <th>4</th>\n",
              "      <td>3000.0</td>\n",
              "      <td>60</td>\n",
              "      <td>12.69</td>\n",
              "      <td>67.79</td>\n",
              "      <td>B</td>\n",
              "      <td>B5</td>\n",
              "      <td>1</td>\n",
              "      <td>RENT</td>\n",
              "      <td>80000.0</td>\n",
              "      <td>Source Verified</td>\n",
              "      <td>...</td>\n",
              "      <td>0.0</td>\n",
              "      <td>0.0</td>\n",
              "      <td>15.0</td>\n",
              "      <td>0.0</td>\n",
              "      <td>27783.0</td>\n",
              "      <td>53.9</td>\n",
              "      <td>0.0</td>\n",
              "      <td>0.0</td>\n",
              "      <td>0.0</td>\n",
              "      <td>80559.0</td>\n",
              "    </tr>\n",
              "  </tbody>\n",
              "</table>\n",
              "<p>5 rows × 23 columns</p>\n",
              "</div>"
            ],
            "text/plain": [
              "   loan_amnt  term  int_rate  installment grade sub_grade  emp_length  \\\n",
              "0     5000.0    36     10.65       162.87     B        B2          10   \n",
              "1     2500.0    60     15.27        59.83     C        C4           0   \n",
              "2     2400.0    36     15.96        84.33     C        C5          10   \n",
              "3    10000.0    36     13.49       339.31     C        C1          10   \n",
              "4     3000.0    60     12.69        67.79     B        B5           1   \n",
              "\n",
              "  home_ownership  annual_inc verification_status  ...  delinq_2yrs  \\\n",
              "0           RENT     24000.0            Verified  ...          0.0   \n",
              "1           RENT     30000.0     Source Verified  ...          0.0   \n",
              "2           RENT     12252.0        Not Verified  ...          0.0   \n",
              "3           RENT     49200.0     Source Verified  ...          0.0   \n",
              "4           RENT     80000.0     Source Verified  ...          0.0   \n",
              "\n",
              "  inq_last_6mths  open_acc  pub_rec  revol_bal  revol_util  \\\n",
              "0            1.0       3.0      0.0    13648.0        83.7   \n",
              "1            5.0       3.0      0.0     1687.0         9.4   \n",
              "2            2.0       2.0      0.0     2956.0        98.5   \n",
              "3            1.0      10.0      0.0     5598.0        21.0   \n",
              "4            0.0      15.0      0.0    27783.0        53.9   \n",
              "\n",
              "   collections_12_mths_ex_med  acc_now_delinq  tot_coll_amt  tot_cur_bal  \n",
              "0                         0.0             0.0           0.0      80559.0  \n",
              "1                         0.0             0.0           0.0      80559.0  \n",
              "2                         0.0             0.0           0.0      80559.0  \n",
              "3                         0.0             0.0           0.0      80559.0  \n",
              "4                         0.0             0.0           0.0      80559.0  \n",
              "\n",
              "[5 rows x 23 columns]"
            ]
          },
          "execution_count": 25,
          "metadata": {},
          "output_type": "execute_result"
        }
      ],
      "source": [
        "df.head()"
      ]
    },
    {
      "cell_type": "code",
      "execution_count": null,
      "metadata": {
        "id": "r3eM0D5f4bln"
      },
      "outputs": [],
      "source": [
        "## se pasan las categoricas a dummies con one-hot encoding\n",
        "\n",
        "from sklearn.preprocessing import OneHotEncoder\n",
        "\n",
        "# Crear el codificador\n",
        "encoder = OneHotEncoder(sparse_output=False, drop='first')\n",
        "\n",
        "# Seleccionar las columnas categóricas\n",
        "categorical_feature = ['home_ownership', 'verification_status','purpose']\n",
        "\n",
        "# Aplicar el encoder a las columnas categóricas\n",
        "encoded = encoder.fit_transform(df[categorical_feature])\n",
        "\n",
        "# Crear un DataFrame con las columnas codificadas\n",
        "encoded_df = pd.DataFrame(encoded, columns=encoder.get_feature_names_out(categorical_feature))\n",
        "\n",
        "# Unir el DataFrame original con el codificado y eliminar las originales\n",
        "df = pd.concat([df.drop(columns=categorical_feature), encoded_df], axis=1)\n",
        "\n",
        "\n",
        "\n",
        "\n",
        "\n",
        "\n",
        "\n",
        "\n"
      ]
    },
    {
      "cell_type": "code",
      "execution_count": null,
      "metadata": {
        "id": "9MEgQztw7P1m"
      },
      "outputs": [],
      "source": [
        "letter_value = {\n",
        "    'A': 7,\n",
        "    'B': 6,\n",
        "    'C': 5,\n",
        "    'D': 4,\n",
        "    'E': 3,\n",
        "    'F': 2,\n",
        "    'G': 1\n",
        "}\n",
        "\n",
        "number_value = {\n",
        "    '1': 0.8,\n",
        "    '2': 0.6,\n",
        "    '3': 0.4,\n",
        "    '4': 0.2,\n",
        "    '5': 0.0\n",
        "}\n",
        "df['sub_grade'] = (\n",
        "    df['sub_grade'].str[0].map(letter_value) +\n",
        "    df['sub_grade'].str[1].map(number_value)\n",
        ")\n",
        "# No incluir la columna grade ya que está incluída en subgrade\n",
        "df.drop(columns=['grade'], inplace=True)"
      ]
    },
    {
      "cell_type": "code",
      "execution_count": null,
      "metadata": {
        "colab": {
          "base_uri": "https://localhost:8080/"
        },
        "id": "2HDaf0AL7XdN",
        "outputId": "123cc02e-9c2b-4c54-9b3c-3b94201a154d"
      },
      "outputs": [
        {
          "name": "stdout",
          "output_type": "stream",
          "text": [
            "['loan_amnt', 'term', 'int_rate', 'installment', 'sub_grade', 'emp_length', 'annual_inc', 'loan_status', 'dti', 'delinq_2yrs', 'inq_last_6mths', 'open_acc', 'pub_rec', 'revol_bal', 'revol_util', 'collections_12_mths_ex_med', 'acc_now_delinq', 'tot_coll_amt', 'tot_cur_bal', 'home_ownership_MORTGAGE', 'home_ownership_NONE', 'home_ownership_OTHER', 'home_ownership_OWN', 'home_ownership_RENT', 'verification_status_Source Verified', 'verification_status_Verified', 'purpose_credit_card', 'purpose_debt_consolidation', 'purpose_educational', 'purpose_home_improvement', 'purpose_house', 'purpose_major_purchase', 'purpose_medical', 'purpose_moving', 'purpose_other', 'purpose_renewable_energy', 'purpose_small_business', 'purpose_vacation', 'purpose_wedding']\n"
          ]
        }
      ],
      "source": [
        "nombres_columnas = df.columns.tolist()\n",
        "\n",
        "print(nombres_columnas)"
      ]
    },
    {
      "cell_type": "code",
      "execution_count": null,
      "metadata": {
        "id": "aISpL_s-AQO_",
        "outputId": "190a53d6-421b-4276-f8c6-7ad4c85af8c0"
      },
      "outputs": [
        {
          "data": {
            "text/html": [
              "<style type=\"text/css\">\n",
              "#T_f725e table {\n",
              "  border: 2px solid black;\n",
              "}\n",
              "#T_f725e th {\n",
              "  border: 1px solid black;\n",
              "}\n",
              "#T_f725e td {\n",
              "  border: 1px solid black;\n",
              "}\n",
              "</style>\n",
              "<table id=\"T_f725e\">\n",
              "  <thead>\n",
              "    <tr>\n",
              "      <th class=\"blank level0\" >&nbsp;</th>\n",
              "      <th id=\"T_f725e_level0_col0\" class=\"col_heading level0 col0\" >Nombre de Columna</th>\n",
              "    </tr>\n",
              "  </thead>\n",
              "  <tbody>\n",
              "    <tr>\n",
              "      <th id=\"T_f725e_level0_row0\" class=\"row_heading level0 row0\" >0</th>\n",
              "      <td id=\"T_f725e_row0_col0\" class=\"data row0 col0\" >loan_amnt</td>\n",
              "    </tr>\n",
              "    <tr>\n",
              "      <th id=\"T_f725e_level0_row1\" class=\"row_heading level0 row1\" >1</th>\n",
              "      <td id=\"T_f725e_row1_col0\" class=\"data row1 col0\" >term</td>\n",
              "    </tr>\n",
              "    <tr>\n",
              "      <th id=\"T_f725e_level0_row2\" class=\"row_heading level0 row2\" >2</th>\n",
              "      <td id=\"T_f725e_row2_col0\" class=\"data row2 col0\" >int_rate</td>\n",
              "    </tr>\n",
              "    <tr>\n",
              "      <th id=\"T_f725e_level0_row3\" class=\"row_heading level0 row3\" >3</th>\n",
              "      <td id=\"T_f725e_row3_col0\" class=\"data row3 col0\" >installment</td>\n",
              "    </tr>\n",
              "    <tr>\n",
              "      <th id=\"T_f725e_level0_row4\" class=\"row_heading level0 row4\" >4</th>\n",
              "      <td id=\"T_f725e_row4_col0\" class=\"data row4 col0\" >sub_grade</td>\n",
              "    </tr>\n",
              "    <tr>\n",
              "      <th id=\"T_f725e_level0_row5\" class=\"row_heading level0 row5\" >5</th>\n",
              "      <td id=\"T_f725e_row5_col0\" class=\"data row5 col0\" >emp_length</td>\n",
              "    </tr>\n",
              "    <tr>\n",
              "      <th id=\"T_f725e_level0_row6\" class=\"row_heading level0 row6\" >6</th>\n",
              "      <td id=\"T_f725e_row6_col0\" class=\"data row6 col0\" >annual_inc</td>\n",
              "    </tr>\n",
              "    <tr>\n",
              "      <th id=\"T_f725e_level0_row7\" class=\"row_heading level0 row7\" >7</th>\n",
              "      <td id=\"T_f725e_row7_col0\" class=\"data row7 col0\" >loan_status</td>\n",
              "    </tr>\n",
              "    <tr>\n",
              "      <th id=\"T_f725e_level0_row8\" class=\"row_heading level0 row8\" >8</th>\n",
              "      <td id=\"T_f725e_row8_col0\" class=\"data row8 col0\" >dti</td>\n",
              "    </tr>\n",
              "    <tr>\n",
              "      <th id=\"T_f725e_level0_row9\" class=\"row_heading level0 row9\" >9</th>\n",
              "      <td id=\"T_f725e_row9_col0\" class=\"data row9 col0\" >delinq_2yrs</td>\n",
              "    </tr>\n",
              "    <tr>\n",
              "      <th id=\"T_f725e_level0_row10\" class=\"row_heading level0 row10\" >10</th>\n",
              "      <td id=\"T_f725e_row10_col0\" class=\"data row10 col0\" >inq_last_6mths</td>\n",
              "    </tr>\n",
              "    <tr>\n",
              "      <th id=\"T_f725e_level0_row11\" class=\"row_heading level0 row11\" >11</th>\n",
              "      <td id=\"T_f725e_row11_col0\" class=\"data row11 col0\" >open_acc</td>\n",
              "    </tr>\n",
              "    <tr>\n",
              "      <th id=\"T_f725e_level0_row12\" class=\"row_heading level0 row12\" >12</th>\n",
              "      <td id=\"T_f725e_row12_col0\" class=\"data row12 col0\" >pub_rec</td>\n",
              "    </tr>\n",
              "    <tr>\n",
              "      <th id=\"T_f725e_level0_row13\" class=\"row_heading level0 row13\" >13</th>\n",
              "      <td id=\"T_f725e_row13_col0\" class=\"data row13 col0\" >revol_bal</td>\n",
              "    </tr>\n",
              "    <tr>\n",
              "      <th id=\"T_f725e_level0_row14\" class=\"row_heading level0 row14\" >14</th>\n",
              "      <td id=\"T_f725e_row14_col0\" class=\"data row14 col0\" >revol_util</td>\n",
              "    </tr>\n",
              "    <tr>\n",
              "      <th id=\"T_f725e_level0_row15\" class=\"row_heading level0 row15\" >15</th>\n",
              "      <td id=\"T_f725e_row15_col0\" class=\"data row15 col0\" >collections_12_mths_ex_med</td>\n",
              "    </tr>\n",
              "    <tr>\n",
              "      <th id=\"T_f725e_level0_row16\" class=\"row_heading level0 row16\" >16</th>\n",
              "      <td id=\"T_f725e_row16_col0\" class=\"data row16 col0\" >acc_now_delinq</td>\n",
              "    </tr>\n",
              "    <tr>\n",
              "      <th id=\"T_f725e_level0_row17\" class=\"row_heading level0 row17\" >17</th>\n",
              "      <td id=\"T_f725e_row17_col0\" class=\"data row17 col0\" >tot_coll_amt</td>\n",
              "    </tr>\n",
              "    <tr>\n",
              "      <th id=\"T_f725e_level0_row18\" class=\"row_heading level0 row18\" >18</th>\n",
              "      <td id=\"T_f725e_row18_col0\" class=\"data row18 col0\" >tot_cur_bal</td>\n",
              "    </tr>\n",
              "    <tr>\n",
              "      <th id=\"T_f725e_level0_row19\" class=\"row_heading level0 row19\" >19</th>\n",
              "      <td id=\"T_f725e_row19_col0\" class=\"data row19 col0\" >home_ownership</td>\n",
              "    </tr>\n",
              "    <tr>\n",
              "      <th id=\"T_f725e_level0_row20\" class=\"row_heading level0 row20\" >20</th>\n",
              "      <td id=\"T_f725e_row20_col0\" class=\"data row20 col0\" >purpose_wedding</td>\n",
              "    </tr>\n",
              "  </tbody>\n",
              "</table>\n"
            ],
            "text/plain": [
              "<pandas.io.formats.style.Styler at 0x2219f415f70>"
            ]
          },
          "execution_count": 28,
          "metadata": {},
          "output_type": "execute_result"
        }
      ],
      "source": [
        "import pandas as pd\n",
        "\n",
        "# Lista de nombres de columnas\n",
        "columnas = [\n",
        "    'loan_amnt', 'term', 'int_rate', 'installment', 'sub_grade', 'emp_length',\n",
        "    'annual_inc', 'loan_status', 'dti', 'delinq_2yrs', 'inq_last_6mths',\n",
        "    'open_acc', 'pub_rec', 'revol_bal', 'revol_util', 'collections_12_mths_ex_med',\n",
        "    'acc_now_delinq', 'tot_coll_amt', 'tot_cur_bal', 'home_ownership',\n",
        "    'purpose_wedding'\n",
        "]\n",
        "\n",
        "# Crear un DataFrame con una sola columna\n",
        "df_columnas = pd.DataFrame(columnas, columns=['Nombre de Columna'])\n",
        "\n",
        "# Aplicar estilos para agregar bordes alrededor de la tabla\n",
        "df_columnas = df_columnas.style.set_table_styles(\n",
        "    [{'selector': 'table',\n",
        "      'props': [('border', '2px solid black')]},\n",
        "     {'selector': 'th',\n",
        "      'props': [('border', '1px solid black')]},\n",
        "     {'selector': 'td',\n",
        "      'props': [('border', '1px solid black')]}]\n",
        ")\n",
        "\n",
        "# Mostrar el DataFrame con bordes\n",
        "df_columnas\n"
      ]
    },
    {
      "cell_type": "markdown",
      "metadata": {
        "id": "LVJjfFnKZ2Ft"
      },
      "source": [
        "## Random Forest"
      ]
    },
    {
      "cell_type": "markdown",
      "metadata": {
        "id": "mJw0oMtkAQPA"
      },
      "source": [
        "Gracias a la alta interpretabilidad de los modelos basados en árboles se entrenaran modelos para ver el comportamiento de estos en los datos y además para verificar el impacto de las variables elegidas en el target y en caso de variables con poco impacto depurarlas"
      ]
    },
    {
      "cell_type": "code",
      "execution_count": null,
      "metadata": {
        "id": "PSUjcSo27fV8"
      },
      "outputs": [],
      "source": [
        "## seleccionar las mejores variables por medio de un random forest\n",
        "from sklearn.model_selection import train_test_split\n",
        "from sklearn.metrics import confusion_matrix, ConfusionMatrixDisplay\n",
        "\n",
        "X = df.drop(columns=['loan_status'])  # Todas las columnas excepto 'loan_status'\n",
        "y = df['loan_status']\n",
        "\n",
        "\n",
        "X_train, X_test, y_train, y_test = train_test_split(X, y, test_size=0.2, random_state=0, stratify=y,)\n",
        "\n",
        "\n"
      ]
    },
    {
      "cell_type": "code",
      "execution_count": null,
      "metadata": {
        "id": "vJknuuTmAQPB"
      },
      "outputs": [],
      "source": [
        "print()"
      ]
    },
    {
      "cell_type": "code",
      "execution_count": null,
      "metadata": {
        "id": "Dj4Mn0oPTI-9",
        "outputId": "abe7e4df-b89d-47ab-95f6-76a667716bd0"
      },
      "outputs": [
        {
          "name": "stdout",
          "output_type": "stream",
          "text": [
            "Collecting imbalanced-learn\n",
            "  Downloading imbalanced_learn-0.13.0-py3-none-any.whl.metadata (8.8 kB)\n",
            "Requirement already satisfied: numpy<3,>=1.24.3 in c:\\users\\57323\\appdata\\local\\programs\\python\\python312\\lib\\site-packages (from imbalanced-learn) (1.26.4)\n",
            "Requirement already satisfied: scipy<2,>=1.10.1 in c:\\users\\57323\\appdata\\local\\programs\\python\\python312\\lib\\site-packages (from imbalanced-learn) (1.14.1)\n",
            "Requirement already satisfied: scikit-learn<2,>=1.3.2 in c:\\users\\57323\\appdata\\local\\programs\\python\\python312\\lib\\site-packages (from imbalanced-learn) (1.5.2)\n",
            "Collecting sklearn-compat<1,>=0.1 (from imbalanced-learn)\n",
            "  Downloading sklearn_compat-0.1.3-py3-none-any.whl.metadata (18 kB)\n",
            "Requirement already satisfied: joblib<2,>=1.1.1 in c:\\users\\57323\\appdata\\local\\programs\\python\\python312\\lib\\site-packages (from imbalanced-learn) (1.4.2)\n",
            "Requirement already satisfied: threadpoolctl<4,>=2.0.0 in c:\\users\\57323\\appdata\\local\\programs\\python\\python312\\lib\\site-packages (from imbalanced-learn) (3.5.0)\n",
            "Downloading imbalanced_learn-0.13.0-py3-none-any.whl (238 kB)\n",
            "Downloading sklearn_compat-0.1.3-py3-none-any.whl (18 kB)\n",
            "Installing collected packages: sklearn-compat, imbalanced-learn\n",
            "Successfully installed imbalanced-learn-0.13.0 sklearn-compat-0.1.3\n",
            "Note: you may need to restart the kernel to use updated packages.\n"
          ]
        },
        {
          "name": "stderr",
          "output_type": "stream",
          "text": [
            "\n",
            "[notice] A new release of pip is available: 24.2 -> 24.3.1\n",
            "[notice] To update, run: python.exe -m pip install --upgrade pip\n"
          ]
        }
      ],
      "source": [
        "%pip install imbalanced-learn"
      ]
    },
    {
      "cell_type": "code",
      "execution_count": null,
      "metadata": {
        "id": "zGNN34uo8rkq"
      },
      "outputs": [],
      "source": [
        "from sklearn.ensemble import RandomForestClassifier\n",
        "\n",
        "\n",
        "\n",
        "# Entrenamos un modelo RandomForest\n",
        "#rf = RandomForestClassifier(n_estimators=100, random_state=0, class_weight='balanced')\n",
        "#rf.fit(X_train, y_train)\n",
        "\n",
        "# Extraemos la importancia de las características\n",
        "#feature_importances = rf.feature_importances_\n",
        "\n",
        "# Mostrar las características y sus importancias\n",
        "\n",
        "#importance_df = pd.DataFrame({\n",
        "#    'Feature': X.columns,\n",
        "#    'Importance': feature_importances\n",
        "#})\n",
        "#importance_df = importance_df.sort_values(by='Importance', ascending=False)\n",
        "#print(importance_df)\n"
      ]
    },
    {
      "cell_type": "code",
      "execution_count": null,
      "metadata": {
        "colab": {
          "base_uri": "https://localhost:8080/",
          "height": 178
        },
        "id": "YwPYsGQ4TI-9",
        "outputId": "b5e189f3-bd38-4a5d-c001-038162cfd247"
      },
      "outputs": [
        {
          "data": {
            "text/plain": [
              "loan_status\n",
              "1    828560\n",
              "0     58819\n",
              "Name: count, dtype: int64"
            ]
          },
          "execution_count": 30,
          "metadata": {},
          "output_type": "execute_result"
        }
      ],
      "source": [
        "df[\"loan_status\"].value_counts()"
      ]
    },
    {
      "cell_type": "code",
      "execution_count": null,
      "metadata": {
        "id": "zgMX62sDAQPJ",
        "outputId": "53b8be54-9fbe-4678-a08f-cc2c8733bde9"
      },
      "outputs": [
        {
          "data": {
            "image/png": "[encoded data removed]",
            "text/plain": [
              "<Figure size 700x700 with 1 Axes>"
            ]
          },
          "metadata": {},
          "output_type": "display_data"
        }
      ],
      "source": [
        "import matplotlib.pyplot as plt\n",
        "\n",
        "# Contamos los valores de 'loan_status' y calculamos el porcentaje\n",
        "loan_status_counts = df['loan_status'].value_counts(normalize=True) * 100\n",
        "\n",
        "# Mapeamos los valores 1 y 0 a las etiquetas 'cumple' e 'incumple'\n",
        "labels = ['Cumple' if label == 1 else 'Incumple' for label in loan_status_counts.index]\n",
        "\n",
        "# Creamos el gráfico de torta\n",
        "plt.figure(figsize=(7, 7))\n",
        "plt.pie(loan_status_counts, labels=labels, autopct='%1.1f%%', startangle=90, colors=['#4CAF50', '#FF6347'])\n",
        "plt.title('Desbalanceo variable Loan_Status')\n",
        "plt.show()\n"
      ]
    },
    {
      "cell_type": "code",
      "execution_count": null,
      "metadata": {
        "id": "3oSNpU8jjv65"
      },
      "outputs": [],
      "source": [
        "from sklearn.metrics import accuracy_score, f1_score, precision_score, classification_report\n",
        "\n",
        "\n",
        "# Realizar predicciones en el conjunto de prueba\n",
        "#y_pred = rf.predict(X_test)\n",
        "\n",
        "# Generar la matriz de confusión\n",
        "#cm = confusion_matrix(y_test, y_pred)\n",
        "\n",
        "# Mostrar la matriz de confusión\n",
        "#disp = ConfusionMatrixDisplay(confusion_matrix=cm)\n",
        "#disp.plot()\n",
        "\n",
        "\n",
        "#print(f\"Accuracy: {accuracy_score(y_test, y_pred)}\")\n",
        "#print(f\"F1 Score: {f1_score(y_test, y_pred)}\")\n",
        "#print(f\"Precision: {precision_score(y_test, y_pred)}\")\n",
        "#print(classification_report(y_test, y_pred))"
      ]
    },
    {
      "cell_type": "markdown",
      "metadata": {
        "id": "oMV7_QAXAQPK"
      },
      "source": [
        "Realizar un balanceo de clases por método de undersampling para ver su comportamiento. El undersampling solo se realizará en los datos de entrenamiento"
      ]
    },
    {
      "cell_type": "code",
      "execution_count": null,
      "metadata": {
        "colab": {
          "base_uri": "https://localhost:8080/"
        },
        "id": "FmykjJ7TTI-9",
        "outputId": "2486fcd5-3814-4878-b8f0-7a33215df4da"
      },
      "outputs": [
        {
          "name": "stdout",
          "output_type": "stream",
          "text": [
            "                                Feature  Importance\n",
            "2                              int_rate    0.142841\n",
            "17                          tot_cur_bal    0.089588\n",
            "7                                   dti    0.078249\n",
            "12                            revol_bal    0.077197\n",
            "13                           revol_util    0.076500\n",
            "6                            annual_inc    0.075384\n",
            "4                             sub_grade    0.075171\n",
            "3                           installment    0.072481\n",
            "0                             loan_amnt    0.060308\n",
            "10                             open_acc    0.054188\n",
            "5                            emp_length    0.041471\n",
            "9                        inq_last_6mths    0.026264\n",
            "16                         tot_coll_amt    0.016298\n",
            "8                           delinq_2yrs    0.015244\n",
            "11                              pub_rec    0.010651\n",
            "24         verification_status_Verified    0.010116\n",
            "26           purpose_debt_consolidation    0.009717\n",
            "1                                  term    0.008824\n",
            "23  verification_status_Source Verified    0.008691\n",
            "25                  purpose_credit_card    0.008250\n",
            "22                  home_ownership_RENT    0.007489\n",
            "18              home_ownership_MORTGAGE    0.007272\n",
            "21                   home_ownership_OWN    0.005448\n",
            "28             purpose_home_improvement    0.004596\n",
            "33                        purpose_other    0.004502\n",
            "35               purpose_small_business    0.002896\n",
            "30               purpose_major_purchase    0.002383\n",
            "31                      purpose_medical    0.001663\n",
            "14           collections_12_mths_ex_med    0.001590\n",
            "32                       purpose_moving    0.001091\n",
            "36                     purpose_vacation    0.000939\n",
            "37                      purpose_wedding    0.000799\n",
            "29                        purpose_house    0.000747\n",
            "15                       acc_now_delinq    0.000673\n",
            "34             purpose_renewable_energy    0.000252\n",
            "27                  purpose_educational    0.000124\n",
            "20                 home_ownership_OTHER    0.000090\n",
            "19                  home_ownership_NONE    0.000010\n",
            "['purpose_home_improvement', 'purpose_other', 'purpose_small_business', 'purpose_major_purchase', 'purpose_medical', 'collections_12_mths_ex_med', 'purpose_moving', 'purpose_vacation', 'purpose_wedding', 'purpose_house', 'acc_now_delinq', 'purpose_renewable_energy', 'purpose_educational', 'home_ownership_OTHER', 'home_ownership_NONE']\n"
          ]
        }
      ],
      "source": [
        "from imblearn.under_sampling import RandomUnderSampler\n",
        "from sklearn.ensemble import RandomForestClassifier\n",
        "\n",
        "rus = RandomUnderSampler(random_state=0)\n",
        "\n",
        "# 3. Ajustar y transformar SOLO el conjunto de entrenamiento\n",
        "X_train_rus, y_train_rus = rus.fit_resample(X_train, y_train)\n",
        "\n",
        "# Entrenamos un modelo RandomForest\n",
        "rf_rus = RandomForestClassifier(n_estimators=100, random_state=0, class_weight='balanced')\n",
        "rf_rus.fit(X_train_rus, y_train_rus)\n",
        "\n",
        "# Extraemos la importancia de las características\n",
        "feature_importances_rus = rf_rus.feature_importances_\n",
        "\n",
        "# Mostrar las características y sus importancias\n",
        "importance_df_rus = pd.DataFrame({\n",
        "    'Feature': X.columns,\n",
        "    'Importance': feature_importances_rus\n",
        "})\n",
        "importance_df_rus = importance_df_rus.sort_values(by='Importance', ascending=False)\n",
        "print(importance_df_rus)\n",
        "\n",
        "# Definir el umbral que dean mayores a 0.005\n",
        "threshold = 0.005\n",
        "\n",
        "# Extraer las columnas seleccionadas en función de su importancia\n",
        "no_selected_features = importance_df_rus[importance_df_rus['Importance'] < threshold]['Feature'].tolist()\n",
        "\n",
        "print(no_selected_features)"
      ]
    },
    {
      "cell_type": "code",
      "execution_count": null,
      "metadata": {
        "id": "Mg4PxIayAQPL"
      },
      "outputs": [],
      "source": [
        "## se elminan las variable snuméricas con una importancia menor a 0.005 (la scategóricas no ya que la suma de la importancia es mayor a 0.005)\n",
        "\n",
        "X_train_rus = X_train_rus.drop(columns=['acc_now_delinq' ,'collections_12_mths_ex_med'])\n",
        "\n",
        "X_test=X_test.drop(columns=['acc_now_delinq' ,'collections_12_mths_ex_med'])"
      ]
    },
    {
      "cell_type": "code",
      "execution_count": null,
      "metadata": {
        "id": "rh4VJJiHAQPM",
        "outputId": "569978a1-70b3-44c1-ee3f-06f4f7037e13"
      },
      "outputs": [
        {
          "name": "stdout",
          "output_type": "stream",
          "text": [
            "Columnas de X_train_rus:\n",
            "Index(['loan_amnt', 'term', 'int_rate', 'installment', 'sub_grade',\n",
            "       'emp_length', 'annual_inc', 'dti', 'delinq_2yrs', 'inq_last_6mths',\n",
            "       'open_acc', 'pub_rec', 'revol_bal', 'revol_util', 'tot_coll_amt',\n",
            "       'tot_cur_bal', 'home_ownership_MORTGAGE', 'home_ownership_NONE',\n",
            "       'home_ownership_OTHER', 'home_ownership_OWN', 'home_ownership_RENT',\n",
            "       'verification_status_Source Verified', 'verification_status_Verified',\n",
            "       'purpose_credit_card', 'purpose_debt_consolidation',\n",
            "       'purpose_educational', 'purpose_home_improvement', 'purpose_house',\n",
            "       'purpose_major_purchase', 'purpose_medical', 'purpose_moving',\n",
            "       'purpose_other', 'purpose_renewable_energy', 'purpose_small_business',\n",
            "       'purpose_vacation', 'purpose_wedding'],\n",
            "      dtype='object')\n",
            "\n",
            "Columnas de X_test:\n",
            "Index(['loan_amnt', 'term', 'int_rate', 'installment', 'sub_grade',\n",
            "       'emp_length', 'annual_inc', 'dti', 'delinq_2yrs', 'inq_last_6mths',\n",
            "       'open_acc', 'pub_rec', 'revol_bal', 'revol_util', 'tot_coll_amt',\n",
            "       'tot_cur_bal', 'home_ownership_MORTGAGE', 'home_ownership_NONE',\n",
            "       'home_ownership_OTHER', 'home_ownership_OWN', 'home_ownership_RENT',\n",
            "       'verification_status_Source Verified', 'verification_status_Verified',\n",
            "       'purpose_credit_card', 'purpose_debt_consolidation',\n",
            "       'purpose_educational', 'purpose_home_improvement', 'purpose_house',\n",
            "       'purpose_major_purchase', 'purpose_medical', 'purpose_moving',\n",
            "       'purpose_other', 'purpose_renewable_energy', 'purpose_small_business',\n",
            "       'purpose_vacation', 'purpose_wedding'],\n",
            "      dtype='object')\n"
          ]
        }
      ],
      "source": [
        "## varaibles definitivas para el modelo en total 19\n",
        "\n",
        "# Para X_train_rus\n",
        "print(\"Columnas de X_train_rus:\")\n",
        "print(X_train_rus.columns)\n",
        "\n",
        "# Para X_test\n",
        "print(\"\\nColumnas de X_test:\")\n",
        "print(X_test.columns)\n"
      ]
    },
    {
      "cell_type": "markdown",
      "metadata": {
        "id": "8Iz7rHgRTI--"
      },
      "source": [
        "Balanceando exactamente 1 a 1:\n",
        "![image.png](attachment:image.png)"
      ]
    },
    {
      "cell_type": "code",
      "execution_count": null,
      "metadata": {
        "colab": {
          "base_uri": "https://localhost:8080/",
          "height": 666
        },
        "id": "-3V_ym8tTI--",
        "outputId": "fb9725dc-5001-4066-b820-6c2a15b40c25"
      },
      "outputs": [
        {
          "name": "stdout",
          "output_type": "stream",
          "text": [
            "Accuracy: 0.6553843900020284\n",
            "F1 Score: 0.7787412769559696\n",
            "Precision: 0.972179819530128\n",
            "              precision    recall  f1-score   support\n",
            "\n",
            "           0       0.13      0.74      0.22     11764\n",
            "           1       0.97      0.65      0.78    165712\n",
            "\n",
            "    accuracy                           0.66    177476\n",
            "   macro avg       0.55      0.69      0.50    177476\n",
            "weighted avg       0.92      0.66      0.74    177476\n",
            "\n"
          ]
        },
        {
          "data": {
            "image/png": "[encoded data removed]",
            "text/plain": [
              "<Figure size 640x480 with 2 Axes>"
            ]
          },
          "metadata": {},
          "output_type": "display_data"
        }
      ],
      "source": [
        "from sklearn.metrics import accuracy_score, f1_score, precision_score, classification_report\n",
        "\n",
        "\n",
        "# Realizar predicciones en el conjunto de prueba\n",
        "y_pred_rus = rf_rus.predict(X_test)\n",
        "\n",
        "# Generar la matriz de confusión\n",
        "cm_rus = confusion_matrix(y_test, y_pred_rus)\n",
        "\n",
        "# Mostrar la matriz de confusión\n",
        "disp_rus = ConfusionMatrixDisplay(confusion_matrix=cm_rus)\n",
        "disp_rus.plot()\n",
        "\n",
        "\n",
        "print(f\"Accuracy: {accuracy_score(y_test, y_pred_rus)}\")\n",
        "print(f\"F1 Score: {f1_score(y_test, y_pred_rus)}\")\n",
        "print(f\"Precision: {precision_score(y_test, y_pred_rus)}\")\n",
        "print(classification_report(y_test, y_pred_rus))"
      ]
    },
    {
      "cell_type": "code",
      "execution_count": null,
      "metadata": {
        "id": "6G_Xk4-bTI--",
        "outputId": "9303ab2c-080f-4caa-de20-2ef1366ae21b"
      },
      "outputs": [
        {
          "name": "stdout",
          "output_type": "stream",
          "text": [
            "(709903, 38)\n"
          ]
        }
      ],
      "source": [
        "print(X_train.shape)"
      ]
    },
    {
      "cell_type": "code",
      "execution_count": null,
      "metadata": {
        "colab": {
          "base_uri": "https://localhost:8080/"
        },
        "id": "MLlPvVDfZ5Ls",
        "outputId": "2d95cde2-8cef-48ba-adab-be8ede545cef"
      },
      "outputs": [
        {
          "name": "stdout",
          "output_type": "stream",
          "text": [
            "(94110, 36)\n",
            "(177476, 36)\n"
          ]
        }
      ],
      "source": [
        "print(X_train_rus.shape)\n",
        "print(X_test.shape)"
      ]
    },
    {
      "cell_type": "code",
      "execution_count": null,
      "metadata": {
        "id": "n8ZRkKbFTI_A",
        "outputId": "7dccd48a-3b88-46bf-c3f0-0a84b5a8d97d"
      },
      "outputs": [
        {
          "name": "stdout",
          "output_type": "stream",
          "text": [
            "Forma de X_train_rus: (94110, 36)\n",
            "Forma de X_test: (177476, 36)\n"
          ]
        },
        {
          "data": {
            "image/png": "[encoded data removed]",
            "text/plain": [
              "<Figure size 640x480 with 1 Axes>"
            ]
          },
          "metadata": {},
          "output_type": "display_data"
        }
      ],
      "source": [
        "import matplotlib.pyplot as plt\n",
        "\n",
        "# Imprimir las formas de los conjuntos de datos\n",
        "print(\"Forma de X_train_rus:\", X_train_rus.shape)\n",
        "print(\"Forma de X_test:\", X_test.shape)\n",
        "\n",
        "# Calcular los tamaños en porcentaje\n",
        "train_size = X_train_rus.shape[0]\n",
        "test_size = X_test.shape[0]\n",
        "total_size = train_size + test_size\n",
        "\n",
        "train_percentage = (train_size / total_size) * 100\n",
        "test_percentage = (test_size / total_size) * 100\n",
        "\n",
        "# Crear el gráfico de barras\n",
        "labels = ['Train', 'Test']\n",
        "percentages = [train_percentage, test_percentage]\n",
        "sizes = [train_size, test_size]\n",
        "\n",
        "plt.bar(labels, percentages, color=['#4CAF50', '#FF6347'])\n",
        "plt.title('Distribución de Train y Test')\n",
        "plt.ylabel('Porcentaje (%)')\n",
        "plt.ylim(0, 100)\n",
        "\n",
        "# Anotar los números sobre las barras\n",
        "for i, size in enumerate(sizes):\n",
        "    plt.text(i, percentages[i] + 2, str(size), ha='center', va='bottom', fontsize=10)\n",
        "\n",
        "plt.show()\n",
        "\n"
      ]
    },
    {
      "cell_type": "markdown",
      "metadata": {
        "id": "1HlKIO09AQPV"
      },
      "source": [
        "## Exploración de árbol utilizando OHE de \"emp_title\""
      ]
    },
    {
      "cell_type": "markdown",
      "metadata": {
        "id": "4J0KPDd1AQPV"
      },
      "source": [
        "Crear un nuevo dataframe con la columna \"emp_title\", previamente había sido guardada al ser eliminada del dataframe original:"
      ]
    },
    {
      "cell_type": "code",
      "execution_count": null,
      "metadata": {
        "id": "f8sne3prAQP-",
        "outputId": "b2354387-88ea-44e0-b761-3b2ccc52cc0f"
      },
      "outputs": [
        {
          "name": "stdout",
          "output_type": "stream",
          "text": [
            "887379\n",
            "(887379, 39)\n"
          ]
        }
      ],
      "source": [
        "print(len(emp_title))\n",
        "print(df.shape)"
      ]
    },
    {
      "cell_type": "code",
      "execution_count": null,
      "metadata": {
        "id": "87e7As06AQQA"
      },
      "outputs": [],
      "source": [
        "cluster_labels = np.loadtxt('cluster_labels.csv', delimiter=',', skiprows=0).astype(int)"
      ]
    },
    {
      "cell_type": "markdown",
      "metadata": {
        "id": "vSILxzJTAQQA"
      },
      "source": [
        "Leer los labels previamente calculados"
      ]
    },
    {
      "cell_type": "code",
      "execution_count": null,
      "metadata": {
        "id": "qVAx7FIkAQQB"
      },
      "outputs": [],
      "source": [
        "df_emp_hot = df.copy()\n",
        "df_emp_hot[\"job_cluster\"] = cluster_labels"
      ]
    },
    {
      "cell_type": "code",
      "execution_count": null,
      "metadata": {
        "id": "jbcj8ubnAQQB",
        "outputId": "e6c416ce-4e1f-42fd-e0d6-7b81f0a7eaa5"
      },
      "outputs": [
        {
          "name": "stdout",
          "output_type": "stream",
          "text": [
            "(887379, 40)\n",
            "(887379, 39)\n"
          ]
        }
      ],
      "source": [
        "print(df_emp_hot.shape)\n",
        "print(df.shape)"
      ]
    },
    {
      "cell_type": "code",
      "execution_count": null,
      "metadata": {
        "id": "W1LkDY20MKF2"
      },
      "outputs": [],
      "source": [
        "df_emp_hot['job_cluster'] = cluster_labels\n",
        "dummies = pd.get_dummies(df_emp_hot['job_cluster'], prefix='job_cluster')\n",
        "df_emp_hot = pd.concat([df_emp_hot, dummies], axis=1)\n",
        "df_emp_hot.drop('job_cluster', axis=1, inplace=True)"
      ]
    },
    {
      "cell_type": "code",
      "execution_count": null,
      "metadata": {
        "id": "vO1nubOUPtOw"
      },
      "outputs": [],
      "source": [
        "X_hot = df_emp_hot.drop(columns=['loan_status'])  # Todas las columnas excepto 'loan_status'\n",
        "y_hot = df_emp_hot['loan_status']\n",
        "\n",
        "\n",
        "X_train_hot, X_test_hot, y_train_hot, y_test_hot = train_test_split(X_hot, y_hot, test_size=0.2, random_state=0, stratify=y,)"
      ]
    },
    {
      "cell_type": "code",
      "execution_count": null,
      "metadata": {
        "colab": {
          "base_uri": "https://localhost:8080/"
        },
        "id": "Zx4YJDP-PqBT",
        "outputId": "6354c0d2-3be0-4bc2-8dfa-495b52b3c790"
      },
      "outputs": [
        {
          "name": "stdout",
          "output_type": "stream",
          "text": [
            "                     Feature  Importance\n",
            "2                   int_rate    0.129519\n",
            "17               tot_cur_bal    0.074614\n",
            "4                  sub_grade    0.070093\n",
            "7                        dti    0.067847\n",
            "6                 annual_inc    0.067457\n",
            "..                       ...         ...\n",
            "15            acc_now_delinq    0.000638\n",
            "34  purpose_renewable_energy    0.000228\n",
            "27       purpose_educational    0.000129\n",
            "20      home_ownership_OTHER    0.000086\n",
            "19       home_ownership_NONE    0.000006\n",
            "\n",
            "[68 rows x 2 columns]\n"
          ]
        }
      ],
      "source": [
        "rus_hot = RandomUnderSampler(random_state=0)\n",
        "\n",
        "# 3. Ajustar y transformar SOLO el conjunto de entrenamiento\n",
        "X_train_rus_hot, y_train_rus_hot = rus_hot.fit_resample(X_train_hot, y_train_hot)\n",
        "\n",
        "# Entrenamos un modelo RandomForest\n",
        "rf_rus_hot = RandomForestClassifier(n_estimators=100, random_state=0, class_weight='balanced')\n",
        "rf_rus_hot.fit(X_train_rus_hot, y_train_rus_hot)\n",
        "\n",
        "# Extraemos la importancia de las características\n",
        "feature_importances_rus_hot = rf_rus_hot.feature_importances_\n",
        "\n",
        "# Mostrar las características y sus importancias\n",
        "importance_df_rus_hot = pd.DataFrame({\n",
        "    'Feature': X_hot.columns,\n",
        "    'Importance': feature_importances_rus_hot\n",
        "})\n",
        "importance_df_rus_hot = importance_df_rus_hot.sort_values(by='Importance', ascending=False)\n",
        "print(importance_df_rus_hot)"
      ]
    },
    {
      "cell_type": "code",
      "execution_count": null,
      "metadata": {
        "colab": {
          "base_uri": "https://localhost:8080/",
          "height": 666
        },
        "id": "kNifOTyzPqa5",
        "outputId": "0b321afe-c966-4a9e-a84b-eb6609c98018"
      },
      "outputs": [
        {
          "name": "stdout",
          "output_type": "stream",
          "text": [
            "Accuracy: 0.6557337330117875\n",
            "F1 Score: 0.7789607730349436\n",
            "Precision: 0.9724854342622284\n",
            "              precision    recall  f1-score   support\n",
            "\n",
            "           0       0.13      0.74      0.22     11764\n",
            "           1       0.97      0.65      0.78    165712\n",
            "\n",
            "    accuracy                           0.66    177476\n",
            "   macro avg       0.55      0.70      0.50    177476\n",
            "weighted avg       0.92      0.66      0.74    177476\n",
            "\n"
          ]
        },
        {
          "data": {
            "image/png": "[encoded data removed]",
            "text/plain": [
              "<Figure size 640x480 with 2 Axes>"
            ]
          },
          "metadata": {},
          "output_type": "display_data"
        }
      ],
      "source": [
        "# Realizar predicciones en el conjunto de prueba\n",
        "y_pred_rus_hot = rf_rus_hot.predict(X_test_hot)\n",
        "\n",
        "# Generar la matriz de confusión\n",
        "cm_rus_hot = confusion_matrix(y_test_hot, y_pred_rus_hot)\n",
        "\n",
        "# Mostrar la matriz de confusión\n",
        "disp_rus_hot = ConfusionMatrixDisplay(confusion_matrix=cm_rus_hot)\n",
        "disp_rus_hot.plot()\n",
        "\n",
        "\n",
        "print(f\"Accuracy: {accuracy_score(y_test_hot, y_pred_rus_hot)}\")\n",
        "print(f\"F1 Score: {f1_score(y_test_hot, y_pred_rus_hot)}\")\n",
        "print(f\"Precision: {precision_score(y_test_hot, y_pred_rus_hot)}\")\n",
        "print(classification_report(y_test_hot, y_pred_rus_hot))"
      ]
    },
    {
      "cell_type": "code",
      "execution_count": null,
      "metadata": {
        "colab": {
          "base_uri": "https://localhost:8080/"
        },
        "id": "Ns2e3gn-Vxul",
        "outputId": "fe670f10-48cd-490d-e3e8-9a21007518a2"
      },
      "outputs": [
        {
          "data": {
            "text/plain": [
              "(887379, 69)"
            ]
          },
          "execution_count": 55,
          "metadata": {},
          "output_type": "execute_result"
        }
      ],
      "source": [
        "df_emp_hot.shape"
      ]
    },
    {
      "cell_type": "markdown",
      "metadata": {
        "id": "WBCN2W2sShLo"
      },
      "source": [
        "Se ve un pequeño incremento por lo que no se puede decir que está aportando demasiado al modelo además se eligió un numero de clusters no muy alto e incrementa la dimension de los datos a 69 columnas."
      ]
    },
    {
      "cell_type": "markdown",
      "metadata": {
        "id": "QD5st-E4AQQE"
      },
      "source": [
        "## Estrategias a realizar."
      ]
    },
    {
      "cell_type": "code",
      "execution_count": null,
      "metadata": {
        "id": "KyVNgRvzAQQF",
        "outputId": "7a16c0c0-36e0-44bc-bedf-00bdc6fa5cf1"
      },
      "outputs": [
        {
          "data": {
            "text/plain": [
              "loan_status\n",
              "1    828560\n",
              "0     58819\n",
              "Name: count, dtype: int64"
            ]
          },
          "execution_count": 36,
          "metadata": {},
          "output_type": "execute_result"
        }
      ],
      "source": [
        "df[\"loan_status\"].value_counts()"
      ]
    },
    {
      "cell_type": "markdown",
      "metadata": {
        "id": "dq4m1hZ1AQQF"
      },
      "source": [
        "Se evidencia el alto desbalance que hay en el target y que al realizar un balanceo obtenemos un mejor resultado en detectar aquellos clientes que pueden incurrir en un impago(Valor de Recall en label 0) siendo una perdida para el banco. Primero se obtuvieron métricas muy altas debido al balanceo desbalanceo del target ya que el modelo estaba en la gran mayoría de casos prediciendo el label 1 pero al realizar el balanceo de la clase por el método de under-sampling se obtuvieron mejores resultados sin embargo al realizarlo se tienen más datos de prueba que de entrenamiento.\n",
        "\n",
        "Gracias a la gran cantidad de datos que se tienen en el dataset se puede realizar un undersampling y continuar teniendo un muy buen número de datos."
      ]
    },
    {
      "cell_type": "code",
      "execution_count": null,
      "metadata": {
        "id": "tAG6sjuJAQQF",
        "outputId": "c3ffc4c9-5c1e-4978-a1cb-5155c538f9a7"
      },
      "outputs": [
        {
          "data": {
            "text/plain": [
              "(887379, 39)"
            ]
          },
          "execution_count": 46,
          "metadata": {},
          "output_type": "execute_result"
        }
      ],
      "source": [
        "df.shape"
      ]
    },
    {
      "cell_type": "code",
      "execution_count": null,
      "metadata": {
        "id": "19J7j6noAQQG"
      },
      "outputs": [],
      "source": [
        "columnas_seleccionadas = [\n",
        "    'loan_amnt', 'term', 'int_rate', 'installment', 'sub_grade',\n",
        "    'emp_length', 'annual_inc', 'dti', 'delinq_2yrs', 'inq_last_6mths',\n",
        "    'open_acc', 'pub_rec', 'revol_bal', 'revol_util', 'tot_coll_amt',\n",
        "    'tot_cur_bal', 'home_ownership_MORTGAGE', 'home_ownership_NONE',\n",
        "    'home_ownership_OTHER', 'home_ownership_OWN', 'home_ownership_RENT',\n",
        "    'verification_status_Source Verified', 'verification_status_Verified',\n",
        "    'purpose_credit_card', 'purpose_debt_consolidation',\n",
        "    'purpose_educational', 'purpose_home_improvement', 'purpose_house',\n",
        "    'purpose_major_purchase', 'purpose_medical', 'purpose_moving',\n",
        "    'purpose_other', 'purpose_renewable_energy', 'purpose_small_business',\n",
        "    'purpose_vacation', 'purpose_wedding'\n",
        "]\n",
        "\n",
        "X = df[columnas_seleccionadas]\n",
        "Y= df['loan_status']\n"
      ]
    },
    {
      "cell_type": "code",
      "execution_count": null,
      "metadata": {
        "id": "NxbjZ-LZAQQH",
        "outputId": "2e5ab17d-a1e9-4511-a2fb-8f4460b2d7f5"
      },
      "outputs": [
        {
          "name": "stdout",
          "output_type": "stream",
          "text": [
            "117638 117638\n"
          ]
        }
      ],
      "source": [
        "rus_hot = RandomUnderSampler()\n",
        "\n",
        "X_under, y_under = rus_hot.fit_resample(X, Y)\n",
        "\n",
        "print(len(X_under), len(y_under))"
      ]
    },
    {
      "cell_type": "code",
      "execution_count": null,
      "metadata": {
        "id": "vqW8lbm2AQQI"
      },
      "outputs": [],
      "source": [
        "X_train_under, X_test_under, y_train_under, y_test_under = train_test_split(X_under, y_under, test_size=0.2, random_state=0, stratify=y_under)"
      ]
    },
    {
      "cell_type": "code",
      "execution_count": null,
      "metadata": {
        "id": "uF8P7zChAQQJ",
        "outputId": "00898211-634d-4ea5-d2c1-01d4843cf9f4"
      },
      "outputs": [
        {
          "name": "stdout",
          "output_type": "stream",
          "text": [
            "                                Feature  Importance\n",
            "2                              int_rate    0.141049\n",
            "17                          tot_cur_bal    0.088730\n",
            "7                                   dti    0.078200\n",
            "13                           revol_util    0.078017\n",
            "12                            revol_bal    0.077065\n",
            "6                            annual_inc    0.075720\n",
            "4                             sub_grade    0.074980\n",
            "3                           installment    0.072835\n",
            "0                             loan_amnt    0.060970\n",
            "10                             open_acc    0.054886\n",
            "5                            emp_length    0.041810\n",
            "9                        inq_last_6mths    0.026182\n",
            "16                         tot_coll_amt    0.016323\n",
            "8                           delinq_2yrs    0.015103\n",
            "11                              pub_rec    0.010591\n",
            "24         verification_status_Verified    0.010190\n",
            "26           purpose_debt_consolidation    0.009776\n",
            "23  verification_status_Source Verified    0.009004\n",
            "1                                  term    0.008869\n",
            "25                  purpose_credit_card    0.008129\n",
            "22                  home_ownership_RENT    0.007195\n",
            "18              home_ownership_MORTGAGE    0.007040\n",
            "21                   home_ownership_OWN    0.005262\n",
            "28             purpose_home_improvement    0.004386\n",
            "33                        purpose_other    0.004311\n",
            "35               purpose_small_business    0.002937\n",
            "30               purpose_major_purchase    0.002336\n",
            "14           collections_12_mths_ex_med    0.001625\n",
            "31                      purpose_medical    0.001590\n",
            "32                       purpose_moving    0.001111\n",
            "36                     purpose_vacation    0.000946\n",
            "29                        purpose_house    0.000914\n",
            "15                       acc_now_delinq    0.000779\n",
            "37                      purpose_wedding    0.000691\n",
            "34             purpose_renewable_energy    0.000189\n",
            "27                  purpose_educational    0.000152\n",
            "20                 home_ownership_OTHER    0.000071\n",
            "19                  home_ownership_NONE    0.000033\n"
          ]
        }
      ],
      "source": [
        "# Entrenamos un modelo RandomForest\n",
        "rf_under = RandomForestClassifier(n_estimators=100, random_state=0, class_weight='balanced')\n",
        "rf_under.fit(X_train_under, y_train_under)\n",
        "\n",
        "# Extraemos la importancia de las características\n",
        "feature_importances_under = rf_under.feature_importances_\n",
        "\n",
        "# Mostrar las características y sus importancias\n",
        "importance_df_under = pd.DataFrame({\n",
        "    'Feature': X.columns,\n",
        "    'Importance': feature_importances_under\n",
        "})\n",
        "importance_df_under = importance_df_under.sort_values(by='Importance', ascending=False)\n",
        "print(importance_df_under)\n"
      ]
    },
    {
      "cell_type": "code",
      "execution_count": null,
      "metadata": {
        "id": "EGVmws6NAQQK",
        "outputId": "2c529eac-33cc-4b94-e724-60a0038fca71"
      },
      "outputs": [
        {
          "name": "stdout",
          "output_type": "stream",
          "text": [
            "Accuracy: 0.6929615776946617\n",
            "F1 Score: 0.6789333333333334\n",
            "Precision: 0.7114381520119225\n",
            "              precision    recall  f1-score   support\n",
            "\n",
            "           0       0.68      0.74      0.71     11764\n",
            "           1       0.71      0.65      0.68     11764\n",
            "\n",
            "    accuracy                           0.69     23528\n",
            "   macro avg       0.69      0.69      0.69     23528\n",
            "weighted avg       0.69      0.69      0.69     23528\n",
            "\n"
          ]
        },
        {
          "data": {
            "image/png": "[encoded data removed]",
            "text/plain": [
              "<Figure size 640x480 with 2 Axes>"
            ]
          },
          "metadata": {},
          "output_type": "display_data"
        }
      ],
      "source": [
        "# Realizar predicciones en el conjunto de prueba\n",
        "y_pred_under = rf_under.predict(X_test_under)\n",
        "\n",
        "# Generar la matriz de confusión\n",
        "cm_under = confusion_matrix(y_test_under, y_pred_under)\n",
        "\n",
        "# Mostrar la matriz de confusión\n",
        "disp_under = ConfusionMatrixDisplay(confusion_matrix=cm_under)\n",
        "disp_under.plot()\n",
        "\n",
        "\n",
        "print(f\"Accuracy: {accuracy_score(y_test_under, y_pred_under)}\")\n",
        "print(f\"F1 Score: {f1_score(y_test_under, y_pred_under)}\")\n",
        "print(f\"Precision: {precision_score(y_test_under, y_pred_under)}\")\n",
        "print(classification_report(y_test_under, y_pred_under))"
      ]
    },
    {
      "cell_type": "markdown",
      "metadata": {
        "id": "ifX-9QEJAQQL"
      },
      "source": [
        "Al realizar el undersampling se tiene la siguiente cantidad de datos"
      ]
    },
    {
      "cell_type": "code",
      "execution_count": null,
      "metadata": {
        "id": "JhjTq2NeAQQL",
        "outputId": "199afca5-5b13-4419-bfaa-366e2c953a5c"
      },
      "outputs": [
        {
          "data": {
            "text/plain": [
              "117638"
            ]
          },
          "execution_count": 51,
          "metadata": {},
          "output_type": "execute_result"
        }
      ],
      "source": [
        "len(y_under)"
      ]
    },
    {
      "cell_type": "markdown",
      "metadata": {
        "id": "lVfw5GizAQQL"
      },
      "source": [
        "## Modelos de RNA"
      ]
    },
    {
      "cell_type": "code",
      "execution_count": null,
      "metadata": {
        "id": "Iks06IwjAQQL",
        "outputId": "6ae8bbb7-013f-494b-c41d-56a7eedb4adc"
      },
      "outputs": [
        {
          "data": {
            "text/plain": [
              "(887379, 39)"
            ]
          },
          "execution_count": 45,
          "metadata": {},
          "output_type": "execute_result"
        }
      ],
      "source": [
        "df.shape"
      ]
    },
    {
      "cell_type": "code",
      "execution_count": null,
      "metadata": {
        "id": "2JswPrOBAQQN",
        "outputId": "c673aa3d-87ef-4b0f-bc22-b6129b572a67"
      },
      "outputs": [
        {
          "name": "stdout",
          "output_type": "stream",
          "text": [
            "['loan_amnt', 'term', 'int_rate', 'installment', 'sub_grade', 'emp_length', 'annual_inc', 'dti', 'delinq_2yrs', 'inq_last_6mths', 'open_acc', 'pub_rec', 'revol_bal', 'revol_util', 'tot_coll_amt', 'tot_cur_bal']\n"
          ]
        }
      ],
      "source": [
        "from sklearn.preprocessing import StandardScaler\n",
        "\n",
        "scaler = StandardScaler()\n",
        "arg = X_under.columns.tolist().index(\"tot_cur_bal\")+1\n",
        "# Elegir las columnas a escalar(No categóricas)\n",
        "to_scale = X_under.columns.tolist()[:arg]\n",
        "print(to_scale)\n",
        "\n",
        "X_under[to_scale] = scaler.fit_transform(X_under[to_scale])"
      ]
    },
    {
      "cell_type": "code",
      "execution_count": null,
      "metadata": {
        "id": "OEPaAOh2AQQO",
        "outputId": "ba9a0e05-d022-46e4-e499-368320fc3834"
      },
      "outputs": [
        {
          "name": "stdout",
          "output_type": "stream",
          "text": [
            "Tamaño de X_train: (82346, 36)  -> 0.0927968770953561\n",
            "Tamaño de X_val:   (17646, 36)  -> 0.019885528055092583\n",
            "Tamaño de X_test:  (17646, 36)  -> 0.019885528055092583\n"
          ]
        }
      ],
      "source": [
        "# Temp para luego dividirr\n",
        "X_train, X_temp, y_train, y_temp = train_test_split(\n",
        "    X_under,\n",
        "    y_under,\n",
        "    test_size=0.30,    # 30% se destina a dividir entre validación y test\n",
        "    random_state=0,   # Semilla para reproducibilidad\n",
        "    shuffle=True       # Mezclamos aleatoriamente los datos antes de dividir\n",
        ")\n",
        "\n",
        "\n",
        "# 50% de X_temp se destinará a validación y 50% a test.\n",
        "X_val, X_test, y_val, y_test = train_test_split(\n",
        "    X_temp,\n",
        "    y_temp,\n",
        "    test_size=0.50,    # De ese 30%, la mitad (15%) para test\n",
        "    random_state=0,\n",
        "    shuffle=True\n",
        ")\n",
        "\n",
        "# Veamos la proporción real\n",
        "print(\"Tamaño de X_train:\", X_train.shape, \" ->\", len(X_train)/len(X))\n",
        "print(\"Tamaño de X_val:  \", X_val.shape,   \" ->\", len(X_val)/len(X))\n",
        "print(\"Tamaño de X_test: \", X_test.shape,  \" ->\", len(X_test)/len(X))\n"
      ]
    },
    {
      "cell_type": "code",
      "execution_count": null,
      "metadata": {
        "id": "54EZmuJWAQQP",
        "outputId": "b0deb271-760f-4df5-ed7d-423d41132ff7"
      },
      "outputs": [
        {
          "name": "stdout",
          "output_type": "stream",
          "text": [
            "Epoch 1/50\n",
            "\u001b[1m1287/1287\u001b[0m \u001b[32m━━━━━━━━━━━━━━━━━━━━\u001b[0m\u001b[37m\u001b[0m \u001b[1m4s\u001b[0m 2ms/step - accuracy: 0.5923 - auc: 0.6256 - loss: 0.7135 - val_accuracy: 0.6577 - val_auc: 0.7146 - val_loss: 0.6186\n",
            "Epoch 2/50\n",
            "\u001b[1m1287/1287\u001b[0m \u001b[32m━━━━━━━━━━━━━━━━━━━━\u001b[0m\u001b[37m\u001b[0m \u001b[1m2s\u001b[0m 1ms/step - accuracy: 0.6531 - auc: 0.7075 - loss: 0.6244 - val_accuracy: 0.6729 - val_auc: 0.7350 - val_loss: 0.6032\n",
            "Epoch 3/50\n",
            "\u001b[1m1287/1287\u001b[0m \u001b[32m━━━━━━━━━━━━━━━━━━━━\u001b[0m\u001b[37m\u001b[0m \u001b[1m2s\u001b[0m 1ms/step - accuracy: 0.6742 - auc: 0.7329 - loss: 0.6052 - val_accuracy: 0.6803 - val_auc: 0.7486 - val_loss: 0.5918\n",
            "Epoch 4/50\n",
            "\u001b[1m1287/1287\u001b[0m \u001b[32m━━━━━━━━━━━━━━━━━━━━\u001b[0m\u001b[37m\u001b[0m \u001b[1m2s\u001b[0m 1ms/step - accuracy: 0.6807 - auc: 0.7405 - loss: 0.5983 - val_accuracy: 0.6817 - val_auc: 0.7533 - val_loss: 0.5880\n",
            "Epoch 5/50\n",
            "\u001b[1m1287/1287\u001b[0m \u001b[32m━━━━━━━━━━━━━━━━━━━━\u001b[0m\u001b[37m\u001b[0m \u001b[1m2s\u001b[0m 1ms/step - accuracy: 0.6868 - auc: 0.7493 - loss: 0.5916 - val_accuracy: 0.6912 - val_auc: 0.7569 - val_loss: 0.5847\n",
            "Epoch 6/50\n",
            "\u001b[1m1287/1287\u001b[0m \u001b[32m━━━━━━━━━━━━━━━━━━━━\u001b[0m\u001b[37m\u001b[0m \u001b[1m2s\u001b[0m 2ms/step - accuracy: 0.6898 - auc: 0.7521 - loss: 0.5886 - val_accuracy: 0.6878 - val_auc: 0.7586 - val_loss: 0.5840\n",
            "Epoch 7/50\n",
            "\u001b[1m1287/1287\u001b[0m \u001b[32m━━━━━━━━━━━━━━━━━━━━\u001b[0m\u001b[37m\u001b[0m \u001b[1m2s\u001b[0m 1ms/step - accuracy: 0.6914 - auc: 0.7524 - loss: 0.5884 - val_accuracy: 0.6910 - val_auc: 0.7606 - val_loss: 0.5805\n",
            "Epoch 8/50\n",
            "\u001b[1m1287/1287\u001b[0m \u001b[32m━━━━━━━━━━━━━━━━━━━━\u001b[0m\u001b[37m\u001b[0m \u001b[1m2s\u001b[0m 1ms/step - accuracy: 0.6918 - auc: 0.7538 - loss: 0.5863 - val_accuracy: 0.6956 - val_auc: 0.7630 - val_loss: 0.5781\n",
            "Epoch 9/50\n",
            "\u001b[1m1287/1287\u001b[0m \u001b[32m━━━━━━━━━━━━━━━━━━━━\u001b[0m\u001b[37m\u001b[0m \u001b[1m2s\u001b[0m 1ms/step - accuracy: 0.6901 - auc: 0.7557 - loss: 0.5850 - val_accuracy: 0.6924 - val_auc: 0.7623 - val_loss: 0.5788\n",
            "Epoch 10/50\n",
            "\u001b[1m1287/1287\u001b[0m \u001b[32m━━━━━━━━━━━━━━━━━━━━\u001b[0m\u001b[37m\u001b[0m \u001b[1m2s\u001b[0m 1ms/step - accuracy: 0.6946 - auc: 0.7581 - loss: 0.5823 - val_accuracy: 0.6952 - val_auc: 0.7651 - val_loss: 0.5772\n",
            "Epoch 11/50\n",
            "\u001b[1m1287/1287\u001b[0m \u001b[32m━━━━━━━━━━━━━━━━━━━━\u001b[0m\u001b[37m\u001b[0m \u001b[1m2s\u001b[0m 1ms/step - accuracy: 0.6936 - auc: 0.7596 - loss: 0.5812 - val_accuracy: 0.6951 - val_auc: 0.7635 - val_loss: 0.5783\n",
            "Epoch 12/50\n",
            "\u001b[1m1287/1287\u001b[0m \u001b[32m━━━━━━━━━━━━━━━━━━━━\u001b[0m\u001b[37m\u001b[0m \u001b[1m2s\u001b[0m 1ms/step - accuracy: 0.6979 - auc: 0.7633 - loss: 0.5773 - val_accuracy: 0.6964 - val_auc: 0.7663 - val_loss: 0.5758\n",
            "Epoch 13/50\n",
            "\u001b[1m1287/1287\u001b[0m \u001b[32m━━━━━━━━━━━━━━━━━━━━\u001b[0m\u001b[37m\u001b[0m \u001b[1m3s\u001b[0m 1ms/step - accuracy: 0.6959 - auc: 0.7613 - loss: 0.5792 - val_accuracy: 0.6969 - val_auc: 0.7673 - val_loss: 0.5741\n",
            "Epoch 14/50\n",
            "\u001b[1m1287/1287\u001b[0m \u001b[32m━━━━━━━━━━━━━━━━━━━━\u001b[0m\u001b[37m\u001b[0m \u001b[1m2s\u001b[0m 2ms/step - accuracy: 0.7000 - auc: 0.7648 - loss: 0.5762 - val_accuracy: 0.6969 - val_auc: 0.7691 - val_loss: 0.5734\n",
            "Epoch 15/50\n",
            "\u001b[1m1287/1287\u001b[0m \u001b[32m━━━━━━━━━━━━━━━━━━━━\u001b[0m\u001b[37m\u001b[0m \u001b[1m2s\u001b[0m 1ms/step - accuracy: 0.6974 - auc: 0.7640 - loss: 0.5771 - val_accuracy: 0.7003 - val_auc: 0.7694 - val_loss: 0.5714\n",
            "Epoch 16/50\n",
            "\u001b[1m1287/1287\u001b[0m \u001b[32m━━━━━━━━━━━━━━━━━━━━\u001b[0m\u001b[37m\u001b[0m \u001b[1m2s\u001b[0m 1ms/step - accuracy: 0.7005 - auc: 0.7650 - loss: 0.5762 - val_accuracy: 0.7013 - val_auc: 0.7701 - val_loss: 0.5714\n",
            "Epoch 17/50\n",
            "\u001b[1m1287/1287\u001b[0m \u001b[32m━━━━━━━━━━━━━━━━━━━━\u001b[0m\u001b[37m\u001b[0m \u001b[1m3s\u001b[0m 2ms/step - accuracy: 0.7017 - auc: 0.7672 - loss: 0.5741 - val_accuracy: 0.7007 - val_auc: 0.7701 - val_loss: 0.5711\n",
            "Epoch 18/50\n",
            "\u001b[1m1287/1287\u001b[0m \u001b[32m━━━━━━━━━━━━━━━━━━━━\u001b[0m\u001b[37m\u001b[0m \u001b[1m2s\u001b[0m 2ms/step - accuracy: 0.6948 - auc: 0.7668 - loss: 0.5740 - val_accuracy: 0.6990 - val_auc: 0.7703 - val_loss: 0.5709\n",
            "Epoch 19/50\n",
            "\u001b[1m1287/1287\u001b[0m \u001b[32m━━━━━━━━━━━━━━━━━━━━\u001b[0m\u001b[37m\u001b[0m \u001b[1m2s\u001b[0m 1ms/step - accuracy: 0.6986 - auc: 0.7672 - loss: 0.5733 - val_accuracy: 0.7022 - val_auc: 0.7696 - val_loss: 0.5718\n",
            "Epoch 20/50\n",
            "\u001b[1m1287/1287\u001b[0m \u001b[32m━━━━━━━━━━━━━━━━━━━━\u001b[0m\u001b[37m\u001b[0m \u001b[1m2s\u001b[0m 2ms/step - accuracy: 0.7023 - auc: 0.7691 - loss: 0.5715 - val_accuracy: 0.7016 - val_auc: 0.7711 - val_loss: 0.5704\n",
            "Epoch 21/50\n",
            "\u001b[1m1287/1287\u001b[0m \u001b[32m━━━━━━━━━━━━━━━━━━━━\u001b[0m\u001b[37m\u001b[0m \u001b[1m2s\u001b[0m 2ms/step - accuracy: 0.6991 - auc: 0.7677 - loss: 0.5735 - val_accuracy: 0.6990 - val_auc: 0.7684 - val_loss: 0.5785\n",
            "Epoch 22/50\n",
            "\u001b[1m1287/1287\u001b[0m \u001b[32m━━━━━━━━━━━━━━━━━━━━\u001b[0m\u001b[37m\u001b[0m \u001b[1m2s\u001b[0m 1ms/step - accuracy: 0.7021 - auc: 0.7709 - loss: 0.5707 - val_accuracy: 0.7036 - val_auc: 0.7711 - val_loss: 0.5698\n",
            "Epoch 23/50\n",
            "\u001b[1m1287/1287\u001b[0m \u001b[32m━━━━━━━━━━━━━━━━━━━━\u001b[0m\u001b[37m\u001b[0m \u001b[1m3s\u001b[0m 1ms/step - accuracy: 0.6986 - auc: 0.7649 - loss: 0.5753 - val_accuracy: 0.7024 - val_auc: 0.7710 - val_loss: 0.5697\n",
            "Epoch 24/50\n",
            "\u001b[1m1287/1287\u001b[0m \u001b[32m━━━━━━━━━━━━━━━━━━━━\u001b[0m\u001b[37m\u001b[0m \u001b[1m2s\u001b[0m 1ms/step - accuracy: 0.7017 - auc: 0.7702 - loss: 0.5708 - val_accuracy: 0.7015 - val_auc: 0.7711 - val_loss: 0.5707\n",
            "Epoch 25/50\n",
            "\u001b[1m1287/1287\u001b[0m \u001b[32m━━━━━━━━━━━━━━━━━━━━\u001b[0m\u001b[37m\u001b[0m \u001b[1m3s\u001b[0m 2ms/step - accuracy: 0.7019 - auc: 0.7670 - loss: 0.5742 - val_accuracy: 0.7012 - val_auc: 0.7713 - val_loss: 0.5705\n",
            "Epoch 26/50\n",
            "\u001b[1m1287/1287\u001b[0m \u001b[32m━━━━━━━━━━━━━━━━━━━━\u001b[0m\u001b[37m\u001b[0m \u001b[1m2s\u001b[0m 1ms/step - accuracy: 0.7039 - auc: 0.7720 - loss: 0.5694 - val_accuracy: 0.7010 - val_auc: 0.7679 - val_loss: 0.5743\n",
            "Epoch 27/50\n",
            "\u001b[1m1287/1287\u001b[0m \u001b[32m━━━━━━━━━━━━━━━━━━━━\u001b[0m\u001b[37m\u001b[0m \u001b[1m2s\u001b[0m 1ms/step - accuracy: 0.7029 - auc: 0.7698 - loss: 0.5720 - val_accuracy: 0.7010 - val_auc: 0.7718 - val_loss: 0.5705\n",
            "Epoch 28/50\n",
            "\u001b[1m1287/1287\u001b[0m \u001b[32m━━━━━━━━━━━━━━━━━━━━\u001b[0m\u001b[37m\u001b[0m \u001b[1m2s\u001b[0m 1ms/step - accuracy: 0.7019 - auc: 0.7700 - loss: 0.5716 - val_accuracy: 0.7022 - val_auc: 0.7717 - val_loss: 0.5694\n",
            "Epoch 29/50\n",
            "\u001b[1m1287/1287\u001b[0m \u001b[32m━━━━━━━━━━━━━━━━━━━━\u001b[0m\u001b[37m\u001b[0m \u001b[1m2s\u001b[0m 1ms/step - accuracy: 0.7053 - auc: 0.7712 - loss: 0.5695 - val_accuracy: 0.7037 - val_auc: 0.7724 - val_loss: 0.5686\n",
            "Epoch 30/50\n",
            "\u001b[1m1287/1287\u001b[0m \u001b[32m━━━━━━━━━━━━━━━━━━━━\u001b[0m\u001b[37m\u001b[0m \u001b[1m2s\u001b[0m 2ms/step - accuracy: 0.7022 - auc: 0.7703 - loss: 0.5705 - val_accuracy: 0.7010 - val_auc: 0.7705 - val_loss: 0.5700\n",
            "Epoch 31/50\n",
            "\u001b[1m1287/1287\u001b[0m \u001b[32m━━━━━━━━━━━━━━━━━━━━\u001b[0m\u001b[37m\u001b[0m \u001b[1m2s\u001b[0m 1ms/step - accuracy: 0.7035 - auc: 0.7711 - loss: 0.5697 - val_accuracy: 0.6998 - val_auc: 0.7714 - val_loss: 0.5700\n",
            "Epoch 32/50\n",
            "\u001b[1m1287/1287\u001b[0m \u001b[32m━━━━━━━━━━━━━━━━━━━━\u001b[0m\u001b[37m\u001b[0m \u001b[1m2s\u001b[0m 1ms/step - accuracy: 0.7046 - auc: 0.7725 - loss: 0.5686 - val_accuracy: 0.7012 - val_auc: 0.7709 - val_loss: 0.5704\n",
            "Epoch 33/50\n",
            "\u001b[1m1287/1287\u001b[0m \u001b[32m━━━━━━━━━━━━━━━━━━━━\u001b[0m\u001b[37m\u001b[0m \u001b[1m2s\u001b[0m 2ms/step - accuracy: 0.7041 - auc: 0.7721 - loss: 0.5692 - val_accuracy: 0.6999 - val_auc: 0.7720 - val_loss: 0.5692\n",
            "Epoch 34/50\n",
            "\u001b[1m1287/1287\u001b[0m \u001b[32m━━━━━━━━━━━━━━━━━━━━\u001b[0m\u001b[37m\u001b[0m \u001b[1m2s\u001b[0m 2ms/step - accuracy: 0.7044 - auc: 0.7722 - loss: 0.5685 - val_accuracy: 0.7017 - val_auc: 0.7719 - val_loss: 0.5691\n",
            "Epoch 35/50\n",
            "\u001b[1m1287/1287\u001b[0m \u001b[32m━━━━━━━━━━━━━━━━━━━━\u001b[0m\u001b[37m\u001b[0m \u001b[1m2s\u001b[0m 1ms/step - accuracy: 0.7041 - auc: 0.7741 - loss: 0.5664 - val_accuracy: 0.7018 - val_auc: 0.7730 - val_loss: 0.5683\n",
            "Epoch 36/50\n",
            "\u001b[1m1287/1287\u001b[0m \u001b[32m━━━━━━━━━━━━━━━━━━━━\u001b[0m\u001b[37m\u001b[0m \u001b[1m2s\u001b[0m 1ms/step - accuracy: 0.7054 - auc: 0.7734 - loss: 0.5675 - val_accuracy: 0.6966 - val_auc: 0.7693 - val_loss: 0.5748\n",
            "Epoch 37/50\n",
            "\u001b[1m1287/1287\u001b[0m \u001b[32m━━━━━━━━━━━━━━━━━━━━\u001b[0m\u001b[37m\u001b[0m \u001b[1m2s\u001b[0m 2ms/step - accuracy: 0.7062 - auc: 0.7750 - loss: 0.5657 - val_accuracy: 0.7033 - val_auc: 0.7739 - val_loss: 0.5673\n",
            "Epoch 38/50\n",
            "\u001b[1m1287/1287\u001b[0m \u001b[32m━━━━━━━━━━━━━━━━━━━━\u001b[0m\u001b[37m\u001b[0m \u001b[1m2s\u001b[0m 2ms/step - accuracy: 0.7035 - auc: 0.7712 - loss: 0.5697 - val_accuracy: 0.6979 - val_auc: 0.7693 - val_loss: 0.5737\n",
            "Epoch 39/50\n",
            "\u001b[1m1287/1287\u001b[0m \u001b[32m━━━━━━━━━━━━━━━━━━━━\u001b[0m\u001b[37m\u001b[0m \u001b[1m2s\u001b[0m 1ms/step - accuracy: 0.7031 - auc: 0.7736 - loss: 0.5664 - val_accuracy: 0.7020 - val_auc: 0.7732 - val_loss: 0.5682\n",
            "Epoch 40/50\n",
            "\u001b[1m1287/1287\u001b[0m \u001b[32m━━━━━━━━━━━━━━━━━━━━\u001b[0m\u001b[37m\u001b[0m \u001b[1m2s\u001b[0m 1ms/step - accuracy: 0.7051 - auc: 0.7745 - loss: 0.5667 - val_accuracy: 0.7035 - val_auc: 0.7741 - val_loss: 0.5669\n",
            "Epoch 41/50\n",
            "\u001b[1m1287/1287\u001b[0m \u001b[32m━━━━━━━━━━━━━━━━━━━━\u001b[0m\u001b[37m\u001b[0m \u001b[1m2s\u001b[0m 1ms/step - accuracy: 0.7046 - auc: 0.7752 - loss: 0.5656 - val_accuracy: 0.6953 - val_auc: 0.7659 - val_loss: 0.5807\n",
            "Epoch 42/50\n",
            "\u001b[1m1287/1287\u001b[0m \u001b[32m━━━━━━━━━━━━━━━━━━━━\u001b[0m\u001b[37m\u001b[0m \u001b[1m2s\u001b[0m 1ms/step - accuracy: 0.7032 - auc: 0.7749 - loss: 0.5656 - val_accuracy: 0.7030 - val_auc: 0.7738 - val_loss: 0.5665\n",
            "Epoch 43/50\n",
            "\u001b[1m1287/1287\u001b[0m \u001b[32m━━━━━━━━━━━━━━━━━━━━\u001b[0m\u001b[37m\u001b[0m \u001b[1m2s\u001b[0m 2ms/step - accuracy: 0.7024 - auc: 0.7724 - loss: 0.5683 - val_accuracy: 0.6962 - val_auc: 0.7661 - val_loss: 0.5814\n",
            "Epoch 44/50\n",
            "\u001b[1m1287/1287\u001b[0m \u001b[32m━━━━━━━━━━━━━━━━━━━━\u001b[0m\u001b[37m\u001b[0m \u001b[1m2s\u001b[0m 2ms/step - accuracy: 0.7069 - auc: 0.7765 - loss: 0.5644 - val_accuracy: 0.7031 - val_auc: 0.7726 - val_loss: 0.5681\n",
            "Epoch 45/50\n",
            "\u001b[1m1287/1287\u001b[0m \u001b[32m━━━━━━━━━━━━━━━━━━━━\u001b[0m\u001b[37m\u001b[0m \u001b[1m2s\u001b[0m 2ms/step - accuracy: 0.7050 - auc: 0.7746 - loss: 0.5661 - val_accuracy: 0.7024 - val_auc: 0.7724 - val_loss: 0.5682\n",
            "Epoch 46/50\n",
            "\u001b[1m1287/1287\u001b[0m \u001b[32m━━━━━━━━━━━━━━━━━━━━\u001b[0m\u001b[37m\u001b[0m \u001b[1m2s\u001b[0m 1ms/step - accuracy: 0.7045 - auc: 0.7745 - loss: 0.5665 - val_accuracy: 0.7035 - val_auc: 0.7738 - val_loss: 0.5667\n",
            "Epoch 47/50\n",
            "\u001b[1m1287/1287\u001b[0m \u001b[32m━━━━━━━━━━━━━━━━━━━━\u001b[0m\u001b[37m\u001b[0m \u001b[1m2s\u001b[0m 2ms/step - accuracy: 0.7093 - auc: 0.7782 - loss: 0.5633 - val_accuracy: 0.7041 - val_auc: 0.7739 - val_loss: 0.5671\n",
            "Epoch 48/50\n",
            "\u001b[1m1287/1287\u001b[0m \u001b[32m━━━━━━━━━━━━━━━━━━━━\u001b[0m\u001b[37m\u001b[0m \u001b[1m2s\u001b[0m 2ms/step - accuracy: 0.7070 - auc: 0.7766 - loss: 0.5648 - val_accuracy: 0.7053 - val_auc: 0.7738 - val_loss: 0.5669\n"
          ]
        }
      ],
      "source": [
        "import tensorflow as tf\n",
        "from tensorflow.keras import layers, models, regularizers\n",
        "\n",
        "def build_model(input_dim,\n",
        "                n_hidden1=128,\n",
        "                n_hidden2=64,\n",
        "                n_hidden3=32,\n",
        "                dropout_rate=0.3,\n",
        "                l2_reg=0.0,\n",
        "                learning_rate=0.001):\n",
        "\n",
        "    model = models.Sequential()\n",
        "\n",
        "    model.add(InputLayer(input_shape=(input_dim,)))\n",
        "\n",
        "    # Capa oculta 1\n",
        "    model.add(layers.Dense(n_hidden1,\n",
        "                           activation='relu',\n",
        "                           kernel_regularizer=regularizers.l2(l2_reg),\n",
        "                           input_shape=(input_dim,)))\n",
        "    model.add(layers.BatchNormalization())\n",
        "    model.add(layers.Dropout(dropout_rate))\n",
        "\n",
        "    # Capa oculta 2\n",
        "    model.add(layers.Dense(n_hidden2,\n",
        "                           activation='relu',\n",
        "                           kernel_regularizer=regularizers.l2(l2_reg)))\n",
        "    model.add(layers.BatchNormalization())\n",
        "    model.add(layers.Dropout(dropout_rate))\n",
        "\n",
        "    # Capa oculta 3\n",
        "    model.add(layers.Dense(n_hidden3,\n",
        "                           activation='relu',\n",
        "                           kernel_regularizer=regularizers.l2(l2_reg)))\n",
        "    model.add(layers.BatchNormalization())\n",
        "    model.add(layers.Dropout(dropout_rate))\n",
        "\n",
        "    # Capa de salida (para binario)\n",
        "    model.add(layers.Dense(1, activation='sigmoid'))\n",
        "\n",
        "    # Compilación del modelo\n",
        "    optimizer = tf.keras.optimizers.Adam(learning_rate=learning_rate)\n",
        "    model.compile(optimizer=optimizer,\n",
        "                  loss='binary_crossentropy',\n",
        "                  metrics=['accuracy',\n",
        "                           tf.keras.metrics.AUC(name='auc')])\n",
        "    return model\n",
        "\n",
        "\n",
        "model = build_model(input_dim=36,\n",
        "                    n_hidden1=128,\n",
        "                    n_hidden2=64,\n",
        "                    n_hidden3=32,\n",
        "                    dropout_rate=0.3,\n",
        "                    learning_rate=0.001)\n",
        "\n",
        "early_stopping_cb = tf.keras.callbacks.EarlyStopping(monitor='val_loss',\n",
        "                                                     patience=6,\n",
        "                                                     restore_best_weights=True)\n",
        "\n",
        "history = model.fit(X_train, y_train,\n",
        "                    validation_data=(X_val, y_val),\n",
        "                    epochs=50,\n",
        "                    batch_size=64,\n",
        "                    callbacks=[early_stopping_cb],\n",
        "                    verbose=1)\n",
        "\n",
        "\n"
      ]
    },
    {
      "cell_type": "code",
      "execution_count": null,
      "metadata": {
        "id": "JF0uX0e9AQQQ",
        "outputId": "c9a9e566-fe24-4546-c0e4-609953f797f2"
      },
      "outputs": [
        {
          "name": "stdout",
          "output_type": "stream",
          "text": [
            "Loss en test: 0.5718615055084229\n",
            "Accuracy en test: 0.6943783164024353\n",
            "AUC en test: 0.7663116455078125\n",
            "\n",
            "--- Classification Report ---\n",
            "\n",
            "              precision    recall  f1-score   support\n",
            "\n",
            "           0     0.6726    0.7438    0.7064      8724\n",
            "           1     0.7206    0.6460    0.6813      8922\n",
            "\n",
            "    accuracy                         0.6944     17646\n",
            "   macro avg     0.6966    0.6949    0.6939     17646\n",
            "weighted avg     0.6969    0.6944    0.6937     17646\n",
            "\n"
          ]
        }
      ],
      "source": [
        "from sklearn.metrics import accuracy_score, f1_score, precision_score, classification_report\n",
        "\n",
        "\n",
        "results = model.evaluate(X_test, y_test, verbose=0)\n",
        "print(\"Loss en test:\", results[0])\n",
        "print(\"Accuracy en test:\", results[1])\n",
        "print(\"AUC en test:\", results[2])\n",
        "\n",
        "# Generar Predicciones Probabilísticas\n",
        "y_pred_prob = model.predict(X_test, batch_size=64, verbose=0)\n",
        "\n",
        "# Convertir Probabilidades a Etiquetas de Clase (umbral = 0.5)\n",
        "y_pred = (y_pred_prob >= 0.5).astype(int).reshape(-1)\n",
        "\n",
        "# Generar y Mostrar el Reporte de Clasificación\n",
        "print(\"\\n--- Classification Report ---\\n\")\n",
        "print(classification_report(y_test, y_pred, digits=4))"
      ]
    },
    {
      "cell_type": "code",
      "execution_count": null,
      "metadata": {
        "id": "6HqvxrBjAQQQ",
        "outputId": "daf3236e-e6dd-4292-d8a1-adb181b0262b"
      },
      "outputs": [
        {
          "data": {
            "text/plain": [
              "<sklearn.metrics._plot.confusion_matrix.ConfusionMatrixDisplay at 0x16cf370d8b0>"
            ]
          },
          "execution_count": 64,
          "metadata": {},
          "output_type": "execute_result"
        },
        {
          "data": {
            "image/png": "[encoded data removed]",
            "text/plain": [
              "<Figure size 640x480 with 2 Axes>"
            ]
          },
          "metadata": {},
          "output_type": "display_data"
        }
      ],
      "source": [
        "cm_under = confusion_matrix(y_test, y_pred)\n",
        "disp_under = ConfusionMatrixDisplay(confusion_matrix=cm_under)\n",
        "disp_under.plot()"
      ]
    },
    {
      "cell_type": "code",
      "execution_count": null,
      "metadata": {
        "id": "mID8szYsAQQQ",
        "outputId": "98156350-9ad2-4a85-f5ec-c51f6ed954c6"
      },
      "outputs": [
        {
          "name": "stdout",
          "output_type": "stream",
          "text": [
            "\n",
            "--- Ejemplo de Scores ---\n",
            "\n",
            "[449.09726 429.78326 666.2761  405.98853 438.95386 661.31885 418.5333\n",
            " 414.76645 481.38672 767.6304 ]\n"
          ]
        }
      ],
      "source": [
        "## cambio de escala\n",
        "# Convertir Probabilidades a la Escala del Scorecard\n",
        "min_score = 300\n",
        "max_score = 850\n",
        "scorecard_scale = min_score + (max_score - min_score) * y_pred_prob.reshape(-1)\n",
        "\n",
        "# Imprimir un ejemplo de la escala del scorecard\n",
        "print(\"\\n--- Ejemplo de Scores ---\\n\")\n",
        "print(scorecard_scale[:10])  # Mostrar los primeros 10 scores\n"
      ]
    },
    {
      "cell_type": "code",
      "execution_count": null,
      "metadata": {
        "id": "fdjLpuk0AQQR"
      },
      "outputs": [],
      "source": [
        "## guardar el modelo con la escala correcta para el score\n",
        "\n",
        "import pickle\n",
        "\n",
        "class ScorecardModel:\n",
        "    def __init__(self, base_model, min_score=300, max_score=850):\n",
        "        self.base_model = base_model\n",
        "        self.min_score = min_score\n",
        "        self.max_score = max_score\n",
        "\n",
        "    def predict(self, X):\n",
        "        # Generar probabilidades con el modelo base\n",
        "        probabilities = self.base_model.predict(X)\n",
        "        # Escalar a la escala del scorecard\n",
        "        scores = self.min_score + (self.max_score - self.min_score) * (1 - probabilities)\n",
        "        return scores\n",
        "\n",
        "    def evaluate(self, X, y):\n",
        "        return self.base_model.evaluate(X, y)\n",
        "\n",
        "    def save(self, file_path):\n",
        "        with open(file_path, 'wb') as f:\n",
        "            pickle.dump(self, f)\n"
      ]
    },
    {
      "cell_type": "code",
      "execution_count": null,
      "metadata": {
        "id": "_V7T04MtAQQR"
      },
      "outputs": [],
      "source": [
        "# Envolver el modelo base en la clase personalizada\n",
        "min_score = 300\n",
        "max_score = 850\n",
        "scorecard_model = ScorecardModel(model, min_score=min_score, max_score=max_score)\n",
        "\n",
        "# Guardar el modelo con la transformación integrada\n",
        "with open('scorecard_model.pkl', 'wb') as file:\n",
        "    pickle.dump(scorecard_model, file)\n"
      ]
    },
    {
      "cell_type": "code",
      "execution_count": null,
      "metadata": {
        "id": "-iLnaTcJAQQR",
        "outputId": "7af7de5d-c8f9-4edf-b2db-972b687a4235"
      },
      "outputs": [
        {
          "name": "stdout",
          "output_type": "stream",
          "text": [
            "\u001b[1m1/1\u001b[0m \u001b[32m━━━━━━━━━━━━━━━━━━━━\u001b[0m\u001b[37m\u001b[0m \u001b[1m0s\u001b[0m 59ms/step\n",
            "\n",
            "--- Scores del Scorecard ---\n",
            "\n",
            "[[449.09726]\n",
            " [429.78326]\n",
            " [666.2761 ]\n",
            " [405.98853]\n",
            " [438.95386]]\n"
          ]
        }
      ],
      "source": [
        "# Cargar el modelo\n",
        "with open('scorecard_model.pkl', 'rb') as f:\n",
        "    loaded_model = pickle.load(f)\n",
        "\n",
        "# Generar predicciones escaladas directamente\n",
        "X_test_example = X_test[:5]  # Usar un subconjunto para el ejemplo\n",
        "predicted_scores = loaded_model.predict(X_test_example)\n",
        "\n",
        "print(\"\\n--- Scores del Scorecard ---\\n\")\n",
        "print(predicted_scores)"
      ]
    },
    {
      "cell_type": "code",
      "execution_count": null,
      "metadata": {
        "id": "HJrz0_yqAQQS"
      },
      "outputs": [],
      "source": [
        "import joblib"
      ]
    },
    {
      "cell_type": "code",
      "execution_count": null,
      "metadata": {
        "id": "hyQs94hwAQQS"
      },
      "outputs": [],
      "source": [
        "import pickle\n",
        "model.save(\"model.keras\")  # En lugar de model.save(\"model.h5\")\n"
      ]
    },
    {
      "cell_type": "code",
      "execution_count": null,
      "metadata": {
        "id": "C5VpKabCAQQS",
        "outputId": "04a377fe-2c52-413d-8eb2-fcfe632c686f"
      },
      "outputs": [
        {
          "name": "stdout",
          "output_type": "stream",
          "text": [
            "Modelo y datos de entrenamiento guardados exitosamente.\n"
          ]
        }
      ],
      "source": [
        "import pickle\n",
        "import tensorflow as tf\n",
        "\n",
        "# Guardar el modelo en el formato recomendado (.keras)\n",
        "model_path = \"model.keras\"\n",
        "model.save(model_path)\n",
        "\n",
        "# Guardar el historial de entrenamiento\n",
        "data_to_save = {\n",
        "    \"model_file\": model_path,  # Ruta al modelo guardado\n",
        "    \"history\": history.history  # Historial de entrenamiento\n",
        "}\n",
        "\n",
        "# Guardar todo en un archivo pickle\n",
        "with open(\"model_and_history.pkl\", \"wb\") as file:\n",
        "    pickle.dump(data_to_save, file)\n",
        "\n",
        "print(\"Modelo y datos de entrenamiento guardados exitosamente.\")\n"
      ]
    },
    {
      "cell_type": "code",
      "execution_count": null,
      "metadata": {
        "id": "-IXINBMsAQQT"
      },
      "outputs": [],
      "source": [
        "# Leer los embeddings de los trabajos\n",
        "reduced_embeddings = np.loadtxt('reduced_embeddings.csv', delimiter=',', skiprows=0)"
      ]
    },
    {
      "cell_type": "code",
      "execution_count": null,
      "metadata": {
        "id": "NuSIloVAAQQT",
        "outputId": "8696ac44-4d5e-43ba-c7b5-d76e9f9c8636"
      },
      "outputs": [
        {
          "name": "stdout",
          "output_type": "stream",
          "text": [
            "(117638,)\n"
          ]
        }
      ],
      "source": [
        "rus = RandomUnderSampler(random_state=0)\n",
        "df_emp = df.copy()\n",
        "df_emp = pd.concat([df, pd.DataFrame(reduced_embeddings, columns=[\"Embedding \" + str(i) for i in range(reduced_embeddings.shape[1])])], axis=1)\n",
        "X_emp = df_emp.drop(columns=[\"loan_status\"]).copy()\n",
        "y_emp = df_emp[\"loan_status\"].copy()\n",
        "X_emp, y_emp = rus.fit_resample(X_emp, y_emp)\n",
        "\n",
        "# Escalar\n",
        "scaler =StandardScaler()\n",
        "X_emp[to_scale] = scaler.fit_transform(X_under[to_scale])\n",
        "print(y_emp.shape)"
      ]
    },
    {
      "cell_type": "code",
      "execution_count": null,
      "metadata": {
        "id": "7Yp4KF_gAQQU"
      },
      "outputs": [],
      "source": [
        "# Temp para luego dividirr\n",
        "X_train_emp, X_temp_emp, y_train_emp, y_temp_emp = train_test_split(\n",
        "    X_emp,\n",
        "    y_emp,\n",
        "    test_size=0.30,    # 30% se destina a dividir entre validación y test\n",
        "    random_state=0,   # Semilla para reproducibilidad\n",
        "    shuffle=True       # Mezclamos aleatoriamente los datos antes de dividir\n",
        ")\n",
        "\n",
        "\n",
        "# 50% de X_temp se destinará a validación y 50% a test.\n",
        "X_val_emp, X_test_emp, y_val_emp, y_test_emp = train_test_split(\n",
        "    X_temp_emp,\n",
        "    y_temp_emp,\n",
        "    test_size=0.50,    # De ese 30%, la mitad (15%) para test\n",
        "    random_state=0,\n",
        "    shuffle=True\n",
        ")"
      ]
    },
    {
      "cell_type": "code",
      "execution_count": null,
      "metadata": {
        "id": "hYP2FTzQAQQV",
        "outputId": "22a91c4d-3753-4932-d921-20f0db4186b8"
      },
      "outputs": [
        {
          "data": {
            "text/html": [
              "<pre style=\"white-space:pre;overflow-x:auto;line-height:normal;font-family:Menlo,'DejaVu Sans Mono',consolas,'Courier New',monospace\"><span style=\"font-weight: bold\">Model: \"sequential_13\"</span>\n",
              "</pre>\n"
            ],
            "text/plain": [
              "\u001b[1mModel: \"sequential_13\"\u001b[0m\n"
            ]
          },
          "metadata": {},
          "output_type": "display_data"
        },
        {
          "data": {
            "text/html": [
              "<pre style=\"white-space:pre;overflow-x:auto;line-height:normal;font-family:Menlo,'DejaVu Sans Mono',consolas,'Courier New',monospace\">┏━━━━━━━━━━━━━━━━━━━━━━━━━━━━━━━━━┳━━━━━━━━━━━━━━━━━━━━━━━━┳━━━━━━━━━━━━━━━┓\n",
              "┃<span style=\"font-weight: bold\"> Layer (type)                    </span>┃<span style=\"font-weight: bold\"> Output Shape           </span>┃<span style=\"font-weight: bold\">       Param # </span>┃\n",
              "┡━━━━━━━━━━━━━━━━━━━━━━━━━━━━━━━━━╇━━━━━━━━━━━━━━━━━━━━━━━━╇━━━━━━━━━━━━━━━┩\n",
              "│ dense_52 (<span style=\"color: #0087ff; text-decoration-color: #0087ff\">Dense</span>)                │ (<span style=\"color: #00d7ff; text-decoration-color: #00d7ff\">None</span>, <span style=\"color: #00af00; text-decoration-color: #00af00\">128</span>)            │        <span style=\"color: #00af00; text-decoration-color: #00af00\">10,112</span> │\n",
              "├─────────────────────────────────┼────────────────────────┼───────────────┤\n",
              "│ batch_normalization_39          │ (<span style=\"color: #00d7ff; text-decoration-color: #00d7ff\">None</span>, <span style=\"color: #00af00; text-decoration-color: #00af00\">128</span>)            │           <span style=\"color: #00af00; text-decoration-color: #00af00\">512</span> │\n",
              "│ (<span style=\"color: #0087ff; text-decoration-color: #0087ff\">BatchNormalization</span>)            │                        │               │\n",
              "├─────────────────────────────────┼────────────────────────┼───────────────┤\n",
              "│ dropout_39 (<span style=\"color: #0087ff; text-decoration-color: #0087ff\">Dropout</span>)            │ (<span style=\"color: #00d7ff; text-decoration-color: #00d7ff\">None</span>, <span style=\"color: #00af00; text-decoration-color: #00af00\">128</span>)            │             <span style=\"color: #00af00; text-decoration-color: #00af00\">0</span> │\n",
              "├─────────────────────────────────┼────────────────────────┼───────────────┤\n",
              "│ dense_53 (<span style=\"color: #0087ff; text-decoration-color: #0087ff\">Dense</span>)                │ (<span style=\"color: #00d7ff; text-decoration-color: #00d7ff\">None</span>, <span style=\"color: #00af00; text-decoration-color: #00af00\">64</span>)             │         <span style=\"color: #00af00; text-decoration-color: #00af00\">8,256</span> │\n",
              "├─────────────────────────────────┼────────────────────────┼───────────────┤\n",
              "│ batch_normalization_40          │ (<span style=\"color: #00d7ff; text-decoration-color: #00d7ff\">None</span>, <span style=\"color: #00af00; text-decoration-color: #00af00\">64</span>)             │           <span style=\"color: #00af00; text-decoration-color: #00af00\">256</span> │\n",
              "│ (<span style=\"color: #0087ff; text-decoration-color: #0087ff\">BatchNormalization</span>)            │                        │               │\n",
              "├─────────────────────────────────┼────────────────────────┼───────────────┤\n",
              "│ dropout_40 (<span style=\"color: #0087ff; text-decoration-color: #0087ff\">Dropout</span>)            │ (<span style=\"color: #00d7ff; text-decoration-color: #00d7ff\">None</span>, <span style=\"color: #00af00; text-decoration-color: #00af00\">64</span>)             │             <span style=\"color: #00af00; text-decoration-color: #00af00\">0</span> │\n",
              "├─────────────────────────────────┼────────────────────────┼───────────────┤\n",
              "│ dense_54 (<span style=\"color: #0087ff; text-decoration-color: #0087ff\">Dense</span>)                │ (<span style=\"color: #00d7ff; text-decoration-color: #00d7ff\">None</span>, <span style=\"color: #00af00; text-decoration-color: #00af00\">32</span>)             │         <span style=\"color: #00af00; text-decoration-color: #00af00\">2,080</span> │\n",
              "├─────────────────────────────────┼────────────────────────┼───────────────┤\n",
              "│ batch_normalization_41          │ (<span style=\"color: #00d7ff; text-decoration-color: #00d7ff\">None</span>, <span style=\"color: #00af00; text-decoration-color: #00af00\">32</span>)             │           <span style=\"color: #00af00; text-decoration-color: #00af00\">128</span> │\n",
              "│ (<span style=\"color: #0087ff; text-decoration-color: #0087ff\">BatchNormalization</span>)            │                        │               │\n",
              "├─────────────────────────────────┼────────────────────────┼───────────────┤\n",
              "│ dropout_41 (<span style=\"color: #0087ff; text-decoration-color: #0087ff\">Dropout</span>)            │ (<span style=\"color: #00d7ff; text-decoration-color: #00d7ff\">None</span>, <span style=\"color: #00af00; text-decoration-color: #00af00\">32</span>)             │             <span style=\"color: #00af00; text-decoration-color: #00af00\">0</span> │\n",
              "├─────────────────────────────────┼────────────────────────┼───────────────┤\n",
              "│ dense_55 (<span style=\"color: #0087ff; text-decoration-color: #0087ff\">Dense</span>)                │ (<span style=\"color: #00d7ff; text-decoration-color: #00d7ff\">None</span>, <span style=\"color: #00af00; text-decoration-color: #00af00\">1</span>)              │            <span style=\"color: #00af00; text-decoration-color: #00af00\">33</span> │\n",
              "└─────────────────────────────────┴────────────────────────┴───────────────┘\n",
              "</pre>\n"
            ],
            "text/plain": [
              "┏━━━━━━━━━━━━━━━━━━━━━━━━━━━━━━━━━┳━━━━━━━━━━━━━━━━━━━━━━━━┳━━━━━━━━━━━━━━━┓\n",
              "┃\u001b[1m \u001b[0m\u001b[1mLayer (type)                   \u001b[0m\u001b[1m \u001b[0m┃\u001b[1m \u001b[0m\u001b[1mOutput Shape          \u001b[0m\u001b[1m \u001b[0m┃\u001b[1m \u001b[0m\u001b[1m      Param #\u001b[0m\u001b[1m \u001b[0m┃\n",
              "┡━━━━━━━━━━━━━━━━━━━━━━━━━━━━━━━━━╇━━━━━━━━━━━━━━━━━━━━━━━━╇━━━━━━━━━━━━━━━┩\n",
              "│ dense_52 (\u001b[38;5;33mDense\u001b[0m)                │ (\u001b[38;5;45mNone\u001b[0m, \u001b[38;5;34m128\u001b[0m)            │        \u001b[38;5;34m10,112\u001b[0m │\n",
              "├─────────────────────────────────┼────────────────────────┼───────────────┤\n",
              "│ batch_normalization_39          │ (\u001b[38;5;45mNone\u001b[0m, \u001b[38;5;34m128\u001b[0m)            │           \u001b[38;5;34m512\u001b[0m │\n",
              "│ (\u001b[38;5;33mBatchNormalization\u001b[0m)            │                        │               │\n",
              "├─────────────────────────────────┼────────────────────────┼───────────────┤\n",
              "│ dropout_39 (\u001b[38;5;33mDropout\u001b[0m)            │ (\u001b[38;5;45mNone\u001b[0m, \u001b[38;5;34m128\u001b[0m)            │             \u001b[38;5;34m0\u001b[0m │\n",
              "├─────────────────────────────────┼────────────────────────┼───────────────┤\n",
              "│ dense_53 (\u001b[38;5;33mDense\u001b[0m)                │ (\u001b[38;5;45mNone\u001b[0m, \u001b[38;5;34m64\u001b[0m)             │         \u001b[38;5;34m8,256\u001b[0m │\n",
              "├─────────────────────────────────┼────────────────────────┼───────────────┤\n",
              "│ batch_normalization_40          │ (\u001b[38;5;45mNone\u001b[0m, \u001b[38;5;34m64\u001b[0m)             │           \u001b[38;5;34m256\u001b[0m │\n",
              "│ (\u001b[38;5;33mBatchNormalization\u001b[0m)            │                        │               │\n",
              "├─────────────────────────────────┼────────────────────────┼───────────────┤\n",
              "│ dropout_40 (\u001b[38;5;33mDropout\u001b[0m)            │ (\u001b[38;5;45mNone\u001b[0m, \u001b[38;5;34m64\u001b[0m)             │             \u001b[38;5;34m0\u001b[0m │\n",
              "├─────────────────────────────────┼────────────────────────┼───────────────┤\n",
              "│ dense_54 (\u001b[38;5;33mDense\u001b[0m)                │ (\u001b[38;5;45mNone\u001b[0m, \u001b[38;5;34m32\u001b[0m)             │         \u001b[38;5;34m2,080\u001b[0m │\n",
              "├─────────────────────────────────┼────────────────────────┼───────────────┤\n",
              "│ batch_normalization_41          │ (\u001b[38;5;45mNone\u001b[0m, \u001b[38;5;34m32\u001b[0m)             │           \u001b[38;5;34m128\u001b[0m │\n",
              "│ (\u001b[38;5;33mBatchNormalization\u001b[0m)            │                        │               │\n",
              "├─────────────────────────────────┼────────────────────────┼───────────────┤\n",
              "│ dropout_41 (\u001b[38;5;33mDropout\u001b[0m)            │ (\u001b[38;5;45mNone\u001b[0m, \u001b[38;5;34m32\u001b[0m)             │             \u001b[38;5;34m0\u001b[0m │\n",
              "├─────────────────────────────────┼────────────────────────┼───────────────┤\n",
              "│ dense_55 (\u001b[38;5;33mDense\u001b[0m)                │ (\u001b[38;5;45mNone\u001b[0m, \u001b[38;5;34m1\u001b[0m)              │            \u001b[38;5;34m33\u001b[0m │\n",
              "└─────────────────────────────────┴────────────────────────┴───────────────┘\n"
            ]
          },
          "metadata": {},
          "output_type": "display_data"
        },
        {
          "data": {
            "text/html": [
              "<pre style=\"white-space:pre;overflow-x:auto;line-height:normal;font-family:Menlo,'DejaVu Sans Mono',consolas,'Courier New',monospace\"><span style=\"font-weight: bold\"> Total params: </span><span style=\"color: #00af00; text-decoration-color: #00af00\">21,377</span> (83.50 KB)\n",
              "</pre>\n"
            ],
            "text/plain": [
              "\u001b[1m Total params: \u001b[0m\u001b[38;5;34m21,377\u001b[0m (83.50 KB)\n"
            ]
          },
          "metadata": {},
          "output_type": "display_data"
        },
        {
          "data": {
            "text/html": [
              "<pre style=\"white-space:pre;overflow-x:auto;line-height:normal;font-family:Menlo,'DejaVu Sans Mono',consolas,'Courier New',monospace\"><span style=\"font-weight: bold\"> Trainable params: </span><span style=\"color: #00af00; text-decoration-color: #00af00\">20,929</span> (81.75 KB)\n",
              "</pre>\n"
            ],
            "text/plain": [
              "\u001b[1m Trainable params: \u001b[0m\u001b[38;5;34m20,929\u001b[0m (81.75 KB)\n"
            ]
          },
          "metadata": {},
          "output_type": "display_data"
        },
        {
          "data": {
            "text/html": [
              "<pre style=\"white-space:pre;overflow-x:auto;line-height:normal;font-family:Menlo,'DejaVu Sans Mono',consolas,'Courier New',monospace\"><span style=\"font-weight: bold\"> Non-trainable params: </span><span style=\"color: #00af00; text-decoration-color: #00af00\">448</span> (1.75 KB)\n",
              "</pre>\n"
            ],
            "text/plain": [
              "\u001b[1m Non-trainable params: \u001b[0m\u001b[38;5;34m448\u001b[0m (1.75 KB)\n"
            ]
          },
          "metadata": {},
          "output_type": "display_data"
        },
        {
          "name": "stdout",
          "output_type": "stream",
          "text": [
            "Epoch 1/50\n",
            "\u001b[1m1287/1287\u001b[0m \u001b[32m━━━━━━━━━━━━━━━━━━━━\u001b[0m\u001b[37m\u001b[0m \u001b[1m4s\u001b[0m 2ms/step - accuracy: 0.6117 - auc: 0.6494 - loss: 0.6968 - val_accuracy: 0.6766 - val_auc: 0.7404 - val_loss: 0.5990\n",
            "Epoch 2/50\n",
            "\u001b[1m1287/1287\u001b[0m \u001b[32m━━━━━━━━━━━━━━━━━━━━\u001b[0m\u001b[37m\u001b[0m \u001b[1m2s\u001b[0m 1ms/step - accuracy: 0.6739 - auc: 0.7323 - loss: 0.6066 - val_accuracy: 0.6815 - val_auc: 0.7478 - val_loss: 0.5919\n",
            "Epoch 3/50\n",
            "\u001b[1m1287/1287\u001b[0m \u001b[32m━━━━━━━━━━━━━━━━━━━━\u001b[0m\u001b[37m\u001b[0m \u001b[1m2s\u001b[0m 1ms/step - accuracy: 0.6854 - auc: 0.7455 - loss: 0.5951 - val_accuracy: 0.6825 - val_auc: 0.7541 - val_loss: 0.5870\n",
            "Epoch 4/50\n",
            "\u001b[1m1287/1287\u001b[0m \u001b[32m━━━━━━━━━━━━━━━━━━━━\u001b[0m\u001b[37m\u001b[0m \u001b[1m2s\u001b[0m 1ms/step - accuracy: 0.6897 - auc: 0.7509 - loss: 0.5901 - val_accuracy: 0.6905 - val_auc: 0.7578 - val_loss: 0.5838\n",
            "Epoch 5/50\n",
            "\u001b[1m1287/1287\u001b[0m \u001b[32m━━━━━━━━━━━━━━━━━━━━\u001b[0m\u001b[37m\u001b[0m \u001b[1m2s\u001b[0m 1ms/step - accuracy: 0.6920 - auc: 0.7535 - loss: 0.5872 - val_accuracy: 0.6928 - val_auc: 0.7593 - val_loss: 0.5818\n",
            "Epoch 6/50\n",
            "\u001b[1m1287/1287\u001b[0m \u001b[32m━━━━━━━━━━━━━━━━━━━━\u001b[0m\u001b[37m\u001b[0m \u001b[1m2s\u001b[0m 1ms/step - accuracy: 0.6929 - auc: 0.7570 - loss: 0.5843 - val_accuracy: 0.6936 - val_auc: 0.7624 - val_loss: 0.5779\n",
            "Epoch 7/50\n",
            "\u001b[1m1287/1287\u001b[0m \u001b[32m━━━━━━━━━━━━━━━━━━━━\u001b[0m\u001b[37m\u001b[0m \u001b[1m2s\u001b[0m 1ms/step - accuracy: 0.7014 - auc: 0.7652 - loss: 0.5768 - val_accuracy: 0.6970 - val_auc: 0.7641 - val_loss: 0.5773\n",
            "Epoch 8/50\n",
            "\u001b[1m1287/1287\u001b[0m \u001b[32m━━━━━━━━━━━━━━━━━━━━\u001b[0m\u001b[37m\u001b[0m \u001b[1m2s\u001b[0m 1ms/step - accuracy: 0.6994 - auc: 0.7631 - loss: 0.5784 - val_accuracy: 0.6965 - val_auc: 0.7648 - val_loss: 0.5759\n",
            "Epoch 9/50\n",
            "\u001b[1m1287/1287\u001b[0m \u001b[32m━━━━━━━━━━━━━━━━━━━━\u001b[0m\u001b[37m\u001b[0m \u001b[1m2s\u001b[0m 1ms/step - accuracy: 0.7008 - auc: 0.7669 - loss: 0.5749 - val_accuracy: 0.6976 - val_auc: 0.7672 - val_loss: 0.5730\n",
            "Epoch 10/50\n",
            "\u001b[1m1287/1287\u001b[0m \u001b[32m━━━━━━━━━━━━━━━━━━━━\u001b[0m\u001b[37m\u001b[0m \u001b[1m2s\u001b[0m 1ms/step - accuracy: 0.7047 - auc: 0.7693 - loss: 0.5724 - val_accuracy: 0.6961 - val_auc: 0.7658 - val_loss: 0.5759\n",
            "Epoch 11/50\n",
            "\u001b[1m1287/1287\u001b[0m \u001b[32m━━━━━━━━━━━━━━━━━━━━\u001b[0m\u001b[37m\u001b[0m \u001b[1m2s\u001b[0m 1ms/step - accuracy: 0.7034 - auc: 0.7718 - loss: 0.5698 - val_accuracy: 0.6993 - val_auc: 0.7686 - val_loss: 0.5726\n",
            "Epoch 12/50\n",
            "\u001b[1m1287/1287\u001b[0m \u001b[32m━━━━━━━━━━━━━━━━━━━━\u001b[0m\u001b[37m\u001b[0m \u001b[1m2s\u001b[0m 1ms/step - accuracy: 0.7035 - auc: 0.7691 - loss: 0.5723 - val_accuracy: 0.6999 - val_auc: 0.7690 - val_loss: 0.5722\n",
            "Epoch 13/50\n",
            "\u001b[1m1287/1287\u001b[0m \u001b[32m━━━━━━━━━━━━━━━━━━━━\u001b[0m\u001b[37m\u001b[0m \u001b[1m2s\u001b[0m 1ms/step - accuracy: 0.7038 - auc: 0.7712 - loss: 0.5707 - val_accuracy: 0.6998 - val_auc: 0.7685 - val_loss: 0.5736\n",
            "Epoch 14/50\n",
            "\u001b[1m1287/1287\u001b[0m \u001b[32m━━━━━━━━━━━━━━━━━━━━\u001b[0m\u001b[37m\u001b[0m \u001b[1m2s\u001b[0m 1ms/step - accuracy: 0.7061 - auc: 0.7742 - loss: 0.5680 - val_accuracy: 0.6988 - val_auc: 0.7707 - val_loss: 0.5699\n",
            "Epoch 15/50\n",
            "\u001b[1m1287/1287\u001b[0m \u001b[32m━━━━━━━━━━━━━━━━━━━━\u001b[0m\u001b[37m\u001b[0m \u001b[1m2s\u001b[0m 1ms/step - accuracy: 0.7027 - auc: 0.7722 - loss: 0.5697 - val_accuracy: 0.6975 - val_auc: 0.7699 - val_loss: 0.5709\n",
            "Epoch 16/50\n",
            "\u001b[1m1287/1287\u001b[0m \u001b[32m━━━━━━━━━━━━━━━━━━━━\u001b[0m\u001b[37m\u001b[0m \u001b[1m2s\u001b[0m 1ms/step - accuracy: 0.7071 - auc: 0.7771 - loss: 0.5645 - val_accuracy: 0.6999 - val_auc: 0.7702 - val_loss: 0.5700\n",
            "Epoch 17/50\n",
            "\u001b[1m1287/1287\u001b[0m \u001b[32m━━━━━━━━━━━━━━━━━━━━\u001b[0m\u001b[37m\u001b[0m \u001b[1m2s\u001b[0m 1ms/step - accuracy: 0.7067 - auc: 0.7735 - loss: 0.5680 - val_accuracy: 0.6976 - val_auc: 0.7686 - val_loss: 0.5723\n",
            "Epoch 18/50\n",
            "\u001b[1m1287/1287\u001b[0m \u001b[32m━━━━━━━━━━━━━━━━━━━━\u001b[0m\u001b[37m\u001b[0m \u001b[1m2s\u001b[0m 1ms/step - accuracy: 0.7109 - auc: 0.7790 - loss: 0.5624 - val_accuracy: 0.6985 - val_auc: 0.7704 - val_loss: 0.5715\n",
            "Epoch 19/50\n",
            "\u001b[1m1287/1287\u001b[0m \u001b[32m━━━━━━━━━━━━━━━━━━━━\u001b[0m\u001b[37m\u001b[0m \u001b[1m2s\u001b[0m 1ms/step - accuracy: 0.7102 - auc: 0.7770 - loss: 0.5643 - val_accuracy: 0.6982 - val_auc: 0.7702 - val_loss: 0.5698\n",
            "Epoch 20/50\n",
            "\u001b[1m1287/1287\u001b[0m \u001b[32m━━━━━━━━━━━━━━━━━━━━\u001b[0m\u001b[37m\u001b[0m \u001b[1m2s\u001b[0m 1ms/step - accuracy: 0.7117 - auc: 0.7802 - loss: 0.5623 - val_accuracy: 0.6981 - val_auc: 0.7686 - val_loss: 0.5729\n",
            "Epoch 21/50\n",
            "\u001b[1m1287/1287\u001b[0m \u001b[32m━━━━━━━━━━━━━━━━━━━━\u001b[0m\u001b[37m\u001b[0m \u001b[1m2s\u001b[0m 1ms/step - accuracy: 0.7095 - auc: 0.7787 - loss: 0.5626 - val_accuracy: 0.6994 - val_auc: 0.7696 - val_loss: 0.5704\n",
            "Epoch 22/50\n",
            "\u001b[1m1287/1287\u001b[0m \u001b[32m━━━━━━━━━━━━━━━━━━━━\u001b[0m\u001b[37m\u001b[0m \u001b[1m2s\u001b[0m 1ms/step - accuracy: 0.7090 - auc: 0.7810 - loss: 0.5602 - val_accuracy: 0.6990 - val_auc: 0.7686 - val_loss: 0.5717\n",
            "Epoch 23/50\n",
            "\u001b[1m1287/1287\u001b[0m \u001b[32m━━━━━━━━━━━━━━━━━━━━\u001b[0m\u001b[37m\u001b[0m \u001b[1m2s\u001b[0m 1ms/step - accuracy: 0.7106 - auc: 0.7802 - loss: 0.5615 - val_accuracy: 0.6982 - val_auc: 0.7690 - val_loss: 0.5712\n",
            "Epoch 24/50\n",
            "\u001b[1m1287/1287\u001b[0m \u001b[32m━━━━━━━━━━━━━━━━━━━━\u001b[0m\u001b[37m\u001b[0m \u001b[1m2s\u001b[0m 1ms/step - accuracy: 0.7118 - auc: 0.7838 - loss: 0.5586 - val_accuracy: 0.6974 - val_auc: 0.7693 - val_loss: 0.5732\n",
            "Epoch 25/50\n",
            "\u001b[1m1287/1287\u001b[0m \u001b[32m━━━━━━━━━━━━━━━━━━━━\u001b[0m\u001b[37m\u001b[0m \u001b[1m2s\u001b[0m 1ms/step - accuracy: 0.7133 - auc: 0.7808 - loss: 0.5602 - val_accuracy: 0.7006 - val_auc: 0.7707 - val_loss: 0.5696\n",
            "Epoch 26/50\n",
            "\u001b[1m1287/1287\u001b[0m \u001b[32m━━━━━━━━━━━━━━━━━━━━\u001b[0m\u001b[37m\u001b[0m \u001b[1m2s\u001b[0m 1ms/step - accuracy: 0.7110 - auc: 0.7820 - loss: 0.5592 - val_accuracy: 0.6977 - val_auc: 0.7692 - val_loss: 0.5714\n",
            "Epoch 27/50\n",
            "\u001b[1m1287/1287\u001b[0m \u001b[32m━━━━━━━━━━━━━━━━━━━━\u001b[0m\u001b[37m\u001b[0m \u001b[1m2s\u001b[0m 1ms/step - accuracy: 0.7130 - auc: 0.7825 - loss: 0.5591 - val_accuracy: 0.6973 - val_auc: 0.7692 - val_loss: 0.5728\n",
            "Epoch 28/50\n",
            "\u001b[1m1287/1287\u001b[0m \u001b[32m━━━━━━━━━━━━━━━━━━━━\u001b[0m\u001b[37m\u001b[0m \u001b[1m2s\u001b[0m 1ms/step - accuracy: 0.7107 - auc: 0.7834 - loss: 0.5576 - val_accuracy: 0.6994 - val_auc: 0.7708 - val_loss: 0.5696\n",
            "Epoch 29/50\n",
            "\u001b[1m1287/1287\u001b[0m \u001b[32m━━━━━━━━━━━━━━━━━━━━\u001b[0m\u001b[37m\u001b[0m \u001b[1m2s\u001b[0m 1ms/step - accuracy: 0.7163 - auc: 0.7854 - loss: 0.5559 - val_accuracy: 0.7003 - val_auc: 0.7698 - val_loss: 0.5705\n",
            "Epoch 30/50\n",
            "\u001b[1m1287/1287\u001b[0m \u001b[32m━━━━━━━━━━━━━━━━━━━━\u001b[0m\u001b[37m\u001b[0m \u001b[1m2s\u001b[0m 1ms/step - accuracy: 0.7185 - auc: 0.7890 - loss: 0.5526 - val_accuracy: 0.7006 - val_auc: 0.7687 - val_loss: 0.5725\n",
            "Epoch 31/50\n",
            "\u001b[1m1287/1287\u001b[0m \u001b[32m━━━━━━━━━━━━━━━━━━━━\u001b[0m\u001b[37m\u001b[0m \u001b[1m2s\u001b[0m 1ms/step - accuracy: 0.7139 - auc: 0.7850 - loss: 0.5555 - val_accuracy: 0.6999 - val_auc: 0.7699 - val_loss: 0.5701\n",
            "Epoch 32/50\n",
            "\u001b[1m1287/1287\u001b[0m \u001b[32m━━━━━━━━━━━━━━━━━━━━\u001b[0m\u001b[37m\u001b[0m \u001b[1m2s\u001b[0m 1ms/step - accuracy: 0.7166 - auc: 0.7882 - loss: 0.5529 - val_accuracy: 0.6975 - val_auc: 0.7687 - val_loss: 0.5721\n",
            "Epoch 33/50\n",
            "\u001b[1m1287/1287\u001b[0m \u001b[32m━━━━━━━━━━━━━━━━━━━━\u001b[0m\u001b[37m\u001b[0m \u001b[1m2s\u001b[0m 1ms/step - accuracy: 0.7165 - auc: 0.7872 - loss: 0.5538 - val_accuracy: 0.6999 - val_auc: 0.7689 - val_loss: 0.5719\n",
            "Epoch 34/50\n",
            "\u001b[1m1287/1287\u001b[0m \u001b[32m━━━━━━━━━━━━━━━━━━━━\u001b[0m\u001b[37m\u001b[0m \u001b[1m2s\u001b[0m 1ms/step - accuracy: 0.7163 - auc: 0.7871 - loss: 0.5547 - val_accuracy: 0.7007 - val_auc: 0.7694 - val_loss: 0.5707\n"
          ]
        }
      ],
      "source": [
        "import tensorflow as tf\n",
        "from tensorflow.keras import layers, models, regularizers\n",
        "\n",
        "def build_model(input_dim, n_hidden1=128, n_hidden2=64, n_hidden3=32, dropout_rate=0.3, l2_reg=0.0, learning_rate=0.001):\n",
        "    model = models.Sequential()\n",
        "    model.add(layers.Dense(n_hidden1, activation='relu', kernel_regularizer=regularizers.l2(l2_reg), input_shape=(input_dim,)))\n",
        "    model.add(layers.BatchNormalization())\n",
        "    model.add(layers.Dropout(dropout_rate))\n",
        "    model.add(layers.Dense(n_hidden2, activation='relu', kernel_regularizer=regularizers.l2(l2_reg)))\n",
        "    model.add(layers.BatchNormalization())\n",
        "    model.add(layers.Dropout(dropout_rate))\n",
        "    model.add(layers.Dense(n_hidden3, activation='relu', kernel_regularizer=regularizers.l2(l2_reg)))\n",
        "    model.add(layers.BatchNormalization())\n",
        "    model.add(layers.Dropout(dropout_rate))\n",
        "    model.add(layers.Dense(1, activation='sigmoid'))\n",
        "    model.compile(optimizer=tf.keras.optimizers.Adam(learning_rate=learning_rate), loss='binary_crossentropy', metrics=['accuracy', tf.keras.metrics.AUC(name='auc')])\n",
        "    return model\n",
        "\n",
        "\n",
        "# Construir y revisar el modelo\n",
        "model_emp = build_model(input_dim=78)\n",
        "model_emp.summary()\n",
        "\n",
        "# Entrenar el modelo\n",
        "early_stopping_cb = tf.keras.callbacks.EarlyStopping(monitor='val_loss', patience=6, restore_best_weights=True)\n",
        "\n",
        "history = model_emp.fit(X_train_emp, y_train_emp,\n",
        "                        validation_data=(X_val_emp, y_val_emp),\n",
        "                        epochs=50,\n",
        "                        batch_size=64,\n",
        "                        callbacks=[early_stopping_cb],\n",
        "                        verbose=1)\n"
      ]
    },
    {
      "cell_type": "code",
      "execution_count": null,
      "metadata": {
        "id": "RR5CU7m6AQQV",
        "outputId": "34fc0d42-761c-47bc-d386-b34de3c62d3d"
      },
      "outputs": [
        {
          "ename": "NameError",
          "evalue": "name 'X_test_emp' is not defined",
          "output_type": "error",
          "traceback": [
            "\u001b[1;31m---------------------------------------------------------------------------\u001b[0m",
            "\u001b[1;31mNameError\u001b[0m                                 Traceback (most recent call last)",
            "Cell \u001b[1;32mIn[62], line 3\u001b[0m\n\u001b[0;32m      1\u001b[0m \u001b[38;5;28;01mfrom\u001b[39;00m \u001b[38;5;21;01msklearn\u001b[39;00m\u001b[38;5;21;01m.\u001b[39;00m\u001b[38;5;21;01mmetrics\u001b[39;00m \u001b[38;5;28;01mimport\u001b[39;00m accuracy_score, f1_score, precision_score, classification_report\n\u001b[1;32m----> 3\u001b[0m results_emp \u001b[38;5;241m=\u001b[39m model\u001b[38;5;241m.\u001b[39mevaluate(\u001b[43mX_test_emp\u001b[49m, y_test_emp, verbose\u001b[38;5;241m=\u001b[39m\u001b[38;5;241m0\u001b[39m)\n\u001b[0;32m      4\u001b[0m \u001b[38;5;28mprint\u001b[39m(\u001b[38;5;124m\"\u001b[39m\u001b[38;5;124mLoss en test:\u001b[39m\u001b[38;5;124m\"\u001b[39m, results_emp[\u001b[38;5;241m0\u001b[39m])\n\u001b[0;32m      5\u001b[0m \u001b[38;5;28mprint\u001b[39m(\u001b[38;5;124m\"\u001b[39m\u001b[38;5;124mAccuracy en test:\u001b[39m\u001b[38;5;124m\"\u001b[39m, results_emp[\u001b[38;5;241m1\u001b[39m])\n",
            "\u001b[1;31mNameError\u001b[0m: name 'X_test_emp' is not defined"
          ]
        }
      ],
      "source": [
        "from sklearn.metrics import accuracy_score, f1_score, precision_score, classification_report\n",
        "\n",
        "results_emp = model.evaluate(X_test, y_test, verbose=0)\n",
        "print(\"Loss en test:\", results_emp[0])\n",
        "print(\"Accuracy en test:\", results_emp[1])\n",
        "print(\"AUC en test:\", results_emp[2])\n",
        "\n",
        "# Generar Predicciones Probabilísticas\n",
        "y_pred_prob_emp = model.predict(X_test_emp, batch_size=64, verbose=0)\n",
        "\n",
        "# Convertir Probabilidades a Etiquetas de Clase (umbral = 0.5)\n",
        "y_pred_emp = (y_pred_prob_emp >= 0.5).astype(int).reshape(-1)\n",
        "\n",
        "# Generar y Mostrar el Reporte de Clasificación\n",
        "print(\"\\n--- Classification Report ---\\n\")\n",
        "print(classification_report(y_test_emp, y_pred_emp, digits=4))"
      ]
    },
    {
      "cell_type": "markdown",
      "metadata": {
        "id": "cPn3cnb9AQQW"
      },
      "source": [
        "## Creación de embeddings de \"emp_title\" y almacenarlos para solo realizar ésta operación una vez."
      ]
    },
    {
      "cell_type": "code",
      "execution_count": null,
      "metadata": {
        "colab": {
          "base_uri": "https://localhost:8080/"
        },
        "id": "SHOwmnQgQr_k",
        "outputId": "10a73b42-fa2b-4638-a3bf-e3347a2b2a58"
      },
      "outputs": [
        {
          "name": "stdout",
          "output_type": "stream",
          "text": [
            "Requirement already satisfied: sentence-transformers in c:\\users\\sagui\\appdata\\local\\programs\\python\\python311\\lib\\site-packages (3.3.1)\n",
            "Requirement already satisfied: transformers<5.0.0,>=4.41.0 in c:\\users\\sagui\\appdata\\local\\programs\\python\\python311\\lib\\site-packages (from sentence-transformers) (4.48.0)\n",
            "Requirement already satisfied: tqdm in c:\\users\\sagui\\appdata\\local\\programs\\python\\python311\\lib\\site-packages (from sentence-transformers) (4.67.1)\n",
            "Requirement already satisfied: torch>=1.11.0 in c:\\users\\sagui\\appdata\\local\\programs\\python\\python311\\lib\\site-packages (from sentence-transformers) (2.5.1)\n",
            "Requirement already satisfied: scikit-learn in c:\\users\\sagui\\appdata\\local\\programs\\python\\python311\\lib\\site-packages (from sentence-transformers) (1.4.1.post1)\n",
            "Requirement already satisfied: scipy in c:\\users\\sagui\\appdata\\local\\programs\\python\\python311\\lib\\site-packages (from sentence-transformers) (1.13.0)\n",
            "Requirement already satisfied: huggingface-hub>=0.20.0 in c:\\users\\sagui\\appdata\\local\\programs\\python\\python311\\lib\\site-packages (from sentence-transformers) (0.27.1)\n",
            "Requirement already satisfied: Pillow in c:\\users\\sagui\\appdata\\local\\programs\\python\\python311\\lib\\site-packages (from sentence-transformers) (10.1.0)\n",
            "Requirement already satisfied: filelock in c:\\users\\sagui\\appdata\\local\\programs\\python\\python311\\lib\\site-packages (from huggingface-hub>=0.20.0->sentence-transformers) (3.16.1)\n",
            "Requirement already satisfied: fsspec>=2023.5.0 in c:\\users\\sagui\\appdata\\local\\programs\\python\\python311\\lib\\site-packages (from huggingface-hub>=0.20.0->sentence-transformers) (2024.12.0)\n",
            "Requirement already satisfied: packaging>=20.9 in c:\\users\\sagui\\appdata\\local\\programs\\python\\python311\\lib\\site-packages (from huggingface-hub>=0.20.0->sentence-transformers) (23.2)\n",
            "Requirement already satisfied: pyyaml>=5.1 in c:\\users\\sagui\\appdata\\local\\programs\\python\\python311\\lib\\site-packages (from huggingface-hub>=0.20.0->sentence-transformers) (6.0.2)\n",
            "Requirement already satisfied: requests in c:\\users\\sagui\\appdata\\local\\programs\\python\\python311\\lib\\site-packages (from huggingface-hub>=0.20.0->sentence-transformers) (2.31.0)\n",
            "Requirement already satisfied: typing-extensions>=3.7.4.3 in c:\\users\\sagui\\appdata\\local\\programs\\python\\python311\\lib\\site-packages (from huggingface-hub>=0.20.0->sentence-transformers) (4.8.0)\n",
            "Requirement already satisfied: networkx in c:\\users\\sagui\\appdata\\local\\programs\\python\\python311\\lib\\site-packages (from torch>=1.11.0->sentence-transformers) (3.3)\n",
            "Requirement already satisfied: jinja2 in c:\\users\\sagui\\appdata\\local\\programs\\python\\python311\\lib\\site-packages (from torch>=1.11.0->sentence-transformers) (3.1.2)\n",
            "Requirement already satisfied: sympy==1.13.1 in c:\\users\\sagui\\appdata\\local\\programs\\python\\python311\\lib\\site-packages (from torch>=1.11.0->sentence-transformers) (1.13.1)\n",
            "Requirement already satisfied: mpmath<1.4,>=1.1.0 in c:\\users\\sagui\\appdata\\local\\programs\\python\\python311\\lib\\site-packages (from sympy==1.13.1->torch>=1.11.0->sentence-transformers) (1.3.0)\n",
            "Requirement already satisfied: colorama in c:\\users\\sagui\\appdata\\local\\programs\\python\\python311\\lib\\site-packages (from tqdm->sentence-transformers) (0.4.6)\n",
            "Requirement already satisfied: numpy>=1.17 in c:\\users\\sagui\\appdata\\local\\programs\\python\\python311\\lib\\site-packages (from transformers<5.0.0,>=4.41.0->sentence-transformers) (1.26.1)\n",
            "Requirement already satisfied: regex!=2019.12.17 in c:\\users\\sagui\\appdata\\local\\programs\\python\\python311\\lib\\site-packages (from transformers<5.0.0,>=4.41.0->sentence-transformers) (2024.11.6)\n",
            "Requirement already satisfied: tokenizers<0.22,>=0.21 in c:\\users\\sagui\\appdata\\local\\programs\\python\\python311\\lib\\site-packages (from transformers<5.0.0,>=4.41.0->sentence-transformers) (0.21.0)\n",
            "Requirement already satisfied: safetensors>=0.4.1 in c:\\users\\sagui\\appdata\\local\\programs\\python\\python311\\lib\\site-packages (from transformers<5.0.0,>=4.41.0->sentence-transformers) (0.5.2)\n",
            "Requirement already satisfied: joblib>=1.2.0 in c:\\users\\sagui\\appdata\\local\\programs\\python\\python311\\lib\\site-packages (from scikit-learn->sentence-transformers) (1.3.2)\n",
            "Requirement already satisfied: threadpoolctl>=2.0.0 in c:\\users\\sagui\\appdata\\local\\programs\\python\\python311\\lib\\site-packages (from scikit-learn->sentence-transformers) (3.4.0)\n",
            "Requirement already satisfied: MarkupSafe>=2.0 in c:\\users\\sagui\\appdata\\local\\programs\\python\\python311\\lib\\site-packages (from jinja2->torch>=1.11.0->sentence-transformers) (2.1.3)\n",
            "Requirement already satisfied: charset-normalizer<4,>=2 in c:\\users\\sagui\\appdata\\local\\programs\\python\\python311\\lib\\site-packages (from requests->huggingface-hub>=0.20.0->sentence-transformers) (3.3.0)\n",
            "Requirement already satisfied: idna<4,>=2.5 in c:\\users\\sagui\\appdata\\local\\programs\\python\\python311\\lib\\site-packages (from requests->huggingface-hub>=0.20.0->sentence-transformers) (3.4)\n",
            "Requirement already satisfied: urllib3<3,>=1.21.1 in c:\\users\\sagui\\appdata\\local\\programs\\python\\python311\\lib\\site-packages (from requests->huggingface-hub>=0.20.0->sentence-transformers) (2.0.7)\n",
            "Requirement already satisfied: certifi>=2017.4.17 in c:\\users\\sagui\\appdata\\local\\programs\\python\\python311\\lib\\site-packages (from requests->huggingface-hub>=0.20.0->sentence-transformers) (2023.7.22)\n"
          ]
        },
        {
          "name": "stderr",
          "output_type": "stream",
          "text": [
            "\n",
            "[notice] A new release of pip is available: 24.0 -> 24.3.1\n",
            "[notice] To update, run: python.exe -m pip install --upgrade pip\n"
          ]
        }
      ],
      "source": [
        "#!pip install tf-keras\n",
        "error para no ejecutar\n",
        "!pip install sentence-transformers"
      ]
    },
    {
      "cell_type": "code",
      "execution_count": null,
      "metadata": {
        "id": "-bUqEEB5AQQX"
      },
      "outputs": [],
      "source": [
        "df_emp = df.copy()\n",
        "df_emp[\"emp_title\"] = emp_title"
      ]
    },
    {
      "cell_type": "code",
      "execution_count": null,
      "metadata": {
        "colab": {
          "base_uri": "https://localhost:8080/",
          "height": 369,
          "referenced_widgets": [
            "dd877c5d9d56441c8e3bc8ff09c303d6",
            "c90770e536af487aa34d41703aecdfe2",
            "8919069cd08b42f7b0139be4941ecb82",
            "a2a10c672b9b4c78ad109ed4658fc94a",
            "406474011aeb42919e57329b592e5c1c",
            "9bf0e3f571a64c7d97b8995bd69c40c0",
            "c2868ecfa604477dacc7429ea2bf4e78",
            "36edf23ae0c74c7f9c1eaa89b4ba4625",
            "47bd36122fe749a580af687039dd8129",
            "9e274e130ddc4cd0931048d90413a64d",
            "d2c44482cc2541458b215402f9502ba0",
            "31ef0cb6637040aab7ba17c29a59bc22",
            "3cf93a13db994dae915bc80315db4402",
            "d44f381b7fbb4c08b42b22f23df3ed0c",
            "cc1879b7a5a445799303df28497ed40c",
            "73c3f4482e644d299ec8470f79578d7f",
            "d982a14f02474c31849ce3401e0c5cf8",
            "c7ef4dc74ece4b0aa7ab44dfdf837f29",
            "c5aea1daf50c4c0e845ac7bd855da87c",
            "fab754cbb80d4872bf0b6e5c9b41eec7",
            "60a00d5d35aa4dee8141fd9dce27e2c4",
            "1233e936f20e431db7e25cf62ca7de37",
            "99f1e214ac8945ebaa4319f422ee1726",
            "03ce3fb94f234d20914021e4c70397dc",
            "1fedb2fc9aa045ba9796840b5af743e9",
            "d7a47a91987648198a68262f787df3b9",
            "946fa1e3b3464f319aa8920a6fc8164b",
            "87aac3253ad94dd0aac4ec65f20f32aa",
            "b2d7e905d52d4ddca12d9e8a257348b3",
            "e477db4d14134895809250d94f9d7ed7",
            "e86b81b2b4ea495381b8b51b70d39b90",
            "d576ea35b60d42acaf9db073341761b5",
            "af9b40be2a99410d96f0368a719d4c80",
            "5095c62c27b448c0b92ed638c4fe6a54",
            "ffaecfb16714421d9fdcf76dcbe67e80",
            "f89dd41693674639be04bee4536daf0b",
            "fc1f70bb462d4e74b69a0207179908dd",
            "5a8c620c8eed4b9185e2aa41cb7a3e15",
            "e426f8cf3eb142b6a73e8ce8bcf22590",
            "8e0e7be631e34808af6295a581f6e364",
            "4898d9692761446f910d7d4c271bf1b4",
            "214458dce9b6446ab974023f07118d44",
            "d2476568fd274df08cfa5ba7b6d3e392",
            "48f0771064364c1fb24e5f396e2d75ec",
            "aad2b82d4fc641b2b5dc2d3b816a333d",
            "c9c6979823b44e7097d500a9729ebf37",
            "6a7f49cbf00a4567a844c94491b95d37",
            "649579396a70497a8a7f92af65f59da3",
            "f69ade0466d04722a5525badaf01caf5",
            "b61f3a61d18b46f8a6a1619ad4d2baf7",
            "0a9ab2843c97444b94202188e7af054b",
            "dacf77c3cd334870ac105c9b1f54820b",
            "b827768053014d66bd3b01bb38b315df",
            "369fbefbb883445c979853434d944558",
            "4a2c8daec075493481650b59c4e5c6c9",
            "bc02c76ccca040a7bfce5bef7698f780",
            "95f376124f024adb8a7c71023fe3b6b9",
            "d50b1d399c1c415cb21207e49ca6e2a1",
            "9e1cb3e25c684e32a910d07759041933",
            "b7cfb32f26314aed9a7cce8310ba74ae",
            "b6b77eb4ed1341b88a21a356e7c1b6e9",
            "c10a1dd131684e5faf90a3723d9baee4",
            "7c06266dabc546739fed1abf29ceec66",
            "5e0ac109055a4c769605b226f5042698",
            "9550ab3466e640eeb1798d6b6d438cd4",
            "1f4ca15e103c47f9a4e74c56da9676c3",
            "a2b52b8eb67a4792aa1ae2dab7578ed5",
            "760f48d96a6c450f86d789e8b728cda3",
            "50cb0255ea22455a81505eb1acc22b98",
            "d01d25ef0829486bbb33f5cf701aca60",
            "08bbc79b83ae480bb9f7df83cc09849a",
            "6dee8fd2595a46b4b3365d45b88e0f81",
            "667517b51a3a4da8bd84f854ff25eadd",
            "aa707ccd1fae435b96a9000f4047b319",
            "105103cbe27243b3abd4ec6f866f04f3",
            "b7dfd099ac84413fa93e6c2bfe4545f9",
            "7d659d8bd82e430db001bb0c29d1e7d4",
            "c3560d82580c4d6b8597cd0e8f3996c7",
            "1249fbcad1714062bd24aa9c10b6a182",
            "3d1a6d2ee6f243b58b4315fb9c6ba903",
            "3a641c24ed8b4c0a85423eef5a218a04",
            "bbac4703159a445980846dc20ecc3d85",
            "4abddb5df65c4a1eaf00cf1855b5f681",
            "6cef194a5b5246b2ac230d33ae642471",
            "583c2a77c8e648c8b5803ba090c444b6",
            "e28e79f362d74fa89a77c6fc3ef62563",
            "e1796464ccbc4fe096a7358df5c2fc42",
            "cae6666d94174973a2978cd8a08d560d",
            "1800141fed304b438af4b7315aae80ae",
            "169c7ae4904b43d084e6976bb05161b4",
            "26dd61769cdc44ec9b7e40cb1b79deaf",
            "16e61114f20a4806b46e9bdfdc8cd3c9",
            "f0146546faa846be9be9f8edfc752e51",
            "c1c09a7bef6e416eb3c23cbcd7847ac3",
            "8d70a2b941f94c1d905aa1286841c3a9",
            "0167e280c3c547b7b88d7e78b68df608",
            "225f77ba10384d119b0498762530e519",
            "9c2a119a1be44541859050394e10213f",
            "5104f2219558477c85a03ae6287cdc18",
            "83144be47fbe4d4cb2bf406d988598ad",
            "ab1b9053b73c4aa7b6b27278a80a0a0e",
            "131d68edfc154ff7ade9578a69197754",
            "99001e69a62546b59d99987c49634345",
            "776d95027c21408d999ac7c7d00239d6",
            "ec734e7f1fe142b49dc43ac45d6a267c",
            "82a130bcc2ac4b449d6cd4dafbccc85e",
            "aab8e5b01cb04f8790b9fc278f9d2205",
            "141d9964d73c4d19809b27f174084db4",
            "d936378f84af45e7ba4367402d0623db",
            "35fde344164e491a854db2f8004541a2",
            "0a01d2f7a4d24c76a6a15a821609613a",
            "d38b0fb1a8504a809d6d353d72630288",
            "0dd1b7f7a58247f780ccce7cdc56afb0",
            "87d579e157cd4218ae261048686a6a15",
            "7e51a58296cf4aa9b03f7b24ba2610e9",
            "338276b033494458bc3687459a0094ce",
            "d90ce6a4d7b64a37b4b3a172f02d68cb",
            "904fbd25acbb45c982fe0d738000f024",
            "0a3351720d0142c9a318e1208a7188af",
            "ee917c19b82f43138838c860b338112b",
            "d79ba862199a4406a669a56bce25bf73"
          ]
        },
        "id": "tqH8HphIayLx",
        "outputId": "134f0626-7672-4b47-dcc8-a8ce1d6514c5"
      },
      "outputs": [
        {
          "name": "stdout",
          "output_type": "stream",
          "text": [
            "WARNING:tensorflow:From c:\\Users\\sagui\\AppData\\Local\\Programs\\Python\\Python311\\Lib\\site-packages\\tf_keras\\src\\losses.py:2976: The name tf.losses.sparse_softmax_cross_entropy is deprecated. Please use tf.compat.v1.losses.sparse_softmax_cross_entropy instead.\n",
            "\n"
          ]
        }
      ],
      "source": [
        "from sentence_transformers import SentenceTransformer\n",
        "df_emp = df\n",
        "model = SentenceTransformer('sentence-transformers/all-MiniLM-L6-v2')"
      ]
    },
    {
      "cell_type": "code",
      "execution_count": null,
      "metadata": {
        "colab": {
          "base_uri": "https://localhost:8080/",
          "height": 49,
          "referenced_widgets": [
            "ea33634149ff40db979510086110dbf5",
            "14f8238ab27145d5b8a9fa715036f30f",
            "88ae5948356a4e74b67c7be65b5568de",
            "815872c49be04ef09820ac04f9fc68bb",
            "f52213bf17e0491d9faca51271da8982",
            "4fd54c13122147cd8b6a61d4ab89678e",
            "be25fdbf8e814c1ca87093194496019f",
            "10eb2de6f66c4d549394747373af8402",
            "09d8e8f24e714348bddd83e4f9ca7c6e",
            "722da254e0664cc9885265c77fd84270",
            "298447f4c3b543f5b3fbee99d7efeb9a"
          ]
        },
        "id": "r87xzHmmbAha",
        "outputId": "1fdb38e1-2ac0-4d2a-cabc-3e1d9176722f"
      },
      "outputs": [
        {
          "ename": "KeyError",
          "evalue": "'emp_title'",
          "output_type": "error",
          "traceback": [
            "\u001b[1;31m---------------------------------------------------------------------------\u001b[0m",
            "\u001b[1;31mKeyError\u001b[0m                                  Traceback (most recent call last)",
            "File \u001b[1;32mc:\\Users\\sagui\\AppData\\Local\\Programs\\Python\\Python311\\Lib\\site-packages\\pandas\\core\\indexes\\base.py:3790\u001b[0m, in \u001b[0;36mIndex.get_loc\u001b[1;34m(self, key)\u001b[0m\n\u001b[0;32m   3789\u001b[0m \u001b[38;5;28;01mtry\u001b[39;00m:\n\u001b[1;32m-> 3790\u001b[0m     \u001b[38;5;28;01mreturn\u001b[39;00m \u001b[38;5;28;43mself\u001b[39;49m\u001b[38;5;241;43m.\u001b[39;49m\u001b[43m_engine\u001b[49m\u001b[38;5;241;43m.\u001b[39;49m\u001b[43mget_loc\u001b[49m\u001b[43m(\u001b[49m\u001b[43mcasted_key\u001b[49m\u001b[43m)\u001b[49m\n\u001b[0;32m   3791\u001b[0m \u001b[38;5;28;01mexcept\u001b[39;00m \u001b[38;5;167;01mKeyError\u001b[39;00m \u001b[38;5;28;01mas\u001b[39;00m err:\n",
            "File \u001b[1;32mindex.pyx:152\u001b[0m, in \u001b[0;36mpandas._libs.index.IndexEngine.get_loc\u001b[1;34m()\u001b[0m\n",
            "File \u001b[1;32mindex.pyx:181\u001b[0m, in \u001b[0;36mpandas._libs.index.IndexEngine.get_loc\u001b[1;34m()\u001b[0m\n",
            "File \u001b[1;32mpandas\\_libs\\hashtable_class_helper.pxi:7080\u001b[0m, in \u001b[0;36mpandas._libs.hashtable.PyObjectHashTable.get_item\u001b[1;34m()\u001b[0m\n",
            "File \u001b[1;32mpandas\\_libs\\hashtable_class_helper.pxi:7088\u001b[0m, in \u001b[0;36mpandas._libs.hashtable.PyObjectHashTable.get_item\u001b[1;34m()\u001b[0m\n",
            "\u001b[1;31mKeyError\u001b[0m: 'emp_title'",
            "\nThe above exception was the direct cause of the following exception:\n",
            "\u001b[1;31mKeyError\u001b[0m                                  Traceback (most recent call last)",
            "Cell \u001b[1;32mIn[50], line 1\u001b[0m\n\u001b[1;32m----> 1\u001b[0m job_texts \u001b[38;5;241m=\u001b[39m \u001b[43mdf_emp\u001b[49m\u001b[43m[\u001b[49m\u001b[38;5;124;43m\"\u001b[39;49m\u001b[38;5;124;43memp_title\u001b[39;49m\u001b[38;5;124;43m\"\u001b[39;49m\u001b[43m]\u001b[49m\u001b[38;5;241m.\u001b[39mastype(\u001b[38;5;28mstr\u001b[39m)\u001b[38;5;241m.\u001b[39mtolist()  \u001b[38;5;66;03m# Convertir a string por seguridad\u001b[39;00m\n\u001b[0;32m      2\u001b[0m job_embeddings \u001b[38;5;241m=\u001b[39m model\u001b[38;5;241m.\u001b[39mencode(job_texts, show_progress_bar\u001b[38;5;241m=\u001b[39m\u001b[38;5;28;01mTrue\u001b[39;00m)\n",
            "File \u001b[1;32mc:\\Users\\sagui\\AppData\\Local\\Programs\\Python\\Python311\\Lib\\site-packages\\pandas\\core\\frame.py:3896\u001b[0m, in \u001b[0;36mDataFrame.__getitem__\u001b[1;34m(self, key)\u001b[0m\n\u001b[0;32m   3894\u001b[0m \u001b[38;5;28;01mif\u001b[39;00m \u001b[38;5;28mself\u001b[39m\u001b[38;5;241m.\u001b[39mcolumns\u001b[38;5;241m.\u001b[39mnlevels \u001b[38;5;241m>\u001b[39m \u001b[38;5;241m1\u001b[39m:\n\u001b[0;32m   3895\u001b[0m     \u001b[38;5;28;01mreturn\u001b[39;00m \u001b[38;5;28mself\u001b[39m\u001b[38;5;241m.\u001b[39m_getitem_multilevel(key)\n\u001b[1;32m-> 3896\u001b[0m indexer \u001b[38;5;241m=\u001b[39m \u001b[38;5;28;43mself\u001b[39;49m\u001b[38;5;241;43m.\u001b[39;49m\u001b[43mcolumns\u001b[49m\u001b[38;5;241;43m.\u001b[39;49m\u001b[43mget_loc\u001b[49m\u001b[43m(\u001b[49m\u001b[43mkey\u001b[49m\u001b[43m)\u001b[49m\n\u001b[0;32m   3897\u001b[0m \u001b[38;5;28;01mif\u001b[39;00m is_integer(indexer):\n\u001b[0;32m   3898\u001b[0m     indexer \u001b[38;5;241m=\u001b[39m [indexer]\n",
            "File \u001b[1;32mc:\\Users\\sagui\\AppData\\Local\\Programs\\Python\\Python311\\Lib\\site-packages\\pandas\\core\\indexes\\base.py:3797\u001b[0m, in \u001b[0;36mIndex.get_loc\u001b[1;34m(self, key)\u001b[0m\n\u001b[0;32m   3792\u001b[0m     \u001b[38;5;28;01mif\u001b[39;00m \u001b[38;5;28misinstance\u001b[39m(casted_key, \u001b[38;5;28mslice\u001b[39m) \u001b[38;5;129;01mor\u001b[39;00m (\n\u001b[0;32m   3793\u001b[0m         \u001b[38;5;28misinstance\u001b[39m(casted_key, abc\u001b[38;5;241m.\u001b[39mIterable)\n\u001b[0;32m   3794\u001b[0m         \u001b[38;5;129;01mand\u001b[39;00m \u001b[38;5;28many\u001b[39m(\u001b[38;5;28misinstance\u001b[39m(x, \u001b[38;5;28mslice\u001b[39m) \u001b[38;5;28;01mfor\u001b[39;00m x \u001b[38;5;129;01min\u001b[39;00m casted_key)\n\u001b[0;32m   3795\u001b[0m     ):\n\u001b[0;32m   3796\u001b[0m         \u001b[38;5;28;01mraise\u001b[39;00m InvalidIndexError(key)\n\u001b[1;32m-> 3797\u001b[0m     \u001b[38;5;28;01mraise\u001b[39;00m \u001b[38;5;167;01mKeyError\u001b[39;00m(key) \u001b[38;5;28;01mfrom\u001b[39;00m \u001b[38;5;21;01merr\u001b[39;00m\n\u001b[0;32m   3798\u001b[0m \u001b[38;5;28;01mexcept\u001b[39;00m \u001b[38;5;167;01mTypeError\u001b[39;00m:\n\u001b[0;32m   3799\u001b[0m     \u001b[38;5;66;03m# If we have a listlike key, _check_indexing_error will raise\u001b[39;00m\n\u001b[0;32m   3800\u001b[0m     \u001b[38;5;66;03m#  InvalidIndexError. Otherwise we fall through and re-raise\u001b[39;00m\n\u001b[0;32m   3801\u001b[0m     \u001b[38;5;66;03m#  the TypeError.\u001b[39;00m\n\u001b[0;32m   3802\u001b[0m     \u001b[38;5;28mself\u001b[39m\u001b[38;5;241m.\u001b[39m_check_indexing_error(key)\n",
            "\u001b[1;31mKeyError\u001b[0m: 'emp_title'"
          ]
        }
      ],
      "source": [
        "job_texts = df_emp[\"emp_title\"].astype(str).tolist()  # Convertir a string por seguridad\n",
        "job_embeddings = model.encode(job_texts, show_progress_bar=True)"
      ]
    },
    {
      "cell_type": "code",
      "execution_count": null,
      "metadata": {
        "id": "_I1OuRIP6wyY"
      },
      "outputs": [],
      "source": [
        "# Guarda el array en un archivo CSV\n",
        "np.savetxt('emp_embeddings.csv', job_embeddings, delimiter=',')"
      ]
    },
    {
      "cell_type": "code",
      "execution_count": null,
      "metadata": {
        "id": "fnv-SxJp7M3r"
      },
      "outputs": [],
      "source": [
        "job_embeddings_16 = job_embeddings.astype(np.float16)"
      ]
    },
    {
      "cell_type": "code",
      "execution_count": null,
      "metadata": {
        "id": "0c1aQ7DZbOKN"
      },
      "outputs": [],
      "source": [
        "from sklearn.decomposition import PCA\n",
        "\n",
        "pca = PCA(n_components=40, random_state=0)\n",
        "reduced_embeddings = pca.fit_transform(job_embeddings)\n"
      ]
    },
    {
      "cell_type": "code",
      "execution_count": null,
      "metadata": {
        "id": "r9oh1fzcer9G"
      },
      "outputs": [],
      "source": [
        "from sklearn.cluster import KMeans\n",
        "\n",
        "k = 30  # Número de clusters a probar\n",
        "kmeans = KMeans(n_clusters=30, random_state=0)\n",
        "cluster_labels = kmeans.fit_predict(reduced_embeddings)\n"
      ]
    },
    {
      "cell_type": "code",
      "execution_count": null,
      "metadata": {
        "id": "WUmvCjaQLzTD"
      },
      "outputs": [],
      "source": [
        "#np.savetxt('reduced_embeddings.csv', reduced_embeddings, delimiter=',')"
      ]
    },
    {
      "cell_type": "code",
      "execution_count": null,
      "metadata": {
        "id": "j73iGgZ3MWzM"
      },
      "outputs": [],
      "source": [
        "#np.savetxt('cluster_labels.csv', cluster_labels, delimiter=',')"
      ]
    },
    {
      "cell_type": "code",
      "execution_count": null,
      "metadata": {
        "colab": {
          "base_uri": "https://localhost:8080/"
        },
        "id": "awXaRGwOS2EM",
        "outputId": "6b5662ca-de11-4cd5-979a-b05d9905e596"
      },
      "outputs": [
        {
          "data": {
            "text/plain": [
              "array([[-1.23159967e-01,  1.90271303e-01,  8.48387927e-03,\n",
              "         2.66609699e-01,  1.14825651e-01,  5.51257879e-02,\n",
              "         1.79011136e-01, -1.18448295e-01, -3.32358256e-02,\n",
              "         1.78166255e-01,  2.24455409e-02,  8.82467702e-02,\n",
              "         2.94634700e-01, -1.92078397e-01,  7.99093693e-02,\n",
              "        -4.84497473e-03,  4.05058235e-01,  3.95724289e-02,\n",
              "         1.65959463e-01, -9.82797965e-02, -2.87119061e-01,\n",
              "         2.80426800e-01, -5.22667393e-02, -2.70046413e-01,\n",
              "        -8.19320157e-02, -1.36574283e-01,  4.52548936e-02,\n",
              "        -9.70171914e-02,  3.13175395e-02, -3.79643440e-02,\n",
              "         8.68811086e-02,  5.96571676e-02, -4.57627550e-02,\n",
              "         1.62789393e-02, -3.84966135e-02,  1.14542618e-01,\n",
              "        -1.04781389e-01, -6.83832727e-03, -1.41865425e-02,\n",
              "         9.13297310e-02],\n",
              "       [-1.14693768e-01,  1.30444422e-01, -2.27898583e-02,\n",
              "         2.11004734e-01,  1.37827560e-01,  5.55618554e-02,\n",
              "         3.40807438e-03,  3.99449915e-02,  6.47933409e-03,\n",
              "        -6.41371757e-02,  6.52636588e-02,  3.00909579e-03,\n",
              "         7.06443638e-02,  9.85004753e-03, -8.80166888e-04,\n",
              "         1.66642562e-01, -5.97185269e-02,  3.66860628e-02,\n",
              "         5.80666363e-02, -6.52208924e-02, -1.07979305e-01,\n",
              "         8.07480961e-02,  5.19239604e-02, -1.04248421e-02,\n",
              "        -5.82856238e-02, -9.96633321e-02, -1.81012020e-01,\n",
              "         3.17126513e-02, -5.37529066e-02,  3.55267618e-03,\n",
              "        -5.13749570e-02, -1.26228049e-01,  4.55618184e-03,\n",
              "         8.35936517e-05,  6.87451065e-02, -3.43422927e-02,\n",
              "        -1.38603412e-02, -1.09684154e-01,  5.36571741e-02,\n",
              "         2.83940770e-02],\n",
              "       [-1.23159967e-01,  1.90271303e-01,  8.48387927e-03,\n",
              "         2.66609699e-01,  1.14825651e-01,  5.51257879e-02,\n",
              "         1.79011136e-01, -1.18448295e-01, -3.32358256e-02,\n",
              "         1.78166255e-01,  2.24455409e-02,  8.82467702e-02,\n",
              "         2.94634700e-01, -1.92078397e-01,  7.99093693e-02,\n",
              "        -4.84497473e-03,  4.05058235e-01,  3.95724289e-02,\n",
              "         1.65959463e-01, -9.82797965e-02, -2.87119061e-01,\n",
              "         2.80426800e-01, -5.22667393e-02, -2.70046413e-01,\n",
              "        -8.19320157e-02, -1.36574283e-01,  4.52548936e-02,\n",
              "        -9.70171914e-02,  3.13175395e-02, -3.79643440e-02,\n",
              "         8.68811086e-02,  5.96571676e-02, -4.57627550e-02,\n",
              "         1.62789393e-02, -3.84966135e-02,  1.14542618e-01,\n",
              "        -1.04781389e-01, -6.83832727e-03, -1.41865425e-02,\n",
              "         9.13297310e-02],\n",
              "       [-4.46920693e-02,  2.41940975e-01,  7.97982737e-02,\n",
              "        -1.90968767e-01,  1.99913606e-03,  7.14939162e-02,\n",
              "         5.34375757e-02,  1.14989534e-01,  7.37793297e-02,\n",
              "         9.48063433e-02,  1.33301690e-02,  2.54870728e-02,\n",
              "        -6.06568605e-02,  1.26325950e-01, -8.44292492e-02,\n",
              "        -7.00424314e-02,  1.00081377e-01,  1.08860955e-01,\n",
              "        -2.76981127e-02,  1.29167408e-01,  3.39405984e-02,\n",
              "         2.72181153e-01,  1.91414542e-02, -4.09130007e-02,\n",
              "         4.27989215e-02, -2.86046192e-02, -1.88385844e-02,\n",
              "         8.50876793e-02, -2.24780589e-02,  1.90076437e-02,\n",
              "         1.39725748e-02,  3.04081254e-02, -5.38418964e-02,\n",
              "        -1.24715619e-01, -1.32685937e-02, -1.05796799e-01,\n",
              "        -8.13421756e-02,  4.91905063e-02,  8.10875837e-03,\n",
              "        -1.85003653e-01],\n",
              "       [-2.88473368e-02,  2.34415680e-01, -9.51238796e-02,\n",
              "        -1.30927846e-01, -2.35380381e-01,  1.59940183e-01,\n",
              "         1.15442492e-01,  3.11817974e-03, -2.32161403e-01,\n",
              "        -9.57146287e-02, -1.84783906e-01, -1.77967064e-02,\n",
              "        -2.10417971e-01, -1.80344224e-01, -4.92400676e-03,\n",
              "         8.26502740e-02,  5.07027954e-02,  1.49807185e-02,\n",
              "        -7.14941844e-02,  2.32818186e-01, -3.57817002e-02,\n",
              "        -1.25055850e-01, -6.31069168e-02, -2.03906968e-02,\n",
              "         1.62208546e-02,  5.90693876e-02, -1.04319714e-01,\n",
              "         8.83798152e-02,  1.85587123e-01,  3.58858258e-02,\n",
              "        -3.18179838e-03,  7.14896172e-02, -1.53875360e-02,\n",
              "         5.48221320e-02,  1.71429440e-02,  1.50942653e-01,\n",
              "         1.58427227e-02,  5.70250824e-02,  7.52958059e-02,\n",
              "        -1.71458535e-02]], dtype=float32)"
            ]
          },
          "execution_count": 75,
          "metadata": {},
          "output_type": "execute_result"
        }
      ],
      "source": [
        "reduced_embeddings[:5]"
      ]
    },
    {
      "cell_type": "markdown",
      "metadata": {
        "id": "A1RuAAuga5L7"
      },
      "source": [
        "## Procedimientos con Raw para incluir en el main"
      ]
    },
    {
      "cell_type": "code",
      "execution_count": null,
      "metadata": {
        "colab": {
          "base_uri": "https://localhost:8080/"
        },
        "id": "ZakPByyYP3Va",
        "outputId": "0375a913-dfbe-4239-df19-6654a61a81f6"
      },
      "outputs": [
        {
          "name": "stdout",
          "output_type": "stream",
          "text": [
            "(887379, 74)\n"
          ]
        },
        {
          "data": {
            "text/plain": [
              "299271"
            ]
          },
          "execution_count": 38,
          "metadata": {},
          "output_type": "execute_result"
        }
      ],
      "source": [
        "print(df_raw.shape)\n",
        "df_raw[\"emp_title\"].nunique()\n"
      ]
    },
    {
      "cell_type": "code",
      "execution_count": null,
      "metadata": {
        "colab": {
          "base_uri": "https://localhost:8080/"
        },
        "id": "fOBC4dHc9sgA",
        "outputId": "533df2f1-8c93-433b-f5b4-4b98ccb61055"
      },
      "outputs": [
        {
          "data": {
            "text/plain": [
              "(7026, 74)"
            ]
          },
          "execution_count": 40,
          "metadata": {},
          "output_type": "execute_result"
        }
      ],
      "source": [
        "df_raw[(df_raw['emp_length'].notnull()) & (df_raw['emp_title'].isnull())].shape"
      ]
    },
    {
      "cell_type": "code",
      "execution_count": null,
      "metadata": {
        "id": "O8oxjXT0ASb5"
      },
      "outputs": [],
      "source": [
        "df_raw['emp_title'] = df_raw.apply(lambda row: 'off the books' if pd.notnull(row['emp_length']) and pd.isnull(row['emp_title']) else row['emp_title'], axis=1)"
      ]
    },
    {
      "cell_type": "code",
      "execution_count": null,
      "metadata": {
        "colab": {
          "base_uri": "https://localhost:8080/"
        },
        "id": "RHSyW0mg_Sci",
        "outputId": "fb1e0fec-538e-430a-9049-790f17dcdd10"
      },
      "outputs": [
        {
          "data": {
            "text/plain": [
              "44825"
            ]
          },
          "execution_count": 42,
          "metadata": {},
          "output_type": "execute_result"
        }
      ],
      "source": [
        "df_raw[\"emp_length\"].isnull().sum()"
      ]
    },
    {
      "cell_type": "code",
      "execution_count": null,
      "metadata": {
        "colab": {
          "base_uri": "https://localhost:8080/"
        },
        "id": "zkQmK35hPJY4",
        "outputId": "76c92342-9174-4d06-bbbc-54fb8e8fc8ae"
      },
      "outputs": [
        {
          "data": {
            "text/plain": [
              "(2061, 74)"
            ]
          },
          "execution_count": 43,
          "metadata": {},
          "output_type": "execute_result"
        }
      ],
      "source": [
        "df_raw[(df_raw['emp_length'].isnull()) & (df_raw['total_rev_hi_lim'].isnull())].shape"
      ]
    },
    {
      "cell_type": "code",
      "execution_count": null,
      "metadata": {
        "id": "Ig-wcHrCTI-_"
      },
      "outputs": [],
      "source": [
        "convertir(df_raw, 'emp_length')"
      ]
    },
    {
      "cell_type": "code",
      "execution_count": null,
      "metadata": {
        "id": "PL1b2qLhqAA_"
      },
      "outputs": [],
      "source": [
        "df_raw['emp_title'].isna().sum()"
      ]
    },
    {
      "cell_type": "code",
      "execution_count": null,
      "metadata": {
        "id": "DgRPCNqTee4G"
      },
      "outputs": [],
      "source": [
        "df_raw[df_raw['emp_title'].isnull()][\"id\"]"
      ]
    },
    {
      "cell_type": "code",
      "execution_count": null,
      "metadata": {
        "id": "IFmkw9TUhqsK"
      },
      "outputs": [],
      "source": [
        "letter_value = {\n",
        "    'A': 7,\n",
        "    'B': 6,\n",
        "    'C': 5,\n",
        "    'D': 4,\n",
        "    'E': 3,\n",
        "    'F': 2,\n",
        "    'G': 1\n",
        "}\n",
        "\n",
        "number_value = {\n",
        "    '1': 0.8,\n",
        "    '2': 0.6,\n",
        "    '3': 0.4,\n",
        "    '4': 0.2,\n",
        "    '5': 0.0\n",
        "}\n",
        "df_raw['sub_grade'] = (\n",
        "    df_raw['sub_grade'].str[0].map(letter_value) +\n",
        "    df_raw['sub_grade'].str[1].map(number_value)\n",
        ")"
      ]
    },
    {
      "cell_type": "code",
      "execution_count": null,
      "metadata": {
        "id": "Yws45hEZmLRt"
      },
      "outputs": [],
      "source": [
        "df_raw[\"sub_grade\"]"
      ]
    },
    {
      "cell_type": "code",
      "execution_count": null,
      "metadata": {
        "id": "Qyqys4AnnuVX"
      },
      "outputs": [],
      "source": [
        "print(df_raw.groupby(\"loan_status\"))"
      ]
    },
    {
      "cell_type": "code",
      "execution_count": null,
      "metadata": {
        "id": "O-MLxXNBTI_B"
      },
      "outputs": [],
      "source": [
        "# Si deseas calcular la proporción de N/A por cada categoría en el target\n",
        "proporcion_na_por_target = df_raw.groupby(\"loan_status\")[\"emp_title\"].apply(lambda col: col.isna().sum() / len(col))\n",
        "print(df_raw[\"emp_title\"].isna().sum())\n",
        "# Mostrar el resultado\n",
        "print(\"\\nProporción de valores N/A en la columna 'x' por target:\")\n",
        "print(proporcion_na_por_target)"
      ]
    },
    {
      "cell_type": "markdown",
      "metadata": {
        "id": "h9-lH3lZTI_B"
      },
      "source": []
    },
    {
      "cell_type": "code",
      "execution_count": null,
      "metadata": {
        "id": "4K0MOXIqTIt6"
      },
      "outputs": [],
      "source": [
        "# Crea una lista con los nombres de las columnas a eliminar\n",
        "columnas_a_eliminar = [f'job_cluster_{i}' for i in range(50)]\n",
        "\n",
        "# Elimina las columnas del DataFrame\n",
        "df = df.drop(columns=columnas_a_eliminar)"
      ]
    },
    {
      "cell_type": "code",
      "execution_count": null,
      "metadata": {
        "colab": {
          "base_uri": "https://localhost:8080/"
        },
        "id": "261yaoXwTYig",
        "outputId": "c008b447-854d-4bb4-b916-683cc3a5ec4e"
      },
      "outputs": [
        {
          "data": {
            "text/plain": [
              "Index(['loan_amnt', 'term', 'int_rate', 'installment', 'sub_grade',\n",
              "       'emp_length', 'annual_inc', 'loan_status', 'dti', 'delinq_2yrs',\n",
              "       'inq_last_6mths', 'open_acc', 'pub_rec', 'revol_bal', 'revol_util',\n",
              "       'collections_12_mths_ex_med', 'acc_now_delinq', 'tot_coll_amt',\n",
              "       'tot_cur_bal', 'home_ownership_MORTGAGE', 'home_ownership_NONE',\n",
              "       'home_ownership_OTHER', 'home_ownership_OWN', 'home_ownership_RENT',\n",
              "       'verification_status_Source Verified', 'verification_status_Verified',\n",
              "       'purpose_credit_card', 'purpose_debt_consolidation',\n",
              "       'purpose_educational', 'purpose_home_improvement', 'purpose_house',\n",
              "       'purpose_major_purchase', 'purpose_medical', 'purpose_moving',\n",
              "       'purpose_other', 'purpose_renewable_energy', 'purpose_small_business',\n",
              "       'purpose_vacation', 'purpose_wedding'],\n",
              "      dtype='object')"
            ]
          },
          "execution_count": 101,
          "metadata": {},
          "output_type": "execute_result"
        }
      ],
      "source": [
        "df.columns"
      ]
    },
    {
      "cell_type": "code",
      "execution_count": null,
      "metadata": {
        "id": "UkodIhzrTI_B"
      },
      "outputs": [],
      "source": [
        "df[df[\"loan_status\"]==0].shape"
      ]
    },
    {
      "cell_type": "code",
      "execution_count": null,
      "metadata": {
        "id": "TsCS3IHaTI_C"
      },
      "outputs": [],
      "source": [
        "proporcion_na_por_target = df_raw.groupby(\"loan_status\")[\"emp_title\"].apply(lambda col: col.isna().sum() / len(col))"
      ]
    },
    {
      "cell_type": "code",
      "execution_count": null,
      "metadata": {
        "id": "82gryRdUTI_C",
        "outputId": "d8071454-c386-4a98-f2b4-79b245a6f71d"
      },
      "outputs": [
        {
          "name": "stdout",
          "output_type": "stream",
          "text": [
            "        loan_amnt        term  int_rate  installment grade sub_grade  \\\n",
            "0          5000.0   36 months     10.65       162.87     B        B2   \n",
            "1          2500.0   60 months     15.27        59.83     C        C4   \n",
            "2          2400.0   36 months     15.96        84.33     C        C5   \n",
            "3         10000.0   36 months     13.49       339.31     C        C1   \n",
            "4          3000.0   60 months     12.69        67.79     B        B5   \n",
            "...           ...         ...       ...          ...   ...       ...   \n",
            "887374    10000.0   36 months     11.99       332.10     B        B5   \n",
            "887375    24000.0   36 months     11.99       797.03     B        B5   \n",
            "887376    13000.0   60 months     15.99       316.07     D        D2   \n",
            "887377    12000.0   60 months     19.99       317.86     E        E3   \n",
            "887378    20000.0   36 months     11.99       664.20     B        B5   \n",
            "\n",
            "        emp_length home_ownership  annual_inc verification_status  ...  \\\n",
            "0               10           RENT     24000.0            Verified  ...   \n",
            "1                0           RENT     30000.0     Source Verified  ...   \n",
            "2               10           RENT     12252.0        Not Verified  ...   \n",
            "3               10           RENT     49200.0     Source Verified  ...   \n",
            "4                1           RENT     80000.0     Source Verified  ...   \n",
            "...            ...            ...         ...                 ...  ...   \n",
            "887374           8           RENT     31000.0            Verified  ...   \n",
            "887375          10       MORTGAGE     79000.0            Verified  ...   \n",
            "887376           5           RENT     35000.0            Verified  ...   \n",
            "887377           1           RENT     64400.0     Source Verified  ...   \n",
            "887378          10           RENT    100000.0            Verified  ...   \n",
            "\n",
            "       inq_last_6mths open_acc  pub_rec  revol_bal  revol_util  \\\n",
            "0                 1.0      3.0      0.0    13648.0        83.7   \n",
            "1                 5.0      3.0      0.0     1687.0         9.4   \n",
            "2                 2.0      2.0      0.0     2956.0        98.5   \n",
            "3                 1.0     10.0      0.0     5598.0        21.0   \n",
            "4                 0.0     15.0      0.0    27783.0        53.9   \n",
            "...               ...      ...      ...        ...         ...   \n",
            "887374            0.0      9.0      1.0    14037.0        82.1   \n",
            "887375            1.0      5.0      0.0     8621.0        84.5   \n",
            "887376            0.0      9.0      1.0    11031.0        61.3   \n",
            "887377            2.0     17.0      0.0     8254.0        30.6   \n",
            "887378            1.0      8.0      1.0    33266.0        79.8   \n",
            "\n",
            "        collections_12_mths_ex_med  application_type  acc_now_delinq  \\\n",
            "0                              0.0        INDIVIDUAL             0.0   \n",
            "1                              0.0        INDIVIDUAL             0.0   \n",
            "2                              0.0        INDIVIDUAL             0.0   \n",
            "3                              0.0        INDIVIDUAL             0.0   \n",
            "4                              0.0        INDIVIDUAL             0.0   \n",
            "...                            ...               ...             ...   \n",
            "887374                         0.0        INDIVIDUAL             0.0   \n",
            "887375                         0.0        INDIVIDUAL             0.0   \n",
            "887376                         0.0        INDIVIDUAL             0.0   \n",
            "887377                         1.0        INDIVIDUAL             0.0   \n",
            "887378                         0.0        INDIVIDUAL             0.0   \n",
            "\n",
            "        tot_coll_amt  tot_cur_bal  \n",
            "0                NaN          NaN  \n",
            "1                NaN          NaN  \n",
            "2                NaN          NaN  \n",
            "3                NaN          NaN  \n",
            "4                NaN          NaN  \n",
            "...              ...          ...  \n",
            "887374           0.0      25274.0  \n",
            "887375           0.0     140285.0  \n",
            "887376           0.0      34178.0  \n",
            "887377           0.0      58418.0  \n",
            "887378           0.0      33307.0  \n",
            "\n",
            "[887379 rows x 24 columns]\n"
          ]
        }
      ],
      "source": [
        "print(df_emp.drop(columns=[\"loan_status\"], axis=1) )"
      ]
    },
    {
      "cell_type": "code",
      "execution_count": null,
      "metadata": {
        "id": "e2uLg28FAQQq"
      },
      "outputs": [],
      "source": []
    }
  ],
  "metadata": {
    "colab": {
      "provenance": [],
      "toc_visible": true
    },
    "kernelspec": {
      "display_name": "Python 3",
      "name": "python3"
    },
    "language_info": {
      "codemirror_mode": {
        "name": "ipython",
        "version": 3
      },
      "file_extension": ".py",
      "mimetype": "text/x-python",
      "name": "python",
      "nbconvert_exporter": "python",
      "pygments_lexer": "ipython3",
      "version": "3.12.4"
    },
    "widgets": {
      "application/vnd.jupyter.widget-state+json": {
        "0167e280c3c547b7b88d7e78b68df608": {
          "model_module": "@jupyter-widgets/base",
          "model_module_version": "1.2.0",
          "model_name": "LayoutModel",
          "state": {
            "_model_module": "@jupyter-widgets/base",
            "_model_module_version": "1.2.0",
            "_model_name": "LayoutModel",
            "_view_count": null,
            "_view_module": "@jupyter-widgets/base",
            "_view_module_version": "1.2.0",
            "_view_name": "LayoutView",
            "align_content": null,
            "align_items": null,
            "align_self": null,
            "border": null,
            "bottom": null,
            "display": null,
            "flex": null,
            "flex_flow": null,
            "grid_area": null,
            "grid_auto_columns": null,
            "grid_auto_flow": null,
            "grid_auto_rows": null,
            "grid_column": null,
            "grid_gap": null,
            "grid_row": null,
            "grid_template_areas": null,
            "grid_template_columns": null,
            "grid_template_rows": null,
            "height": null,
            "justify_content": null,
            "justify_items": null,
            "left": null,
            "margin": null,
            "max_height": null,
            "max_width": null,
            "min_height": null,
            "min_width": null,
            "object_fit": null,
            "object_position": null,
            "order": null,
            "overflow": null,
            "overflow_x": null,
            "overflow_y": null,
            "padding": null,
            "right": null,
            "top": null,
            "visibility": null,
            "width": null
          }
        },
        "03ce3fb94f234d20914021e4c70397dc": {
          "model_module": "@jupyter-widgets/controls",
          "model_module_version": "1.5.0",
          "model_name": "HTMLModel",
          "state": {
            "_dom_classes": [],
            "_model_module": "@jupyter-widgets/controls",
            "_model_module_version": "1.5.0",
            "_model_name": "HTMLModel",
            "_view_count": null,
            "_view_module": "@jupyter-widgets/controls",
            "_view_module_version": "1.5.0",
            "_view_name": "HTMLView",
            "description": "",
            "description_tooltip": null,
            "layout": "IPY_MODEL_87aac3253ad94dd0aac4ec65f20f32aa",
            "placeholder": "​",
            "style": "IPY_MODEL_b2d7e905d52d4ddca12d9e8a257348b3",
            "value": "README.md: 100%"
          }
        },
        "08bbc79b83ae480bb9f7df83cc09849a": {
          "model_module": "@jupyter-widgets/base",
          "model_module_version": "1.2.0",
          "model_name": "LayoutModel",
          "state": {
            "_model_module": "@jupyter-widgets/base",
            "_model_module_version": "1.2.0",
            "_model_name": "LayoutModel",
            "_view_count": null,
            "_view_module": "@jupyter-widgets/base",
            "_view_module_version": "1.2.0",
            "_view_name": "LayoutView",
            "align_content": null,
            "align_items": null,
            "align_self": null,
            "border": null,
            "bottom": null,
            "display": null,
            "flex": null,
            "flex_flow": null,
            "grid_area": null,
            "grid_auto_columns": null,
            "grid_auto_flow": null,
            "grid_auto_rows": null,
            "grid_column": null,
            "grid_gap": null,
            "grid_row": null,
            "grid_template_areas": null,
            "grid_template_columns": null,
            "grid_template_rows": null,
            "height": null,
            "justify_content": null,
            "justify_items": null,
            "left": null,
            "margin": null,
            "max_height": null,
            "max_width": null,
            "min_height": null,
            "min_width": null,
            "object_fit": null,
            "object_position": null,
            "order": null,
            "overflow": null,
            "overflow_x": null,
            "overflow_y": null,
            "padding": null,
            "right": null,
            "top": null,
            "visibility": null,
            "width": null
          }
        },
        "09d8e8f24e714348bddd83e4f9ca7c6e": {
          "model_module": "@jupyter-widgets/controls",
          "model_module_version": "1.5.0",
          "model_name": "ProgressStyleModel",
          "state": {
            "_model_module": "@jupyter-widgets/controls",
            "_model_module_version": "1.5.0",
            "_model_name": "ProgressStyleModel",
            "_view_count": null,
            "_view_module": "@jupyter-widgets/base",
            "_view_module_version": "1.2.0",
            "_view_name": "StyleView",
            "bar_color": null,
            "description_width": ""
          }
        },
        "0a01d2f7a4d24c76a6a15a821609613a": {
          "model_module": "@jupyter-widgets/controls",
          "model_module_version": "1.5.0",
          "model_name": "HBoxModel",
          "state": {
            "_dom_classes": [],
            "_model_module": "@jupyter-widgets/controls",
            "_model_module_version": "1.5.0",
            "_model_name": "HBoxModel",
            "_view_count": null,
            "_view_module": "@jupyter-widgets/controls",
            "_view_module_version": "1.5.0",
            "_view_name": "HBoxView",
            "box_style": "",
            "children": [
              "IPY_MODEL_d38b0fb1a8504a809d6d353d72630288",
              "IPY_MODEL_0dd1b7f7a58247f780ccce7cdc56afb0",
              "IPY_MODEL_87d579e157cd4218ae261048686a6a15"
            ],
            "layout": "IPY_MODEL_7e51a58296cf4aa9b03f7b24ba2610e9"
          }
        },
        "0a3351720d0142c9a318e1208a7188af": {
          "model_module": "@jupyter-widgets/controls",
          "model_module_version": "1.5.0",
          "model_name": "ProgressStyleModel",
          "state": {
            "_model_module": "@jupyter-widgets/controls",
            "_model_module_version": "1.5.0",
            "_model_name": "ProgressStyleModel",
            "_view_count": null,
            "_view_module": "@jupyter-widgets/base",
            "_view_module_version": "1.2.0",
            "_view_name": "StyleView",
            "bar_color": null,
            "description_width": ""
          }
        },
        "0a9ab2843c97444b94202188e7af054b": {
          "model_module": "@jupyter-widgets/controls",
          "model_module_version": "1.5.0",
          "model_name": "DescriptionStyleModel",
          "state": {
            "_model_module": "@jupyter-widgets/controls",
            "_model_module_version": "1.5.0",
            "_model_name": "DescriptionStyleModel",
            "_view_count": null,
            "_view_module": "@jupyter-widgets/base",
            "_view_module_version": "1.2.0",
            "_view_name": "StyleView",
            "description_width": ""
          }
        },
        "0dd1b7f7a58247f780ccce7cdc56afb0": {
          "model_module": "@jupyter-widgets/controls",
          "model_module_version": "1.5.0",
          "model_name": "FloatProgressModel",
          "state": {
            "_dom_classes": [],
            "_model_module": "@jupyter-widgets/controls",
            "_model_module_version": "1.5.0",
            "_model_name": "FloatProgressModel",
            "_view_count": null,
            "_view_module": "@jupyter-widgets/controls",
            "_view_module_version": "1.5.0",
            "_view_name": "ProgressView",
            "bar_style": "success",
            "description": "",
            "description_tooltip": null,
            "layout": "IPY_MODEL_904fbd25acbb45c982fe0d738000f024",
            "max": 190,
            "min": 0,
            "orientation": "horizontal",
            "style": "IPY_MODEL_0a3351720d0142c9a318e1208a7188af",
            "value": 190
          }
        },
        "105103cbe27243b3abd4ec6f866f04f3": {
          "model_module": "@jupyter-widgets/controls",
          "model_module_version": "1.5.0",
          "model_name": "ProgressStyleModel",
          "state": {
            "_model_module": "@jupyter-widgets/controls",
            "_model_module_version": "1.5.0",
            "_model_name": "ProgressStyleModel",
            "_view_count": null,
            "_view_module": "@jupyter-widgets/base",
            "_view_module_version": "1.2.0",
            "_view_name": "StyleView",
            "bar_color": null,
            "description_width": ""
          }
        },
        "10eb2de6f66c4d549394747373af8402": {
          "model_module": "@jupyter-widgets/base",
          "model_module_version": "1.2.0",
          "model_name": "LayoutModel",
          "state": {
            "_model_module": "@jupyter-widgets/base",
            "_model_module_version": "1.2.0",
            "_model_name": "LayoutModel",
            "_view_count": null,
            "_view_module": "@jupyter-widgets/base",
            "_view_module_version": "1.2.0",
            "_view_name": "LayoutView",
            "align_content": null,
            "align_items": null,
            "align_self": null,
            "border": null,
            "bottom": null,
            "display": null,
            "flex": null,
            "flex_flow": null,
            "grid_area": null,
            "grid_auto_columns": null,
            "grid_auto_flow": null,
            "grid_auto_rows": null,
            "grid_column": null,
            "grid_gap": null,
            "grid_row": null,
            "grid_template_areas": null,
            "grid_template_columns": null,
            "grid_template_rows": null,
            "height": null,
            "justify_content": null,
            "justify_items": null,
            "left": null,
            "margin": null,
            "max_height": null,
            "max_width": null,
            "min_height": null,
            "min_width": null,
            "object_fit": null,
            "object_position": null,
            "order": null,
            "overflow": null,
            "overflow_x": null,
            "overflow_y": null,
            "padding": null,
            "right": null,
            "top": null,
            "visibility": null,
            "width": null
          }
        },
        "1233e936f20e431db7e25cf62ca7de37": {
          "model_module": "@jupyter-widgets/controls",
          "model_module_version": "1.5.0",
          "model_name": "DescriptionStyleModel",
          "state": {
            "_model_module": "@jupyter-widgets/controls",
            "_model_module_version": "1.5.0",
            "_model_name": "DescriptionStyleModel",
            "_view_count": null,
            "_view_module": "@jupyter-widgets/base",
            "_view_module_version": "1.2.0",
            "_view_name": "StyleView",
            "description_width": ""
          }
        },
        "1249fbcad1714062bd24aa9c10b6a182": {
          "model_module": "@jupyter-widgets/controls",
          "model_module_version": "1.5.0",
          "model_name": "HTMLModel",
          "state": {
            "_dom_classes": [],
            "_model_module": "@jupyter-widgets/controls",
            "_model_module_version": "1.5.0",
            "_model_name": "HTMLModel",
            "_view_count": null,
            "_view_module": "@jupyter-widgets/controls",
            "_view_module_version": "1.5.0",
            "_view_name": "HTMLView",
            "description": "",
            "description_tooltip": null,
            "layout": "IPY_MODEL_4abddb5df65c4a1eaf00cf1855b5f681",
            "placeholder": "​",
            "style": "IPY_MODEL_6cef194a5b5246b2ac230d33ae642471",
            "value": "vocab.txt: 100%"
          }
        },
        "131d68edfc154ff7ade9578a69197754": {
          "model_module": "@jupyter-widgets/controls",
          "model_module_version": "1.5.0",
          "model_name": "FloatProgressModel",
          "state": {
            "_dom_classes": [],
            "_model_module": "@jupyter-widgets/controls",
            "_model_module_version": "1.5.0",
            "_model_name": "FloatProgressModel",
            "_view_count": null,
            "_view_module": "@jupyter-widgets/controls",
            "_view_module_version": "1.5.0",
            "_view_name": "ProgressView",
            "bar_style": "success",
            "description": "",
            "description_tooltip": null,
            "layout": "IPY_MODEL_aab8e5b01cb04f8790b9fc278f9d2205",
            "max": 112,
            "min": 0,
            "orientation": "horizontal",
            "style": "IPY_MODEL_141d9964d73c4d19809b27f174084db4",
            "value": 112
          }
        },
        "141d9964d73c4d19809b27f174084db4": {
          "model_module": "@jupyter-widgets/controls",
          "model_module_version": "1.5.0",
          "model_name": "ProgressStyleModel",
          "state": {
            "_model_module": "@jupyter-widgets/controls",
            "_model_module_version": "1.5.0",
            "_model_name": "ProgressStyleModel",
            "_view_count": null,
            "_view_module": "@jupyter-widgets/base",
            "_view_module_version": "1.2.0",
            "_view_name": "StyleView",
            "bar_color": null,
            "description_width": ""
          }
        },
        "14f8238ab27145d5b8a9fa715036f30f": {
          "model_module": "@jupyter-widgets/controls",
          "model_module_version": "1.5.0",
          "model_name": "HTMLModel",
          "state": {
            "_dom_classes": [],
            "_model_module": "@jupyter-widgets/controls",
            "_model_module_version": "1.5.0",
            "_model_name": "HTMLModel",
            "_view_count": null,
            "_view_module": "@jupyter-widgets/controls",
            "_view_module_version": "1.5.0",
            "_view_name": "HTMLView",
            "description": "",
            "description_tooltip": null,
            "layout": "IPY_MODEL_4fd54c13122147cd8b6a61d4ab89678e",
            "placeholder": "​",
            "style": "IPY_MODEL_be25fdbf8e814c1ca87093194496019f",
            "value": "Batches: 100%"
          }
        },
        "169c7ae4904b43d084e6976bb05161b4": {
          "model_module": "@jupyter-widgets/controls",
          "model_module_version": "1.5.0",
          "model_name": "HTMLModel",
          "state": {
            "_dom_classes": [],
            "_model_module": "@jupyter-widgets/controls",
            "_model_module_version": "1.5.0",
            "_model_name": "HTMLModel",
            "_view_count": null,
            "_view_module": "@jupyter-widgets/controls",
            "_view_module_version": "1.5.0",
            "_view_name": "HTMLView",
            "description": "",
            "description_tooltip": null,
            "layout": "IPY_MODEL_c1c09a7bef6e416eb3c23cbcd7847ac3",
            "placeholder": "​",
            "style": "IPY_MODEL_8d70a2b941f94c1d905aa1286841c3a9",
            "value": "tokenizer.json: 100%"
          }
        },
        "16e61114f20a4806b46e9bdfdc8cd3c9": {
          "model_module": "@jupyter-widgets/controls",
          "model_module_version": "1.5.0",
          "model_name": "HTMLModel",
          "state": {
            "_dom_classes": [],
            "_model_module": "@jupyter-widgets/controls",
            "_model_module_version": "1.5.0",
            "_model_name": "HTMLModel",
            "_view_count": null,
            "_view_module": "@jupyter-widgets/controls",
            "_view_module_version": "1.5.0",
            "_view_name": "HTMLView",
            "description": "",
            "description_tooltip": null,
            "layout": "IPY_MODEL_9c2a119a1be44541859050394e10213f",
            "placeholder": "​",
            "style": "IPY_MODEL_5104f2219558477c85a03ae6287cdc18",
            "value": " 466k/466k [00:00&lt;00:00, 21.8MB/s]"
          }
        },
        "1800141fed304b438af4b7315aae80ae": {
          "model_module": "@jupyter-widgets/controls",
          "model_module_version": "1.5.0",
          "model_name": "HBoxModel",
          "state": {
            "_dom_classes": [],
            "_model_module": "@jupyter-widgets/controls",
            "_model_module_version": "1.5.0",
            "_model_name": "HBoxModel",
            "_view_count": null,
            "_view_module": "@jupyter-widgets/controls",
            "_view_module_version": "1.5.0",
            "_view_name": "HBoxView",
            "box_style": "",
            "children": [
              "IPY_MODEL_169c7ae4904b43d084e6976bb05161b4",
              "IPY_MODEL_26dd61769cdc44ec9b7e40cb1b79deaf",
              "IPY_MODEL_16e61114f20a4806b46e9bdfdc8cd3c9"
            ],
            "layout": "IPY_MODEL_f0146546faa846be9be9f8edfc752e51"
          }
        },
        "1f4ca15e103c47f9a4e74c56da9676c3": {
          "model_module": "@jupyter-widgets/controls",
          "model_module_version": "1.5.0",
          "model_name": "DescriptionStyleModel",
          "state": {
            "_model_module": "@jupyter-widgets/controls",
            "_model_module_version": "1.5.0",
            "_model_name": "DescriptionStyleModel",
            "_view_count": null,
            "_view_module": "@jupyter-widgets/base",
            "_view_module_version": "1.2.0",
            "_view_name": "StyleView",
            "description_width": ""
          }
        },
        "1fedb2fc9aa045ba9796840b5af743e9": {
          "model_module": "@jupyter-widgets/controls",
          "model_module_version": "1.5.0",
          "model_name": "FloatProgressModel",
          "state": {
            "_dom_classes": [],
            "_model_module": "@jupyter-widgets/controls",
            "_model_module_version": "1.5.0",
            "_model_name": "FloatProgressModel",
            "_view_count": null,
            "_view_module": "@jupyter-widgets/controls",
            "_view_module_version": "1.5.0",
            "_view_name": "ProgressView",
            "bar_style": "success",
            "description": "",
            "description_tooltip": null,
            "layout": "IPY_MODEL_e477db4d14134895809250d94f9d7ed7",
            "max": 10659,
            "min": 0,
            "orientation": "horizontal",
            "style": "IPY_MODEL_e86b81b2b4ea495381b8b51b70d39b90",
            "value": 10659
          }
        },
        "214458dce9b6446ab974023f07118d44": {
          "model_module": "@jupyter-widgets/controls",
          "model_module_version": "1.5.0",
          "model_name": "ProgressStyleModel",
          "state": {
            "_model_module": "@jupyter-widgets/controls",
            "_model_module_version": "1.5.0",
            "_model_name": "ProgressStyleModel",
            "_view_count": null,
            "_view_module": "@jupyter-widgets/base",
            "_view_module_version": "1.2.0",
            "_view_name": "StyleView",
            "bar_color": null,
            "description_width": ""
          }
        },
        "225f77ba10384d119b0498762530e519": {
          "model_module": "@jupyter-widgets/controls",
          "model_module_version": "1.5.0",
          "model_name": "ProgressStyleModel",
          "state": {
            "_model_module": "@jupyter-widgets/controls",
            "_model_module_version": "1.5.0",
            "_model_name": "ProgressStyleModel",
            "_view_count": null,
            "_view_module": "@jupyter-widgets/base",
            "_view_module_version": "1.2.0",
            "_view_name": "StyleView",
            "bar_color": null,
            "description_width": ""
          }
        },
        "26dd61769cdc44ec9b7e40cb1b79deaf": {
          "model_module": "@jupyter-widgets/controls",
          "model_module_version": "1.5.0",
          "model_name": "FloatProgressModel",
          "state": {
            "_dom_classes": [],
            "_model_module": "@jupyter-widgets/controls",
            "_model_module_version": "1.5.0",
            "_model_name": "FloatProgressModel",
            "_view_count": null,
            "_view_module": "@jupyter-widgets/controls",
            "_view_module_version": "1.5.0",
            "_view_name": "ProgressView",
            "bar_style": "success",
            "description": "",
            "description_tooltip": null,
            "layout": "IPY_MODEL_0167e280c3c547b7b88d7e78b68df608",
            "max": 466247,
            "min": 0,
            "orientation": "horizontal",
            "style": "IPY_MODEL_225f77ba10384d119b0498762530e519",
            "value": 466247
          }
        },
        "298447f4c3b543f5b3fbee99d7efeb9a": {
          "model_module": "@jupyter-widgets/controls",
          "model_module_version": "1.5.0",
          "model_name": "DescriptionStyleModel",
          "state": {
            "_model_module": "@jupyter-widgets/controls",
            "_model_module_version": "1.5.0",
            "_model_name": "DescriptionStyleModel",
            "_view_count": null,
            "_view_module": "@jupyter-widgets/base",
            "_view_module_version": "1.2.0",
            "_view_name": "StyleView",
            "description_width": ""
          }
        },
        "31ef0cb6637040aab7ba17c29a59bc22": {
          "model_module": "@jupyter-widgets/controls",
          "model_module_version": "1.5.0",
          "model_name": "HBoxModel",
          "state": {
            "_dom_classes": [],
            "_model_module": "@jupyter-widgets/controls",
            "_model_module_version": "1.5.0",
            "_model_name": "HBoxModel",
            "_view_count": null,
            "_view_module": "@jupyter-widgets/controls",
            "_view_module_version": "1.5.0",
            "_view_name": "HBoxView",
            "box_style": "",
            "children": [
              "IPY_MODEL_3cf93a13db994dae915bc80315db4402",
              "IPY_MODEL_d44f381b7fbb4c08b42b22f23df3ed0c",
              "IPY_MODEL_cc1879b7a5a445799303df28497ed40c"
            ],
            "layout": "IPY_MODEL_73c3f4482e644d299ec8470f79578d7f"
          }
        },
        "338276b033494458bc3687459a0094ce": {
          "model_module": "@jupyter-widgets/base",
          "model_module_version": "1.2.0",
          "model_name": "LayoutModel",
          "state": {
            "_model_module": "@jupyter-widgets/base",
            "_model_module_version": "1.2.0",
            "_model_name": "LayoutModel",
            "_view_count": null,
            "_view_module": "@jupyter-widgets/base",
            "_view_module_version": "1.2.0",
            "_view_name": "LayoutView",
            "align_content": null,
            "align_items": null,
            "align_self": null,
            "border": null,
            "bottom": null,
            "display": null,
            "flex": null,
            "flex_flow": null,
            "grid_area": null,
            "grid_auto_columns": null,
            "grid_auto_flow": null,
            "grid_auto_rows": null,
            "grid_column": null,
            "grid_gap": null,
            "grid_row": null,
            "grid_template_areas": null,
            "grid_template_columns": null,
            "grid_template_rows": null,
            "height": null,
            "justify_content": null,
            "justify_items": null,
            "left": null,
            "margin": null,
            "max_height": null,
            "max_width": null,
            "min_height": null,
            "min_width": null,
            "object_fit": null,
            "object_position": null,
            "order": null,
            "overflow": null,
            "overflow_x": null,
            "overflow_y": null,
            "padding": null,
            "right": null,
            "top": null,
            "visibility": null,
            "width": null
          }
        },
        "35fde344164e491a854db2f8004541a2": {
          "model_module": "@jupyter-widgets/controls",
          "model_module_version": "1.5.0",
          "model_name": "DescriptionStyleModel",
          "state": {
            "_model_module": "@jupyter-widgets/controls",
            "_model_module_version": "1.5.0",
            "_model_name": "DescriptionStyleModel",
            "_view_count": null,
            "_view_module": "@jupyter-widgets/base",
            "_view_module_version": "1.2.0",
            "_view_name": "StyleView",
            "description_width": ""
          }
        },
        "369fbefbb883445c979853434d944558": {
          "model_module": "@jupyter-widgets/base",
          "model_module_version": "1.2.0",
          "model_name": "LayoutModel",
          "state": {
            "_model_module": "@jupyter-widgets/base",
            "_model_module_version": "1.2.0",
            "_model_name": "LayoutModel",
            "_view_count": null,
            "_view_module": "@jupyter-widgets/base",
            "_view_module_version": "1.2.0",
            "_view_name": "LayoutView",
            "align_content": null,
            "align_items": null,
            "align_self": null,
            "border": null,
            "bottom": null,
            "display": null,
            "flex": null,
            "flex_flow": null,
            "grid_area": null,
            "grid_auto_columns": null,
            "grid_auto_flow": null,
            "grid_auto_rows": null,
            "grid_column": null,
            "grid_gap": null,
            "grid_row": null,
            "grid_template_areas": null,
            "grid_template_columns": null,
            "grid_template_rows": null,
            "height": null,
            "justify_content": null,
            "justify_items": null,
            "left": null,
            "margin": null,
            "max_height": null,
            "max_width": null,
            "min_height": null,
            "min_width": null,
            "object_fit": null,
            "object_position": null,
            "order": null,
            "overflow": null,
            "overflow_x": null,
            "overflow_y": null,
            "padding": null,
            "right": null,
            "top": null,
            "visibility": null,
            "width": null
          }
        },
        "36edf23ae0c74c7f9c1eaa89b4ba4625": {
          "model_module": "@jupyter-widgets/base",
          "model_module_version": "1.2.0",
          "model_name": "LayoutModel",
          "state": {
            "_model_module": "@jupyter-widgets/base",
            "_model_module_version": "1.2.0",
            "_model_name": "LayoutModel",
            "_view_count": null,
            "_view_module": "@jupyter-widgets/base",
            "_view_module_version": "1.2.0",
            "_view_name": "LayoutView",
            "align_content": null,
            "align_items": null,
            "align_self": null,
            "border": null,
            "bottom": null,
            "display": null,
            "flex": null,
            "flex_flow": null,
            "grid_area": null,
            "grid_auto_columns": null,
            "grid_auto_flow": null,
            "grid_auto_rows": null,
            "grid_column": null,
            "grid_gap": null,
            "grid_row": null,
            "grid_template_areas": null,
            "grid_template_columns": null,
            "grid_template_rows": null,
            "height": null,
            "justify_content": null,
            "justify_items": null,
            "left": null,
            "margin": null,
            "max_height": null,
            "max_width": null,
            "min_height": null,
            "min_width": null,
            "object_fit": null,
            "object_position": null,
            "order": null,
            "overflow": null,
            "overflow_x": null,
            "overflow_y": null,
            "padding": null,
            "right": null,
            "top": null,
            "visibility": null,
            "width": null
          }
        },
        "3a641c24ed8b4c0a85423eef5a218a04": {
          "model_module": "@jupyter-widgets/controls",
          "model_module_version": "1.5.0",
          "model_name": "HTMLModel",
          "state": {
            "_dom_classes": [],
            "_model_module": "@jupyter-widgets/controls",
            "_model_module_version": "1.5.0",
            "_model_name": "HTMLModel",
            "_view_count": null,
            "_view_module": "@jupyter-widgets/controls",
            "_view_module_version": "1.5.0",
            "_view_name": "HTMLView",
            "description": "",
            "description_tooltip": null,
            "layout": "IPY_MODEL_e1796464ccbc4fe096a7358df5c2fc42",
            "placeholder": "​",
            "style": "IPY_MODEL_cae6666d94174973a2978cd8a08d560d",
            "value": " 232k/232k [00:00&lt;00:00, 2.65MB/s]"
          }
        },
        "3cf93a13db994dae915bc80315db4402": {
          "model_module": "@jupyter-widgets/controls",
          "model_module_version": "1.5.0",
          "model_name": "HTMLModel",
          "state": {
            "_dom_classes": [],
            "_model_module": "@jupyter-widgets/controls",
            "_model_module_version": "1.5.0",
            "_model_name": "HTMLModel",
            "_view_count": null,
            "_view_module": "@jupyter-widgets/controls",
            "_view_module_version": "1.5.0",
            "_view_name": "HTMLView",
            "description": "",
            "description_tooltip": null,
            "layout": "IPY_MODEL_d982a14f02474c31849ce3401e0c5cf8",
            "placeholder": "​",
            "style": "IPY_MODEL_c7ef4dc74ece4b0aa7ab44dfdf837f29",
            "value": "config_sentence_transformers.json: 100%"
          }
        },
        "3d1a6d2ee6f243b58b4315fb9c6ba903": {
          "model_module": "@jupyter-widgets/controls",
          "model_module_version": "1.5.0",
          "model_name": "FloatProgressModel",
          "state": {
            "_dom_classes": [],
            "_model_module": "@jupyter-widgets/controls",
            "_model_module_version": "1.5.0",
            "_model_name": "FloatProgressModel",
            "_view_count": null,
            "_view_module": "@jupyter-widgets/controls",
            "_view_module_version": "1.5.0",
            "_view_name": "ProgressView",
            "bar_style": "success",
            "description": "",
            "description_tooltip": null,
            "layout": "IPY_MODEL_583c2a77c8e648c8b5803ba090c444b6",
            "max": 231508,
            "min": 0,
            "orientation": "horizontal",
            "style": "IPY_MODEL_e28e79f362d74fa89a77c6fc3ef62563",
            "value": 231508
          }
        },
        "406474011aeb42919e57329b592e5c1c": {
          "model_module": "@jupyter-widgets/base",
          "model_module_version": "1.2.0",
          "model_name": "LayoutModel",
          "state": {
            "_model_module": "@jupyter-widgets/base",
            "_model_module_version": "1.2.0",
            "_model_name": "LayoutModel",
            "_view_count": null,
            "_view_module": "@jupyter-widgets/base",
            "_view_module_version": "1.2.0",
            "_view_name": "LayoutView",
            "align_content": null,
            "align_items": null,
            "align_self": null,
            "border": null,
            "bottom": null,
            "display": null,
            "flex": null,
            "flex_flow": null,
            "grid_area": null,
            "grid_auto_columns": null,
            "grid_auto_flow": null,
            "grid_auto_rows": null,
            "grid_column": null,
            "grid_gap": null,
            "grid_row": null,
            "grid_template_areas": null,
            "grid_template_columns": null,
            "grid_template_rows": null,
            "height": null,
            "justify_content": null,
            "justify_items": null,
            "left": null,
            "margin": null,
            "max_height": null,
            "max_width": null,
            "min_height": null,
            "min_width": null,
            "object_fit": null,
            "object_position": null,
            "order": null,
            "overflow": null,
            "overflow_x": null,
            "overflow_y": null,
            "padding": null,
            "right": null,
            "top": null,
            "visibility": null,
            "width": null
          }
        },
        "47bd36122fe749a580af687039dd8129": {
          "model_module": "@jupyter-widgets/controls",
          "model_module_version": "1.5.0",
          "model_name": "ProgressStyleModel",
          "state": {
            "_model_module": "@jupyter-widgets/controls",
            "_model_module_version": "1.5.0",
            "_model_name": "ProgressStyleModel",
            "_view_count": null,
            "_view_module": "@jupyter-widgets/base",
            "_view_module_version": "1.2.0",
            "_view_name": "StyleView",
            "bar_color": null,
            "description_width": ""
          }
        },
        "4898d9692761446f910d7d4c271bf1b4": {
          "model_module": "@jupyter-widgets/base",
          "model_module_version": "1.2.0",
          "model_name": "LayoutModel",
          "state": {
            "_model_module": "@jupyter-widgets/base",
            "_model_module_version": "1.2.0",
            "_model_name": "LayoutModel",
            "_view_count": null,
            "_view_module": "@jupyter-widgets/base",
            "_view_module_version": "1.2.0",
            "_view_name": "LayoutView",
            "align_content": null,
            "align_items": null,
            "align_self": null,
            "border": null,
            "bottom": null,
            "display": null,
            "flex": null,
            "flex_flow": null,
            "grid_area": null,
            "grid_auto_columns": null,
            "grid_auto_flow": null,
            "grid_auto_rows": null,
            "grid_column": null,
            "grid_gap": null,
            "grid_row": null,
            "grid_template_areas": null,
            "grid_template_columns": null,
            "grid_template_rows": null,
            "height": null,
            "justify_content": null,
            "justify_items": null,
            "left": null,
            "margin": null,
            "max_height": null,
            "max_width": null,
            "min_height": null,
            "min_width": null,
            "object_fit": null,
            "object_position": null,
            "order": null,
            "overflow": null,
            "overflow_x": null,
            "overflow_y": null,
            "padding": null,
            "right": null,
            "top": null,
            "visibility": null,
            "width": null
          }
        },
        "48f0771064364c1fb24e5f396e2d75ec": {
          "model_module": "@jupyter-widgets/controls",
          "model_module_version": "1.5.0",
          "model_name": "DescriptionStyleModel",
          "state": {
            "_model_module": "@jupyter-widgets/controls",
            "_model_module_version": "1.5.0",
            "_model_name": "DescriptionStyleModel",
            "_view_count": null,
            "_view_module": "@jupyter-widgets/base",
            "_view_module_version": "1.2.0",
            "_view_name": "StyleView",
            "description_width": ""
          }
        },
        "4a2c8daec075493481650b59c4e5c6c9": {
          "model_module": "@jupyter-widgets/controls",
          "model_module_version": "1.5.0",
          "model_name": "DescriptionStyleModel",
          "state": {
            "_model_module": "@jupyter-widgets/controls",
            "_model_module_version": "1.5.0",
            "_model_name": "DescriptionStyleModel",
            "_view_count": null,
            "_view_module": "@jupyter-widgets/base",
            "_view_module_version": "1.2.0",
            "_view_name": "StyleView",
            "description_width": ""
          }
        },
        "4abddb5df65c4a1eaf00cf1855b5f681": {
          "model_module": "@jupyter-widgets/base",
          "model_module_version": "1.2.0",
          "model_name": "LayoutModel",
          "state": {
            "_model_module": "@jupyter-widgets/base",
            "_model_module_version": "1.2.0",
            "_model_name": "LayoutModel",
            "_view_count": null,
            "_view_module": "@jupyter-widgets/base",
            "_view_module_version": "1.2.0",
            "_view_name": "LayoutView",
            "align_content": null,
            "align_items": null,
            "align_self": null,
            "border": null,
            "bottom": null,
            "display": null,
            "flex": null,
            "flex_flow": null,
            "grid_area": null,
            "grid_auto_columns": null,
            "grid_auto_flow": null,
            "grid_auto_rows": null,
            "grid_column": null,
            "grid_gap": null,
            "grid_row": null,
            "grid_template_areas": null,
            "grid_template_columns": null,
            "grid_template_rows": null,
            "height": null,
            "justify_content": null,
            "justify_items": null,
            "left": null,
            "margin": null,
            "max_height": null,
            "max_width": null,
            "min_height": null,
            "min_width": null,
            "object_fit": null,
            "object_position": null,
            "order": null,
            "overflow": null,
            "overflow_x": null,
            "overflow_y": null,
            "padding": null,
            "right": null,
            "top": null,
            "visibility": null,
            "width": null
          }
        },
        "4fd54c13122147cd8b6a61d4ab89678e": {
          "model_module": "@jupyter-widgets/base",
          "model_module_version": "1.2.0",
          "model_name": "LayoutModel",
          "state": {
            "_model_module": "@jupyter-widgets/base",
            "_model_module_version": "1.2.0",
            "_model_name": "LayoutModel",
            "_view_count": null,
            "_view_module": "@jupyter-widgets/base",
            "_view_module_version": "1.2.0",
            "_view_name": "LayoutView",
            "align_content": null,
            "align_items": null,
            "align_self": null,
            "border": null,
            "bottom": null,
            "display": null,
            "flex": null,
            "flex_flow": null,
            "grid_area": null,
            "grid_auto_columns": null,
            "grid_auto_flow": null,
            "grid_auto_rows": null,
            "grid_column": null,
            "grid_gap": null,
            "grid_row": null,
            "grid_template_areas": null,
            "grid_template_columns": null,
            "grid_template_rows": null,
            "height": null,
            "justify_content": null,
            "justify_items": null,
            "left": null,
            "margin": null,
            "max_height": null,
            "max_width": null,
            "min_height": null,
            "min_width": null,
            "object_fit": null,
            "object_position": null,
            "order": null,
            "overflow": null,
            "overflow_x": null,
            "overflow_y": null,
            "padding": null,
            "right": null,
            "top": null,
            "visibility": null,
            "width": null
          }
        },
        "5095c62c27b448c0b92ed638c4fe6a54": {
          "model_module": "@jupyter-widgets/controls",
          "model_module_version": "1.5.0",
          "model_name": "HBoxModel",
          "state": {
            "_dom_classes": [],
            "_model_module": "@jupyter-widgets/controls",
            "_model_module_version": "1.5.0",
            "_model_name": "HBoxModel",
            "_view_count": null,
            "_view_module": "@jupyter-widgets/controls",
            "_view_module_version": "1.5.0",
            "_view_name": "HBoxView",
            "box_style": "",
            "children": [
              "IPY_MODEL_ffaecfb16714421d9fdcf76dcbe67e80",
              "IPY_MODEL_f89dd41693674639be04bee4536daf0b",
              "IPY_MODEL_fc1f70bb462d4e74b69a0207179908dd"
            ],
            "layout": "IPY_MODEL_5a8c620c8eed4b9185e2aa41cb7a3e15"
          }
        },
        "50cb0255ea22455a81505eb1acc22b98": {
          "model_module": "@jupyter-widgets/controls",
          "model_module_version": "1.5.0",
          "model_name": "FloatProgressModel",
          "state": {
            "_dom_classes": [],
            "_model_module": "@jupyter-widgets/controls",
            "_model_module_version": "1.5.0",
            "_model_name": "FloatProgressModel",
            "_view_count": null,
            "_view_module": "@jupyter-widgets/controls",
            "_view_module_version": "1.5.0",
            "_view_name": "ProgressView",
            "bar_style": "success",
            "description": "",
            "description_tooltip": null,
            "layout": "IPY_MODEL_aa707ccd1fae435b96a9000f4047b319",
            "max": 350,
            "min": 0,
            "orientation": "horizontal",
            "style": "IPY_MODEL_105103cbe27243b3abd4ec6f866f04f3",
            "value": 350
          }
        },
        "5104f2219558477c85a03ae6287cdc18": {
          "model_module": "@jupyter-widgets/controls",
          "model_module_version": "1.5.0",
          "model_name": "DescriptionStyleModel",
          "state": {
            "_model_module": "@jupyter-widgets/controls",
            "_model_module_version": "1.5.0",
            "_model_name": "DescriptionStyleModel",
            "_view_count": null,
            "_view_module": "@jupyter-widgets/base",
            "_view_module_version": "1.2.0",
            "_view_name": "StyleView",
            "description_width": ""
          }
        },
        "583c2a77c8e648c8b5803ba090c444b6": {
          "model_module": "@jupyter-widgets/base",
          "model_module_version": "1.2.0",
          "model_name": "LayoutModel",
          "state": {
            "_model_module": "@jupyter-widgets/base",
            "_model_module_version": "1.2.0",
            "_model_name": "LayoutModel",
            "_view_count": null,
            "_view_module": "@jupyter-widgets/base",
            "_view_module_version": "1.2.0",
            "_view_name": "LayoutView",
            "align_content": null,
            "align_items": null,
            "align_self": null,
            "border": null,
            "bottom": null,
            "display": null,
            "flex": null,
            "flex_flow": null,
            "grid_area": null,
            "grid_auto_columns": null,
            "grid_auto_flow": null,
            "grid_auto_rows": null,
            "grid_column": null,
            "grid_gap": null,
            "grid_row": null,
            "grid_template_areas": null,
            "grid_template_columns": null,
            "grid_template_rows": null,
            "height": null,
            "justify_content": null,
            "justify_items": null,
            "left": null,
            "margin": null,
            "max_height": null,
            "max_width": null,
            "min_height": null,
            "min_width": null,
            "object_fit": null,
            "object_position": null,
            "order": null,
            "overflow": null,
            "overflow_x": null,
            "overflow_y": null,
            "padding": null,
            "right": null,
            "top": null,
            "visibility": null,
            "width": null
          }
        },
        "5a8c620c8eed4b9185e2aa41cb7a3e15": {
          "model_module": "@jupyter-widgets/base",
          "model_module_version": "1.2.0",
          "model_name": "LayoutModel",
          "state": {
            "_model_module": "@jupyter-widgets/base",
            "_model_module_version": "1.2.0",
            "_model_name": "LayoutModel",
            "_view_count": null,
            "_view_module": "@jupyter-widgets/base",
            "_view_module_version": "1.2.0",
            "_view_name": "LayoutView",
            "align_content": null,
            "align_items": null,
            "align_self": null,
            "border": null,
            "bottom": null,
            "display": null,
            "flex": null,
            "flex_flow": null,
            "grid_area": null,
            "grid_auto_columns": null,
            "grid_auto_flow": null,
            "grid_auto_rows": null,
            "grid_column": null,
            "grid_gap": null,
            "grid_row": null,
            "grid_template_areas": null,
            "grid_template_columns": null,
            "grid_template_rows": null,
            "height": null,
            "justify_content": null,
            "justify_items": null,
            "left": null,
            "margin": null,
            "max_height": null,
            "max_width": null,
            "min_height": null,
            "min_width": null,
            "object_fit": null,
            "object_position": null,
            "order": null,
            "overflow": null,
            "overflow_x": null,
            "overflow_y": null,
            "padding": null,
            "right": null,
            "top": null,
            "visibility": null,
            "width": null
          }
        },
        "5e0ac109055a4c769605b226f5042698": {
          "model_module": "@jupyter-widgets/controls",
          "model_module_version": "1.5.0",
          "model_name": "ProgressStyleModel",
          "state": {
            "_model_module": "@jupyter-widgets/controls",
            "_model_module_version": "1.5.0",
            "_model_name": "ProgressStyleModel",
            "_view_count": null,
            "_view_module": "@jupyter-widgets/base",
            "_view_module_version": "1.2.0",
            "_view_name": "StyleView",
            "bar_color": null,
            "description_width": ""
          }
        },
        "60a00d5d35aa4dee8141fd9dce27e2c4": {
          "model_module": "@jupyter-widgets/base",
          "model_module_version": "1.2.0",
          "model_name": "LayoutModel",
          "state": {
            "_model_module": "@jupyter-widgets/base",
            "_model_module_version": "1.2.0",
            "_model_name": "LayoutModel",
            "_view_count": null,
            "_view_module": "@jupyter-widgets/base",
            "_view_module_version": "1.2.0",
            "_view_name": "LayoutView",
            "align_content": null,
            "align_items": null,
            "align_self": null,
            "border": null,
            "bottom": null,
            "display": null,
            "flex": null,
            "flex_flow": null,
            "grid_area": null,
            "grid_auto_columns": null,
            "grid_auto_flow": null,
            "grid_auto_rows": null,
            "grid_column": null,
            "grid_gap": null,
            "grid_row": null,
            "grid_template_areas": null,
            "grid_template_columns": null,
            "grid_template_rows": null,
            "height": null,
            "justify_content": null,
            "justify_items": null,
            "left": null,
            "margin": null,
            "max_height": null,
            "max_width": null,
            "min_height": null,
            "min_width": null,
            "object_fit": null,
            "object_position": null,
            "order": null,
            "overflow": null,
            "overflow_x": null,
            "overflow_y": null,
            "padding": null,
            "right": null,
            "top": null,
            "visibility": null,
            "width": null
          }
        },
        "649579396a70497a8a7f92af65f59da3": {
          "model_module": "@jupyter-widgets/controls",
          "model_module_version": "1.5.0",
          "model_name": "HTMLModel",
          "state": {
            "_dom_classes": [],
            "_model_module": "@jupyter-widgets/controls",
            "_model_module_version": "1.5.0",
            "_model_name": "HTMLModel",
            "_view_count": null,
            "_view_module": "@jupyter-widgets/controls",
            "_view_module_version": "1.5.0",
            "_view_name": "HTMLView",
            "description": "",
            "description_tooltip": null,
            "layout": "IPY_MODEL_369fbefbb883445c979853434d944558",
            "placeholder": "​",
            "style": "IPY_MODEL_4a2c8daec075493481650b59c4e5c6c9",
            "value": " 612/612 [00:00&lt;00:00, 24.9kB/s]"
          }
        },
        "667517b51a3a4da8bd84f854ff25eadd": {
          "model_module": "@jupyter-widgets/controls",
          "model_module_version": "1.5.0",
          "model_name": "DescriptionStyleModel",
          "state": {
            "_model_module": "@jupyter-widgets/controls",
            "_model_module_version": "1.5.0",
            "_model_name": "DescriptionStyleModel",
            "_view_count": null,
            "_view_module": "@jupyter-widgets/base",
            "_view_module_version": "1.2.0",
            "_view_name": "StyleView",
            "description_width": ""
          }
        },
        "6a7f49cbf00a4567a844c94491b95d37": {
          "model_module": "@jupyter-widgets/controls",
          "model_module_version": "1.5.0",
          "model_name": "FloatProgressModel",
          "state": {
            "_dom_classes": [],
            "_model_module": "@jupyter-widgets/controls",
            "_model_module_version": "1.5.0",
            "_model_name": "FloatProgressModel",
            "_view_count": null,
            "_view_module": "@jupyter-widgets/controls",
            "_view_module_version": "1.5.0",
            "_view_name": "ProgressView",
            "bar_style": "success",
            "description": "",
            "description_tooltip": null,
            "layout": "IPY_MODEL_dacf77c3cd334870ac105c9b1f54820b",
            "max": 612,
            "min": 0,
            "orientation": "horizontal",
            "style": "IPY_MODEL_b827768053014d66bd3b01bb38b315df",
            "value": 612
          }
        },
        "6cef194a5b5246b2ac230d33ae642471": {
          "model_module": "@jupyter-widgets/controls",
          "model_module_version": "1.5.0",
          "model_name": "DescriptionStyleModel",
          "state": {
            "_model_module": "@jupyter-widgets/controls",
            "_model_module_version": "1.5.0",
            "_model_name": "DescriptionStyleModel",
            "_view_count": null,
            "_view_module": "@jupyter-widgets/base",
            "_view_module_version": "1.2.0",
            "_view_name": "StyleView",
            "description_width": ""
          }
        },
        "6dee8fd2595a46b4b3365d45b88e0f81": {
          "model_module": "@jupyter-widgets/base",
          "model_module_version": "1.2.0",
          "model_name": "LayoutModel",
          "state": {
            "_model_module": "@jupyter-widgets/base",
            "_model_module_version": "1.2.0",
            "_model_name": "LayoutModel",
            "_view_count": null,
            "_view_module": "@jupyter-widgets/base",
            "_view_module_version": "1.2.0",
            "_view_name": "LayoutView",
            "align_content": null,
            "align_items": null,
            "align_self": null,
            "border": null,
            "bottom": null,
            "display": null,
            "flex": null,
            "flex_flow": null,
            "grid_area": null,
            "grid_auto_columns": null,
            "grid_auto_flow": null,
            "grid_auto_rows": null,
            "grid_column": null,
            "grid_gap": null,
            "grid_row": null,
            "grid_template_areas": null,
            "grid_template_columns": null,
            "grid_template_rows": null,
            "height": null,
            "justify_content": null,
            "justify_items": null,
            "left": null,
            "margin": null,
            "max_height": null,
            "max_width": null,
            "min_height": null,
            "min_width": null,
            "object_fit": null,
            "object_position": null,
            "order": null,
            "overflow": null,
            "overflow_x": null,
            "overflow_y": null,
            "padding": null,
            "right": null,
            "top": null,
            "visibility": null,
            "width": null
          }
        },
        "722da254e0664cc9885265c77fd84270": {
          "model_module": "@jupyter-widgets/base",
          "model_module_version": "1.2.0",
          "model_name": "LayoutModel",
          "state": {
            "_model_module": "@jupyter-widgets/base",
            "_model_module_version": "1.2.0",
            "_model_name": "LayoutModel",
            "_view_count": null,
            "_view_module": "@jupyter-widgets/base",
            "_view_module_version": "1.2.0",
            "_view_name": "LayoutView",
            "align_content": null,
            "align_items": null,
            "align_self": null,
            "border": null,
            "bottom": null,
            "display": null,
            "flex": null,
            "flex_flow": null,
            "grid_area": null,
            "grid_auto_columns": null,
            "grid_auto_flow": null,
            "grid_auto_rows": null,
            "grid_column": null,
            "grid_gap": null,
            "grid_row": null,
            "grid_template_areas": null,
            "grid_template_columns": null,
            "grid_template_rows": null,
            "height": null,
            "justify_content": null,
            "justify_items": null,
            "left": null,
            "margin": null,
            "max_height": null,
            "max_width": null,
            "min_height": null,
            "min_width": null,
            "object_fit": null,
            "object_position": null,
            "order": null,
            "overflow": null,
            "overflow_x": null,
            "overflow_y": null,
            "padding": null,
            "right": null,
            "top": null,
            "visibility": null,
            "width": null
          }
        },
        "73c3f4482e644d299ec8470f79578d7f": {
          "model_module": "@jupyter-widgets/base",
          "model_module_version": "1.2.0",
          "model_name": "LayoutModel",
          "state": {
            "_model_module": "@jupyter-widgets/base",
            "_model_module_version": "1.2.0",
            "_model_name": "LayoutModel",
            "_view_count": null,
            "_view_module": "@jupyter-widgets/base",
            "_view_module_version": "1.2.0",
            "_view_name": "LayoutView",
            "align_content": null,
            "align_items": null,
            "align_self": null,
            "border": null,
            "bottom": null,
            "display": null,
            "flex": null,
            "flex_flow": null,
            "grid_area": null,
            "grid_auto_columns": null,
            "grid_auto_flow": null,
            "grid_auto_rows": null,
            "grid_column": null,
            "grid_gap": null,
            "grid_row": null,
            "grid_template_areas": null,
            "grid_template_columns": null,
            "grid_template_rows": null,
            "height": null,
            "justify_content": null,
            "justify_items": null,
            "left": null,
            "margin": null,
            "max_height": null,
            "max_width": null,
            "min_height": null,
            "min_width": null,
            "object_fit": null,
            "object_position": null,
            "order": null,
            "overflow": null,
            "overflow_x": null,
            "overflow_y": null,
            "padding": null,
            "right": null,
            "top": null,
            "visibility": null,
            "width": null
          }
        },
        "760f48d96a6c450f86d789e8b728cda3": {
          "model_module": "@jupyter-widgets/controls",
          "model_module_version": "1.5.0",
          "model_name": "HTMLModel",
          "state": {
            "_dom_classes": [],
            "_model_module": "@jupyter-widgets/controls",
            "_model_module_version": "1.5.0",
            "_model_name": "HTMLModel",
            "_view_count": null,
            "_view_module": "@jupyter-widgets/controls",
            "_view_module_version": "1.5.0",
            "_view_name": "HTMLView",
            "description": "",
            "description_tooltip": null,
            "layout": "IPY_MODEL_6dee8fd2595a46b4b3365d45b88e0f81",
            "placeholder": "​",
            "style": "IPY_MODEL_667517b51a3a4da8bd84f854ff25eadd",
            "value": "tokenizer_config.json: 100%"
          }
        },
        "776d95027c21408d999ac7c7d00239d6": {
          "model_module": "@jupyter-widgets/base",
          "model_module_version": "1.2.0",
          "model_name": "LayoutModel",
          "state": {
            "_model_module": "@jupyter-widgets/base",
            "_model_module_version": "1.2.0",
            "_model_name": "LayoutModel",
            "_view_count": null,
            "_view_module": "@jupyter-widgets/base",
            "_view_module_version": "1.2.0",
            "_view_name": "LayoutView",
            "align_content": null,
            "align_items": null,
            "align_self": null,
            "border": null,
            "bottom": null,
            "display": null,
            "flex": null,
            "flex_flow": null,
            "grid_area": null,
            "grid_auto_columns": null,
            "grid_auto_flow": null,
            "grid_auto_rows": null,
            "grid_column": null,
            "grid_gap": null,
            "grid_row": null,
            "grid_template_areas": null,
            "grid_template_columns": null,
            "grid_template_rows": null,
            "height": null,
            "justify_content": null,
            "justify_items": null,
            "left": null,
            "margin": null,
            "max_height": null,
            "max_width": null,
            "min_height": null,
            "min_width": null,
            "object_fit": null,
            "object_position": null,
            "order": null,
            "overflow": null,
            "overflow_x": null,
            "overflow_y": null,
            "padding": null,
            "right": null,
            "top": null,
            "visibility": null,
            "width": null
          }
        },
        "7c06266dabc546739fed1abf29ceec66": {
          "model_module": "@jupyter-widgets/base",
          "model_module_version": "1.2.0",
          "model_name": "LayoutModel",
          "state": {
            "_model_module": "@jupyter-widgets/base",
            "_model_module_version": "1.2.0",
            "_model_name": "LayoutModel",
            "_view_count": null,
            "_view_module": "@jupyter-widgets/base",
            "_view_module_version": "1.2.0",
            "_view_name": "LayoutView",
            "align_content": null,
            "align_items": null,
            "align_self": null,
            "border": null,
            "bottom": null,
            "display": null,
            "flex": null,
            "flex_flow": null,
            "grid_area": null,
            "grid_auto_columns": null,
            "grid_auto_flow": null,
            "grid_auto_rows": null,
            "grid_column": null,
            "grid_gap": null,
            "grid_row": null,
            "grid_template_areas": null,
            "grid_template_columns": null,
            "grid_template_rows": null,
            "height": null,
            "justify_content": null,
            "justify_items": null,
            "left": null,
            "margin": null,
            "max_height": null,
            "max_width": null,
            "min_height": null,
            "min_width": null,
            "object_fit": null,
            "object_position": null,
            "order": null,
            "overflow": null,
            "overflow_x": null,
            "overflow_y": null,
            "padding": null,
            "right": null,
            "top": null,
            "visibility": null,
            "width": null
          }
        },
        "7d659d8bd82e430db001bb0c29d1e7d4": {
          "model_module": "@jupyter-widgets/controls",
          "model_module_version": "1.5.0",
          "model_name": "DescriptionStyleModel",
          "state": {
            "_model_module": "@jupyter-widgets/controls",
            "_model_module_version": "1.5.0",
            "_model_name": "DescriptionStyleModel",
            "_view_count": null,
            "_view_module": "@jupyter-widgets/base",
            "_view_module_version": "1.2.0",
            "_view_name": "StyleView",
            "description_width": ""
          }
        },
        "7e51a58296cf4aa9b03f7b24ba2610e9": {
          "model_module": "@jupyter-widgets/base",
          "model_module_version": "1.2.0",
          "model_name": "LayoutModel",
          "state": {
            "_model_module": "@jupyter-widgets/base",
            "_model_module_version": "1.2.0",
            "_model_name": "LayoutModel",
            "_view_count": null,
            "_view_module": "@jupyter-widgets/base",
            "_view_module_version": "1.2.0",
            "_view_name": "LayoutView",
            "align_content": null,
            "align_items": null,
            "align_self": null,
            "border": null,
            "bottom": null,
            "display": null,
            "flex": null,
            "flex_flow": null,
            "grid_area": null,
            "grid_auto_columns": null,
            "grid_auto_flow": null,
            "grid_auto_rows": null,
            "grid_column": null,
            "grid_gap": null,
            "grid_row": null,
            "grid_template_areas": null,
            "grid_template_columns": null,
            "grid_template_rows": null,
            "height": null,
            "justify_content": null,
            "justify_items": null,
            "left": null,
            "margin": null,
            "max_height": null,
            "max_width": null,
            "min_height": null,
            "min_width": null,
            "object_fit": null,
            "object_position": null,
            "order": null,
            "overflow": null,
            "overflow_x": null,
            "overflow_y": null,
            "padding": null,
            "right": null,
            "top": null,
            "visibility": null,
            "width": null
          }
        },
        "815872c49be04ef09820ac04f9fc68bb": {
          "model_module": "@jupyter-widgets/controls",
          "model_module_version": "1.5.0",
          "model_name": "HTMLModel",
          "state": {
            "_dom_classes": [],
            "_model_module": "@jupyter-widgets/controls",
            "_model_module_version": "1.5.0",
            "_model_name": "HTMLModel",
            "_view_count": null,
            "_view_module": "@jupyter-widgets/controls",
            "_view_module_version": "1.5.0",
            "_view_name": "HTMLView",
            "description": "",
            "description_tooltip": null,
            "layout": "IPY_MODEL_722da254e0664cc9885265c77fd84270",
            "placeholder": "​",
            "style": "IPY_MODEL_298447f4c3b543f5b3fbee99d7efeb9a",
            "value": " 27731/27731 [59:55&lt;00:00, 14.10it/s]"
          }
        },
        "82a130bcc2ac4b449d6cd4dafbccc85e": {
          "model_module": "@jupyter-widgets/controls",
          "model_module_version": "1.5.0",
          "model_name": "DescriptionStyleModel",
          "state": {
            "_model_module": "@jupyter-widgets/controls",
            "_model_module_version": "1.5.0",
            "_model_name": "DescriptionStyleModel",
            "_view_count": null,
            "_view_module": "@jupyter-widgets/base",
            "_view_module_version": "1.2.0",
            "_view_name": "StyleView",
            "description_width": ""
          }
        },
        "83144be47fbe4d4cb2bf406d988598ad": {
          "model_module": "@jupyter-widgets/controls",
          "model_module_version": "1.5.0",
          "model_name": "HBoxModel",
          "state": {
            "_dom_classes": [],
            "_model_module": "@jupyter-widgets/controls",
            "_model_module_version": "1.5.0",
            "_model_name": "HBoxModel",
            "_view_count": null,
            "_view_module": "@jupyter-widgets/controls",
            "_view_module_version": "1.5.0",
            "_view_name": "HBoxView",
            "box_style": "",
            "children": [
              "IPY_MODEL_ab1b9053b73c4aa7b6b27278a80a0a0e",
              "IPY_MODEL_131d68edfc154ff7ade9578a69197754",
              "IPY_MODEL_99001e69a62546b59d99987c49634345"
            ],
            "layout": "IPY_MODEL_776d95027c21408d999ac7c7d00239d6"
          }
        },
        "87aac3253ad94dd0aac4ec65f20f32aa": {
          "model_module": "@jupyter-widgets/base",
          "model_module_version": "1.2.0",
          "model_name": "LayoutModel",
          "state": {
            "_model_module": "@jupyter-widgets/base",
            "_model_module_version": "1.2.0",
            "_model_name": "LayoutModel",
            "_view_count": null,
            "_view_module": "@jupyter-widgets/base",
            "_view_module_version": "1.2.0",
            "_view_name": "LayoutView",
            "align_content": null,
            "align_items": null,
            "align_self": null,
            "border": null,
            "bottom": null,
            "display": null,
            "flex": null,
            "flex_flow": null,
            "grid_area": null,
            "grid_auto_columns": null,
            "grid_auto_flow": null,
            "grid_auto_rows": null,
            "grid_column": null,
            "grid_gap": null,
            "grid_row": null,
            "grid_template_areas": null,
            "grid_template_columns": null,
            "grid_template_rows": null,
            "height": null,
            "justify_content": null,
            "justify_items": null,
            "left": null,
            "margin": null,
            "max_height": null,
            "max_width": null,
            "min_height": null,
            "min_width": null,
            "object_fit": null,
            "object_position": null,
            "order": null,
            "overflow": null,
            "overflow_x": null,
            "overflow_y": null,
            "padding": null,
            "right": null,
            "top": null,
            "visibility": null,
            "width": null
          }
        },
        "87d579e157cd4218ae261048686a6a15": {
          "model_module": "@jupyter-widgets/controls",
          "model_module_version": "1.5.0",
          "model_name": "HTMLModel",
          "state": {
            "_dom_classes": [],
            "_model_module": "@jupyter-widgets/controls",
            "_model_module_version": "1.5.0",
            "_model_name": "HTMLModel",
            "_view_count": null,
            "_view_module": "@jupyter-widgets/controls",
            "_view_module_version": "1.5.0",
            "_view_name": "HTMLView",
            "description": "",
            "description_tooltip": null,
            "layout": "IPY_MODEL_ee917c19b82f43138838c860b338112b",
            "placeholder": "​",
            "style": "IPY_MODEL_d79ba862199a4406a669a56bce25bf73",
            "value": " 190/190 [00:00&lt;00:00, 10.8kB/s]"
          }
        },
        "88ae5948356a4e74b67c7be65b5568de": {
          "model_module": "@jupyter-widgets/controls",
          "model_module_version": "1.5.0",
          "model_name": "FloatProgressModel",
          "state": {
            "_dom_classes": [],
            "_model_module": "@jupyter-widgets/controls",
            "_model_module_version": "1.5.0",
            "_model_name": "FloatProgressModel",
            "_view_count": null,
            "_view_module": "@jupyter-widgets/controls",
            "_view_module_version": "1.5.0",
            "_view_name": "ProgressView",
            "bar_style": "success",
            "description": "",
            "description_tooltip": null,
            "layout": "IPY_MODEL_10eb2de6f66c4d549394747373af8402",
            "max": 27731,
            "min": 0,
            "orientation": "horizontal",
            "style": "IPY_MODEL_09d8e8f24e714348bddd83e4f9ca7c6e",
            "value": 27731
          }
        },
        "8919069cd08b42f7b0139be4941ecb82": {
          "model_module": "@jupyter-widgets/controls",
          "model_module_version": "1.5.0",
          "model_name": "FloatProgressModel",
          "state": {
            "_dom_classes": [],
            "_model_module": "@jupyter-widgets/controls",
            "_model_module_version": "1.5.0",
            "_model_name": "FloatProgressModel",
            "_view_count": null,
            "_view_module": "@jupyter-widgets/controls",
            "_view_module_version": "1.5.0",
            "_view_name": "ProgressView",
            "bar_style": "success",
            "description": "",
            "description_tooltip": null,
            "layout": "IPY_MODEL_36edf23ae0c74c7f9c1eaa89b4ba4625",
            "max": 349,
            "min": 0,
            "orientation": "horizontal",
            "style": "IPY_MODEL_47bd36122fe749a580af687039dd8129",
            "value": 349
          }
        },
        "8d70a2b941f94c1d905aa1286841c3a9": {
          "model_module": "@jupyter-widgets/controls",
          "model_module_version": "1.5.0",
          "model_name": "DescriptionStyleModel",
          "state": {
            "_model_module": "@jupyter-widgets/controls",
            "_model_module_version": "1.5.0",
            "_model_name": "DescriptionStyleModel",
            "_view_count": null,
            "_view_module": "@jupyter-widgets/base",
            "_view_module_version": "1.2.0",
            "_view_name": "StyleView",
            "description_width": ""
          }
        },
        "8e0e7be631e34808af6295a581f6e364": {
          "model_module": "@jupyter-widgets/controls",
          "model_module_version": "1.5.0",
          "model_name": "DescriptionStyleModel",
          "state": {
            "_model_module": "@jupyter-widgets/controls",
            "_model_module_version": "1.5.0",
            "_model_name": "DescriptionStyleModel",
            "_view_count": null,
            "_view_module": "@jupyter-widgets/base",
            "_view_module_version": "1.2.0",
            "_view_name": "StyleView",
            "description_width": ""
          }
        },
        "904fbd25acbb45c982fe0d738000f024": {
          "model_module": "@jupyter-widgets/base",
          "model_module_version": "1.2.0",
          "model_name": "LayoutModel",
          "state": {
            "_model_module": "@jupyter-widgets/base",
            "_model_module_version": "1.2.0",
            "_model_name": "LayoutModel",
            "_view_count": null,
            "_view_module": "@jupyter-widgets/base",
            "_view_module_version": "1.2.0",
            "_view_name": "LayoutView",
            "align_content": null,
            "align_items": null,
            "align_self": null,
            "border": null,
            "bottom": null,
            "display": null,
            "flex": null,
            "flex_flow": null,
            "grid_area": null,
            "grid_auto_columns": null,
            "grid_auto_flow": null,
            "grid_auto_rows": null,
            "grid_column": null,
            "grid_gap": null,
            "grid_row": null,
            "grid_template_areas": null,
            "grid_template_columns": null,
            "grid_template_rows": null,
            "height": null,
            "justify_content": null,
            "justify_items": null,
            "left": null,
            "margin": null,
            "max_height": null,
            "max_width": null,
            "min_height": null,
            "min_width": null,
            "object_fit": null,
            "object_position": null,
            "order": null,
            "overflow": null,
            "overflow_x": null,
            "overflow_y": null,
            "padding": null,
            "right": null,
            "top": null,
            "visibility": null,
            "width": null
          }
        },
        "946fa1e3b3464f319aa8920a6fc8164b": {
          "model_module": "@jupyter-widgets/base",
          "model_module_version": "1.2.0",
          "model_name": "LayoutModel",
          "state": {
            "_model_module": "@jupyter-widgets/base",
            "_model_module_version": "1.2.0",
            "_model_name": "LayoutModel",
            "_view_count": null,
            "_view_module": "@jupyter-widgets/base",
            "_view_module_version": "1.2.0",
            "_view_name": "LayoutView",
            "align_content": null,
            "align_items": null,
            "align_self": null,
            "border": null,
            "bottom": null,
            "display": null,
            "flex": null,
            "flex_flow": null,
            "grid_area": null,
            "grid_auto_columns": null,
            "grid_auto_flow": null,
            "grid_auto_rows": null,
            "grid_column": null,
            "grid_gap": null,
            "grid_row": null,
            "grid_template_areas": null,
            "grid_template_columns": null,
            "grid_template_rows": null,
            "height": null,
            "justify_content": null,
            "justify_items": null,
            "left": null,
            "margin": null,
            "max_height": null,
            "max_width": null,
            "min_height": null,
            "min_width": null,
            "object_fit": null,
            "object_position": null,
            "order": null,
            "overflow": null,
            "overflow_x": null,
            "overflow_y": null,
            "padding": null,
            "right": null,
            "top": null,
            "visibility": null,
            "width": null
          }
        },
        "9550ab3466e640eeb1798d6b6d438cd4": {
          "model_module": "@jupyter-widgets/base",
          "model_module_version": "1.2.0",
          "model_name": "LayoutModel",
          "state": {
            "_model_module": "@jupyter-widgets/base",
            "_model_module_version": "1.2.0",
            "_model_name": "LayoutModel",
            "_view_count": null,
            "_view_module": "@jupyter-widgets/base",
            "_view_module_version": "1.2.0",
            "_view_name": "LayoutView",
            "align_content": null,
            "align_items": null,
            "align_self": null,
            "border": null,
            "bottom": null,
            "display": null,
            "flex": null,
            "flex_flow": null,
            "grid_area": null,
            "grid_auto_columns": null,
            "grid_auto_flow": null,
            "grid_auto_rows": null,
            "grid_column": null,
            "grid_gap": null,
            "grid_row": null,
            "grid_template_areas": null,
            "grid_template_columns": null,
            "grid_template_rows": null,
            "height": null,
            "justify_content": null,
            "justify_items": null,
            "left": null,
            "margin": null,
            "max_height": null,
            "max_width": null,
            "min_height": null,
            "min_width": null,
            "object_fit": null,
            "object_position": null,
            "order": null,
            "overflow": null,
            "overflow_x": null,
            "overflow_y": null,
            "padding": null,
            "right": null,
            "top": null,
            "visibility": null,
            "width": null
          }
        },
        "95f376124f024adb8a7c71023fe3b6b9": {
          "model_module": "@jupyter-widgets/controls",
          "model_module_version": "1.5.0",
          "model_name": "HTMLModel",
          "state": {
            "_dom_classes": [],
            "_model_module": "@jupyter-widgets/controls",
            "_model_module_version": "1.5.0",
            "_model_name": "HTMLModel",
            "_view_count": null,
            "_view_module": "@jupyter-widgets/controls",
            "_view_module_version": "1.5.0",
            "_view_name": "HTMLView",
            "description": "",
            "description_tooltip": null,
            "layout": "IPY_MODEL_b6b77eb4ed1341b88a21a356e7c1b6e9",
            "placeholder": "​",
            "style": "IPY_MODEL_c10a1dd131684e5faf90a3723d9baee4",
            "value": "model.safetensors: 100%"
          }
        },
        "99001e69a62546b59d99987c49634345": {
          "model_module": "@jupyter-widgets/controls",
          "model_module_version": "1.5.0",
          "model_name": "HTMLModel",
          "state": {
            "_dom_classes": [],
            "_model_module": "@jupyter-widgets/controls",
            "_model_module_version": "1.5.0",
            "_model_name": "HTMLModel",
            "_view_count": null,
            "_view_module": "@jupyter-widgets/controls",
            "_view_module_version": "1.5.0",
            "_view_name": "HTMLView",
            "description": "",
            "description_tooltip": null,
            "layout": "IPY_MODEL_d936378f84af45e7ba4367402d0623db",
            "placeholder": "​",
            "style": "IPY_MODEL_35fde344164e491a854db2f8004541a2",
            "value": " 112/112 [00:00&lt;00:00, 7.42kB/s]"
          }
        },
        "99f1e214ac8945ebaa4319f422ee1726": {
          "model_module": "@jupyter-widgets/controls",
          "model_module_version": "1.5.0",
          "model_name": "HBoxModel",
          "state": {
            "_dom_classes": [],
            "_model_module": "@jupyter-widgets/controls",
            "_model_module_version": "1.5.0",
            "_model_name": "HBoxModel",
            "_view_count": null,
            "_view_module": "@jupyter-widgets/controls",
            "_view_module_version": "1.5.0",
            "_view_name": "HBoxView",
            "box_style": "",
            "children": [
              "IPY_MODEL_03ce3fb94f234d20914021e4c70397dc",
              "IPY_MODEL_1fedb2fc9aa045ba9796840b5af743e9",
              "IPY_MODEL_d7a47a91987648198a68262f787df3b9"
            ],
            "layout": "IPY_MODEL_946fa1e3b3464f319aa8920a6fc8164b"
          }
        },
        "9bf0e3f571a64c7d97b8995bd69c40c0": {
          "model_module": "@jupyter-widgets/base",
          "model_module_version": "1.2.0",
          "model_name": "LayoutModel",
          "state": {
            "_model_module": "@jupyter-widgets/base",
            "_model_module_version": "1.2.0",
            "_model_name": "LayoutModel",
            "_view_count": null,
            "_view_module": "@jupyter-widgets/base",
            "_view_module_version": "1.2.0",
            "_view_name": "LayoutView",
            "align_content": null,
            "align_items": null,
            "align_self": null,
            "border": null,
            "bottom": null,
            "display": null,
            "flex": null,
            "flex_flow": null,
            "grid_area": null,
            "grid_auto_columns": null,
            "grid_auto_flow": null,
            "grid_auto_rows": null,
            "grid_column": null,
            "grid_gap": null,
            "grid_row": null,
            "grid_template_areas": null,
            "grid_template_columns": null,
            "grid_template_rows": null,
            "height": null,
            "justify_content": null,
            "justify_items": null,
            "left": null,
            "margin": null,
            "max_height": null,
            "max_width": null,
            "min_height": null,
            "min_width": null,
            "object_fit": null,
            "object_position": null,
            "order": null,
            "overflow": null,
            "overflow_x": null,
            "overflow_y": null,
            "padding": null,
            "right": null,
            "top": null,
            "visibility": null,
            "width": null
          }
        },
        "9c2a119a1be44541859050394e10213f": {
          "model_module": "@jupyter-widgets/base",
          "model_module_version": "1.2.0",
          "model_name": "LayoutModel",
          "state": {
            "_model_module": "@jupyter-widgets/base",
            "_model_module_version": "1.2.0",
            "_model_name": "LayoutModel",
            "_view_count": null,
            "_view_module": "@jupyter-widgets/base",
            "_view_module_version": "1.2.0",
            "_view_name": "LayoutView",
            "align_content": null,
            "align_items": null,
            "align_self": null,
            "border": null,
            "bottom": null,
            "display": null,
            "flex": null,
            "flex_flow": null,
            "grid_area": null,
            "grid_auto_columns": null,
            "grid_auto_flow": null,
            "grid_auto_rows": null,
            "grid_column": null,
            "grid_gap": null,
            "grid_row": null,
            "grid_template_areas": null,
            "grid_template_columns": null,
            "grid_template_rows": null,
            "height": null,
            "justify_content": null,
            "justify_items": null,
            "left": null,
            "margin": null,
            "max_height": null,
            "max_width": null,
            "min_height": null,
            "min_width": null,
            "object_fit": null,
            "object_position": null,
            "order": null,
            "overflow": null,
            "overflow_x": null,
            "overflow_y": null,
            "padding": null,
            "right": null,
            "top": null,
            "visibility": null,
            "width": null
          }
        },
        "9e1cb3e25c684e32a910d07759041933": {
          "model_module": "@jupyter-widgets/controls",
          "model_module_version": "1.5.0",
          "model_name": "HTMLModel",
          "state": {
            "_dom_classes": [],
            "_model_module": "@jupyter-widgets/controls",
            "_model_module_version": "1.5.0",
            "_model_name": "HTMLModel",
            "_view_count": null,
            "_view_module": "@jupyter-widgets/controls",
            "_view_module_version": "1.5.0",
            "_view_name": "HTMLView",
            "description": "",
            "description_tooltip": null,
            "layout": "IPY_MODEL_9550ab3466e640eeb1798d6b6d438cd4",
            "placeholder": "​",
            "style": "IPY_MODEL_1f4ca15e103c47f9a4e74c56da9676c3",
            "value": " 90.9M/90.9M [00:01&lt;00:00, 110MB/s]"
          }
        },
        "9e274e130ddc4cd0931048d90413a64d": {
          "model_module": "@jupyter-widgets/base",
          "model_module_version": "1.2.0",
          "model_name": "LayoutModel",
          "state": {
            "_model_module": "@jupyter-widgets/base",
            "_model_module_version": "1.2.0",
            "_model_name": "LayoutModel",
            "_view_count": null,
            "_view_module": "@jupyter-widgets/base",
            "_view_module_version": "1.2.0",
            "_view_name": "LayoutView",
            "align_content": null,
            "align_items": null,
            "align_self": null,
            "border": null,
            "bottom": null,
            "display": null,
            "flex": null,
            "flex_flow": null,
            "grid_area": null,
            "grid_auto_columns": null,
            "grid_auto_flow": null,
            "grid_auto_rows": null,
            "grid_column": null,
            "grid_gap": null,
            "grid_row": null,
            "grid_template_areas": null,
            "grid_template_columns": null,
            "grid_template_rows": null,
            "height": null,
            "justify_content": null,
            "justify_items": null,
            "left": null,
            "margin": null,
            "max_height": null,
            "max_width": null,
            "min_height": null,
            "min_width": null,
            "object_fit": null,
            "object_position": null,
            "order": null,
            "overflow": null,
            "overflow_x": null,
            "overflow_y": null,
            "padding": null,
            "right": null,
            "top": null,
            "visibility": null,
            "width": null
          }
        },
        "a2a10c672b9b4c78ad109ed4658fc94a": {
          "model_module": "@jupyter-widgets/controls",
          "model_module_version": "1.5.0",
          "model_name": "HTMLModel",
          "state": {
            "_dom_classes": [],
            "_model_module": "@jupyter-widgets/controls",
            "_model_module_version": "1.5.0",
            "_model_name": "HTMLModel",
            "_view_count": null,
            "_view_module": "@jupyter-widgets/controls",
            "_view_module_version": "1.5.0",
            "_view_name": "HTMLView",
            "description": "",
            "description_tooltip": null,
            "layout": "IPY_MODEL_9e274e130ddc4cd0931048d90413a64d",
            "placeholder": "​",
            "style": "IPY_MODEL_d2c44482cc2541458b215402f9502ba0",
            "value": " 349/349 [00:00&lt;00:00, 19.0kB/s]"
          }
        },
        "a2b52b8eb67a4792aa1ae2dab7578ed5": {
          "model_module": "@jupyter-widgets/controls",
          "model_module_version": "1.5.0",
          "model_name": "HBoxModel",
          "state": {
            "_dom_classes": [],
            "_model_module": "@jupyter-widgets/controls",
            "_model_module_version": "1.5.0",
            "_model_name": "HBoxModel",
            "_view_count": null,
            "_view_module": "@jupyter-widgets/controls",
            "_view_module_version": "1.5.0",
            "_view_name": "HBoxView",
            "box_style": "",
            "children": [
              "IPY_MODEL_760f48d96a6c450f86d789e8b728cda3",
              "IPY_MODEL_50cb0255ea22455a81505eb1acc22b98",
              "IPY_MODEL_d01d25ef0829486bbb33f5cf701aca60"
            ],
            "layout": "IPY_MODEL_08bbc79b83ae480bb9f7df83cc09849a"
          }
        },
        "aa707ccd1fae435b96a9000f4047b319": {
          "model_module": "@jupyter-widgets/base",
          "model_module_version": "1.2.0",
          "model_name": "LayoutModel",
          "state": {
            "_model_module": "@jupyter-widgets/base",
            "_model_module_version": "1.2.0",
            "_model_name": "LayoutModel",
            "_view_count": null,
            "_view_module": "@jupyter-widgets/base",
            "_view_module_version": "1.2.0",
            "_view_name": "LayoutView",
            "align_content": null,
            "align_items": null,
            "align_self": null,
            "border": null,
            "bottom": null,
            "display": null,
            "flex": null,
            "flex_flow": null,
            "grid_area": null,
            "grid_auto_columns": null,
            "grid_auto_flow": null,
            "grid_auto_rows": null,
            "grid_column": null,
            "grid_gap": null,
            "grid_row": null,
            "grid_template_areas": null,
            "grid_template_columns": null,
            "grid_template_rows": null,
            "height": null,
            "justify_content": null,
            "justify_items": null,
            "left": null,
            "margin": null,
            "max_height": null,
            "max_width": null,
            "min_height": null,
            "min_width": null,
            "object_fit": null,
            "object_position": null,
            "order": null,
            "overflow": null,
            "overflow_x": null,
            "overflow_y": null,
            "padding": null,
            "right": null,
            "top": null,
            "visibility": null,
            "width": null
          }
        },
        "aab8e5b01cb04f8790b9fc278f9d2205": {
          "model_module": "@jupyter-widgets/base",
          "model_module_version": "1.2.0",
          "model_name": "LayoutModel",
          "state": {
            "_model_module": "@jupyter-widgets/base",
            "_model_module_version": "1.2.0",
            "_model_name": "LayoutModel",
            "_view_count": null,
            "_view_module": "@jupyter-widgets/base",
            "_view_module_version": "1.2.0",
            "_view_name": "LayoutView",
            "align_content": null,
            "align_items": null,
            "align_self": null,
            "border": null,
            "bottom": null,
            "display": null,
            "flex": null,
            "flex_flow": null,
            "grid_area": null,
            "grid_auto_columns": null,
            "grid_auto_flow": null,
            "grid_auto_rows": null,
            "grid_column": null,
            "grid_gap": null,
            "grid_row": null,
            "grid_template_areas": null,
            "grid_template_columns": null,
            "grid_template_rows": null,
            "height": null,
            "justify_content": null,
            "justify_items": null,
            "left": null,
            "margin": null,
            "max_height": null,
            "max_width": null,
            "min_height": null,
            "min_width": null,
            "object_fit": null,
            "object_position": null,
            "order": null,
            "overflow": null,
            "overflow_x": null,
            "overflow_y": null,
            "padding": null,
            "right": null,
            "top": null,
            "visibility": null,
            "width": null
          }
        },
        "aad2b82d4fc641b2b5dc2d3b816a333d": {
          "model_module": "@jupyter-widgets/controls",
          "model_module_version": "1.5.0",
          "model_name": "HBoxModel",
          "state": {
            "_dom_classes": [],
            "_model_module": "@jupyter-widgets/controls",
            "_model_module_version": "1.5.0",
            "_model_name": "HBoxModel",
            "_view_count": null,
            "_view_module": "@jupyter-widgets/controls",
            "_view_module_version": "1.5.0",
            "_view_name": "HBoxView",
            "box_style": "",
            "children": [
              "IPY_MODEL_c9c6979823b44e7097d500a9729ebf37",
              "IPY_MODEL_6a7f49cbf00a4567a844c94491b95d37",
              "IPY_MODEL_649579396a70497a8a7f92af65f59da3"
            ],
            "layout": "IPY_MODEL_f69ade0466d04722a5525badaf01caf5"
          }
        },
        "ab1b9053b73c4aa7b6b27278a80a0a0e": {
          "model_module": "@jupyter-widgets/controls",
          "model_module_version": "1.5.0",
          "model_name": "HTMLModel",
          "state": {
            "_dom_classes": [],
            "_model_module": "@jupyter-widgets/controls",
            "_model_module_version": "1.5.0",
            "_model_name": "HTMLModel",
            "_view_count": null,
            "_view_module": "@jupyter-widgets/controls",
            "_view_module_version": "1.5.0",
            "_view_name": "HTMLView",
            "description": "",
            "description_tooltip": null,
            "layout": "IPY_MODEL_ec734e7f1fe142b49dc43ac45d6a267c",
            "placeholder": "​",
            "style": "IPY_MODEL_82a130bcc2ac4b449d6cd4dafbccc85e",
            "value": "special_tokens_map.json: 100%"
          }
        },
        "af9b40be2a99410d96f0368a719d4c80": {
          "model_module": "@jupyter-widgets/controls",
          "model_module_version": "1.5.0",
          "model_name": "DescriptionStyleModel",
          "state": {
            "_model_module": "@jupyter-widgets/controls",
            "_model_module_version": "1.5.0",
            "_model_name": "DescriptionStyleModel",
            "_view_count": null,
            "_view_module": "@jupyter-widgets/base",
            "_view_module_version": "1.2.0",
            "_view_name": "StyleView",
            "description_width": ""
          }
        },
        "b2d7e905d52d4ddca12d9e8a257348b3": {
          "model_module": "@jupyter-widgets/controls",
          "model_module_version": "1.5.0",
          "model_name": "DescriptionStyleModel",
          "state": {
            "_model_module": "@jupyter-widgets/controls",
            "_model_module_version": "1.5.0",
            "_model_name": "DescriptionStyleModel",
            "_view_count": null,
            "_view_module": "@jupyter-widgets/base",
            "_view_module_version": "1.2.0",
            "_view_name": "StyleView",
            "description_width": ""
          }
        },
        "b61f3a61d18b46f8a6a1619ad4d2baf7": {
          "model_module": "@jupyter-widgets/base",
          "model_module_version": "1.2.0",
          "model_name": "LayoutModel",
          "state": {
            "_model_module": "@jupyter-widgets/base",
            "_model_module_version": "1.2.0",
            "_model_name": "LayoutModel",
            "_view_count": null,
            "_view_module": "@jupyter-widgets/base",
            "_view_module_version": "1.2.0",
            "_view_name": "LayoutView",
            "align_content": null,
            "align_items": null,
            "align_self": null,
            "border": null,
            "bottom": null,
            "display": null,
            "flex": null,
            "flex_flow": null,
            "grid_area": null,
            "grid_auto_columns": null,
            "grid_auto_flow": null,
            "grid_auto_rows": null,
            "grid_column": null,
            "grid_gap": null,
            "grid_row": null,
            "grid_template_areas": null,
            "grid_template_columns": null,
            "grid_template_rows": null,
            "height": null,
            "justify_content": null,
            "justify_items": null,
            "left": null,
            "margin": null,
            "max_height": null,
            "max_width": null,
            "min_height": null,
            "min_width": null,
            "object_fit": null,
            "object_position": null,
            "order": null,
            "overflow": null,
            "overflow_x": null,
            "overflow_y": null,
            "padding": null,
            "right": null,
            "top": null,
            "visibility": null,
            "width": null
          }
        },
        "b6b77eb4ed1341b88a21a356e7c1b6e9": {
          "model_module": "@jupyter-widgets/base",
          "model_module_version": "1.2.0",
          "model_name": "LayoutModel",
          "state": {
            "_model_module": "@jupyter-widgets/base",
            "_model_module_version": "1.2.0",
            "_model_name": "LayoutModel",
            "_view_count": null,
            "_view_module": "@jupyter-widgets/base",
            "_view_module_version": "1.2.0",
            "_view_name": "LayoutView",
            "align_content": null,
            "align_items": null,
            "align_self": null,
            "border": null,
            "bottom": null,
            "display": null,
            "flex": null,
            "flex_flow": null,
            "grid_area": null,
            "grid_auto_columns": null,
            "grid_auto_flow": null,
            "grid_auto_rows": null,
            "grid_column": null,
            "grid_gap": null,
            "grid_row": null,
            "grid_template_areas": null,
            "grid_template_columns": null,
            "grid_template_rows": null,
            "height": null,
            "justify_content": null,
            "justify_items": null,
            "left": null,
            "margin": null,
            "max_height": null,
            "max_width": null,
            "min_height": null,
            "min_width": null,
            "object_fit": null,
            "object_position": null,
            "order": null,
            "overflow": null,
            "overflow_x": null,
            "overflow_y": null,
            "padding": null,
            "right": null,
            "top": null,
            "visibility": null,
            "width": null
          }
        },
        "b7cfb32f26314aed9a7cce8310ba74ae": {
          "model_module": "@jupyter-widgets/base",
          "model_module_version": "1.2.0",
          "model_name": "LayoutModel",
          "state": {
            "_model_module": "@jupyter-widgets/base",
            "_model_module_version": "1.2.0",
            "_model_name": "LayoutModel",
            "_view_count": null,
            "_view_module": "@jupyter-widgets/base",
            "_view_module_version": "1.2.0",
            "_view_name": "LayoutView",
            "align_content": null,
            "align_items": null,
            "align_self": null,
            "border": null,
            "bottom": null,
            "display": null,
            "flex": null,
            "flex_flow": null,
            "grid_area": null,
            "grid_auto_columns": null,
            "grid_auto_flow": null,
            "grid_auto_rows": null,
            "grid_column": null,
            "grid_gap": null,
            "grid_row": null,
            "grid_template_areas": null,
            "grid_template_columns": null,
            "grid_template_rows": null,
            "height": null,
            "justify_content": null,
            "justify_items": null,
            "left": null,
            "margin": null,
            "max_height": null,
            "max_width": null,
            "min_height": null,
            "min_width": null,
            "object_fit": null,
            "object_position": null,
            "order": null,
            "overflow": null,
            "overflow_x": null,
            "overflow_y": null,
            "padding": null,
            "right": null,
            "top": null,
            "visibility": null,
            "width": null
          }
        },
        "b7dfd099ac84413fa93e6c2bfe4545f9": {
          "model_module": "@jupyter-widgets/base",
          "model_module_version": "1.2.0",
          "model_name": "LayoutModel",
          "state": {
            "_model_module": "@jupyter-widgets/base",
            "_model_module_version": "1.2.0",
            "_model_name": "LayoutModel",
            "_view_count": null,
            "_view_module": "@jupyter-widgets/base",
            "_view_module_version": "1.2.0",
            "_view_name": "LayoutView",
            "align_content": null,
            "align_items": null,
            "align_self": null,
            "border": null,
            "bottom": null,
            "display": null,
            "flex": null,
            "flex_flow": null,
            "grid_area": null,
            "grid_auto_columns": null,
            "grid_auto_flow": null,
            "grid_auto_rows": null,
            "grid_column": null,
            "grid_gap": null,
            "grid_row": null,
            "grid_template_areas": null,
            "grid_template_columns": null,
            "grid_template_rows": null,
            "height": null,
            "justify_content": null,
            "justify_items": null,
            "left": null,
            "margin": null,
            "max_height": null,
            "max_width": null,
            "min_height": null,
            "min_width": null,
            "object_fit": null,
            "object_position": null,
            "order": null,
            "overflow": null,
            "overflow_x": null,
            "overflow_y": null,
            "padding": null,
            "right": null,
            "top": null,
            "visibility": null,
            "width": null
          }
        },
        "b827768053014d66bd3b01bb38b315df": {
          "model_module": "@jupyter-widgets/controls",
          "model_module_version": "1.5.0",
          "model_name": "ProgressStyleModel",
          "state": {
            "_model_module": "@jupyter-widgets/controls",
            "_model_module_version": "1.5.0",
            "_model_name": "ProgressStyleModel",
            "_view_count": null,
            "_view_module": "@jupyter-widgets/base",
            "_view_module_version": "1.2.0",
            "_view_name": "StyleView",
            "bar_color": null,
            "description_width": ""
          }
        },
        "bbac4703159a445980846dc20ecc3d85": {
          "model_module": "@jupyter-widgets/base",
          "model_module_version": "1.2.0",
          "model_name": "LayoutModel",
          "state": {
            "_model_module": "@jupyter-widgets/base",
            "_model_module_version": "1.2.0",
            "_model_name": "LayoutModel",
            "_view_count": null,
            "_view_module": "@jupyter-widgets/base",
            "_view_module_version": "1.2.0",
            "_view_name": "LayoutView",
            "align_content": null,
            "align_items": null,
            "align_self": null,
            "border": null,
            "bottom": null,
            "display": null,
            "flex": null,
            "flex_flow": null,
            "grid_area": null,
            "grid_auto_columns": null,
            "grid_auto_flow": null,
            "grid_auto_rows": null,
            "grid_column": null,
            "grid_gap": null,
            "grid_row": null,
            "grid_template_areas": null,
            "grid_template_columns": null,
            "grid_template_rows": null,
            "height": null,
            "justify_content": null,
            "justify_items": null,
            "left": null,
            "margin": null,
            "max_height": null,
            "max_width": null,
            "min_height": null,
            "min_width": null,
            "object_fit": null,
            "object_position": null,
            "order": null,
            "overflow": null,
            "overflow_x": null,
            "overflow_y": null,
            "padding": null,
            "right": null,
            "top": null,
            "visibility": null,
            "width": null
          }
        },
        "bc02c76ccca040a7bfce5bef7698f780": {
          "model_module": "@jupyter-widgets/controls",
          "model_module_version": "1.5.0",
          "model_name": "HBoxModel",
          "state": {
            "_dom_classes": [],
            "_model_module": "@jupyter-widgets/controls",
            "_model_module_version": "1.5.0",
            "_model_name": "HBoxModel",
            "_view_count": null,
            "_view_module": "@jupyter-widgets/controls",
            "_view_module_version": "1.5.0",
            "_view_name": "HBoxView",
            "box_style": "",
            "children": [
              "IPY_MODEL_95f376124f024adb8a7c71023fe3b6b9",
              "IPY_MODEL_d50b1d399c1c415cb21207e49ca6e2a1",
              "IPY_MODEL_9e1cb3e25c684e32a910d07759041933"
            ],
            "layout": "IPY_MODEL_b7cfb32f26314aed9a7cce8310ba74ae"
          }
        },
        "be25fdbf8e814c1ca87093194496019f": {
          "model_module": "@jupyter-widgets/controls",
          "model_module_version": "1.5.0",
          "model_name": "DescriptionStyleModel",
          "state": {
            "_model_module": "@jupyter-widgets/controls",
            "_model_module_version": "1.5.0",
            "_model_name": "DescriptionStyleModel",
            "_view_count": null,
            "_view_module": "@jupyter-widgets/base",
            "_view_module_version": "1.2.0",
            "_view_name": "StyleView",
            "description_width": ""
          }
        },
        "c10a1dd131684e5faf90a3723d9baee4": {
          "model_module": "@jupyter-widgets/controls",
          "model_module_version": "1.5.0",
          "model_name": "DescriptionStyleModel",
          "state": {
            "_model_module": "@jupyter-widgets/controls",
            "_model_module_version": "1.5.0",
            "_model_name": "DescriptionStyleModel",
            "_view_count": null,
            "_view_module": "@jupyter-widgets/base",
            "_view_module_version": "1.2.0",
            "_view_name": "StyleView",
            "description_width": ""
          }
        },
        "c1c09a7bef6e416eb3c23cbcd7847ac3": {
          "model_module": "@jupyter-widgets/base",
          "model_module_version": "1.2.0",
          "model_name": "LayoutModel",
          "state": {
            "_model_module": "@jupyter-widgets/base",
            "_model_module_version": "1.2.0",
            "_model_name": "LayoutModel",
            "_view_count": null,
            "_view_module": "@jupyter-widgets/base",
            "_view_module_version": "1.2.0",
            "_view_name": "LayoutView",
            "align_content": null,
            "align_items": null,
            "align_self": null,
            "border": null,
            "bottom": null,
            "display": null,
            "flex": null,
            "flex_flow": null,
            "grid_area": null,
            "grid_auto_columns": null,
            "grid_auto_flow": null,
            "grid_auto_rows": null,
            "grid_column": null,
            "grid_gap": null,
            "grid_row": null,
            "grid_template_areas": null,
            "grid_template_columns": null,
            "grid_template_rows": null,
            "height": null,
            "justify_content": null,
            "justify_items": null,
            "left": null,
            "margin": null,
            "max_height": null,
            "max_width": null,
            "min_height": null,
            "min_width": null,
            "object_fit": null,
            "object_position": null,
            "order": null,
            "overflow": null,
            "overflow_x": null,
            "overflow_y": null,
            "padding": null,
            "right": null,
            "top": null,
            "visibility": null,
            "width": null
          }
        },
        "c2868ecfa604477dacc7429ea2bf4e78": {
          "model_module": "@jupyter-widgets/controls",
          "model_module_version": "1.5.0",
          "model_name": "DescriptionStyleModel",
          "state": {
            "_model_module": "@jupyter-widgets/controls",
            "_model_module_version": "1.5.0",
            "_model_name": "DescriptionStyleModel",
            "_view_count": null,
            "_view_module": "@jupyter-widgets/base",
            "_view_module_version": "1.2.0",
            "_view_name": "StyleView",
            "description_width": ""
          }
        },
        "c3560d82580c4d6b8597cd0e8f3996c7": {
          "model_module": "@jupyter-widgets/controls",
          "model_module_version": "1.5.0",
          "model_name": "HBoxModel",
          "state": {
            "_dom_classes": [],
            "_model_module": "@jupyter-widgets/controls",
            "_model_module_version": "1.5.0",
            "_model_name": "HBoxModel",
            "_view_count": null,
            "_view_module": "@jupyter-widgets/controls",
            "_view_module_version": "1.5.0",
            "_view_name": "HBoxView",
            "box_style": "",
            "children": [
              "IPY_MODEL_1249fbcad1714062bd24aa9c10b6a182",
              "IPY_MODEL_3d1a6d2ee6f243b58b4315fb9c6ba903",
              "IPY_MODEL_3a641c24ed8b4c0a85423eef5a218a04"
            ],
            "layout": "IPY_MODEL_bbac4703159a445980846dc20ecc3d85"
          }
        },
        "c5aea1daf50c4c0e845ac7bd855da87c": {
          "model_module": "@jupyter-widgets/base",
          "model_module_version": "1.2.0",
          "model_name": "LayoutModel",
          "state": {
            "_model_module": "@jupyter-widgets/base",
            "_model_module_version": "1.2.0",
            "_model_name": "LayoutModel",
            "_view_count": null,
            "_view_module": "@jupyter-widgets/base",
            "_view_module_version": "1.2.0",
            "_view_name": "LayoutView",
            "align_content": null,
            "align_items": null,
            "align_self": null,
            "border": null,
            "bottom": null,
            "display": null,
            "flex": null,
            "flex_flow": null,
            "grid_area": null,
            "grid_auto_columns": null,
            "grid_auto_flow": null,
            "grid_auto_rows": null,
            "grid_column": null,
            "grid_gap": null,
            "grid_row": null,
            "grid_template_areas": null,
            "grid_template_columns": null,
            "grid_template_rows": null,
            "height": null,
            "justify_content": null,
            "justify_items": null,
            "left": null,
            "margin": null,
            "max_height": null,
            "max_width": null,
            "min_height": null,
            "min_width": null,
            "object_fit": null,
            "object_position": null,
            "order": null,
            "overflow": null,
            "overflow_x": null,
            "overflow_y": null,
            "padding": null,
            "right": null,
            "top": null,
            "visibility": null,
            "width": null
          }
        },
        "c7ef4dc74ece4b0aa7ab44dfdf837f29": {
          "model_module": "@jupyter-widgets/controls",
          "model_module_version": "1.5.0",
          "model_name": "DescriptionStyleModel",
          "state": {
            "_model_module": "@jupyter-widgets/controls",
            "_model_module_version": "1.5.0",
            "_model_name": "DescriptionStyleModel",
            "_view_count": null,
            "_view_module": "@jupyter-widgets/base",
            "_view_module_version": "1.2.0",
            "_view_name": "StyleView",
            "description_width": ""
          }
        },
        "c90770e536af487aa34d41703aecdfe2": {
          "model_module": "@jupyter-widgets/controls",
          "model_module_version": "1.5.0",
          "model_name": "HTMLModel",
          "state": {
            "_dom_classes": [],
            "_model_module": "@jupyter-widgets/controls",
            "_model_module_version": "1.5.0",
            "_model_name": "HTMLModel",
            "_view_count": null,
            "_view_module": "@jupyter-widgets/controls",
            "_view_module_version": "1.5.0",
            "_view_name": "HTMLView",
            "description": "",
            "description_tooltip": null,
            "layout": "IPY_MODEL_9bf0e3f571a64c7d97b8995bd69c40c0",
            "placeholder": "​",
            "style": "IPY_MODEL_c2868ecfa604477dacc7429ea2bf4e78",
            "value": "modules.json: 100%"
          }
        },
        "c9c6979823b44e7097d500a9729ebf37": {
          "model_module": "@jupyter-widgets/controls",
          "model_module_version": "1.5.0",
          "model_name": "HTMLModel",
          "state": {
            "_dom_classes": [],
            "_model_module": "@jupyter-widgets/controls",
            "_model_module_version": "1.5.0",
            "_model_name": "HTMLModel",
            "_view_count": null,
            "_view_module": "@jupyter-widgets/controls",
            "_view_module_version": "1.5.0",
            "_view_name": "HTMLView",
            "description": "",
            "description_tooltip": null,
            "layout": "IPY_MODEL_b61f3a61d18b46f8a6a1619ad4d2baf7",
            "placeholder": "​",
            "style": "IPY_MODEL_0a9ab2843c97444b94202188e7af054b",
            "value": "config.json: 100%"
          }
        },
        "cae6666d94174973a2978cd8a08d560d": {
          "model_module": "@jupyter-widgets/controls",
          "model_module_version": "1.5.0",
          "model_name": "DescriptionStyleModel",
          "state": {
            "_model_module": "@jupyter-widgets/controls",
            "_model_module_version": "1.5.0",
            "_model_name": "DescriptionStyleModel",
            "_view_count": null,
            "_view_module": "@jupyter-widgets/base",
            "_view_module_version": "1.2.0",
            "_view_name": "StyleView",
            "description_width": ""
          }
        },
        "cc1879b7a5a445799303df28497ed40c": {
          "model_module": "@jupyter-widgets/controls",
          "model_module_version": "1.5.0",
          "model_name": "HTMLModel",
          "state": {
            "_dom_classes": [],
            "_model_module": "@jupyter-widgets/controls",
            "_model_module_version": "1.5.0",
            "_model_name": "HTMLModel",
            "_view_count": null,
            "_view_module": "@jupyter-widgets/controls",
            "_view_module_version": "1.5.0",
            "_view_name": "HTMLView",
            "description": "",
            "description_tooltip": null,
            "layout": "IPY_MODEL_60a00d5d35aa4dee8141fd9dce27e2c4",
            "placeholder": "​",
            "style": "IPY_MODEL_1233e936f20e431db7e25cf62ca7de37",
            "value": " 116/116 [00:00&lt;00:00, 4.09kB/s]"
          }
        },
        "d01d25ef0829486bbb33f5cf701aca60": {
          "model_module": "@jupyter-widgets/controls",
          "model_module_version": "1.5.0",
          "model_name": "HTMLModel",
          "state": {
            "_dom_classes": [],
            "_model_module": "@jupyter-widgets/controls",
            "_model_module_version": "1.5.0",
            "_model_name": "HTMLModel",
            "_view_count": null,
            "_view_module": "@jupyter-widgets/controls",
            "_view_module_version": "1.5.0",
            "_view_name": "HTMLView",
            "description": "",
            "description_tooltip": null,
            "layout": "IPY_MODEL_b7dfd099ac84413fa93e6c2bfe4545f9",
            "placeholder": "​",
            "style": "IPY_MODEL_7d659d8bd82e430db001bb0c29d1e7d4",
            "value": " 350/350 [00:00&lt;00:00, 20.3kB/s]"
          }
        },
        "d2476568fd274df08cfa5ba7b6d3e392": {
          "model_module": "@jupyter-widgets/base",
          "model_module_version": "1.2.0",
          "model_name": "LayoutModel",
          "state": {
            "_model_module": "@jupyter-widgets/base",
            "_model_module_version": "1.2.0",
            "_model_name": "LayoutModel",
            "_view_count": null,
            "_view_module": "@jupyter-widgets/base",
            "_view_module_version": "1.2.0",
            "_view_name": "LayoutView",
            "align_content": null,
            "align_items": null,
            "align_self": null,
            "border": null,
            "bottom": null,
            "display": null,
            "flex": null,
            "flex_flow": null,
            "grid_area": null,
            "grid_auto_columns": null,
            "grid_auto_flow": null,
            "grid_auto_rows": null,
            "grid_column": null,
            "grid_gap": null,
            "grid_row": null,
            "grid_template_areas": null,
            "grid_template_columns": null,
            "grid_template_rows": null,
            "height": null,
            "justify_content": null,
            "justify_items": null,
            "left": null,
            "margin": null,
            "max_height": null,
            "max_width": null,
            "min_height": null,
            "min_width": null,
            "object_fit": null,
            "object_position": null,
            "order": null,
            "overflow": null,
            "overflow_x": null,
            "overflow_y": null,
            "padding": null,
            "right": null,
            "top": null,
            "visibility": null,
            "width": null
          }
        },
        "d2c44482cc2541458b215402f9502ba0": {
          "model_module": "@jupyter-widgets/controls",
          "model_module_version": "1.5.0",
          "model_name": "DescriptionStyleModel",
          "state": {
            "_model_module": "@jupyter-widgets/controls",
            "_model_module_version": "1.5.0",
            "_model_name": "DescriptionStyleModel",
            "_view_count": null,
            "_view_module": "@jupyter-widgets/base",
            "_view_module_version": "1.2.0",
            "_view_name": "StyleView",
            "description_width": ""
          }
        },
        "d38b0fb1a8504a809d6d353d72630288": {
          "model_module": "@jupyter-widgets/controls",
          "model_module_version": "1.5.0",
          "model_name": "HTMLModel",
          "state": {
            "_dom_classes": [],
            "_model_module": "@jupyter-widgets/controls",
            "_model_module_version": "1.5.0",
            "_model_name": "HTMLModel",
            "_view_count": null,
            "_view_module": "@jupyter-widgets/controls",
            "_view_module_version": "1.5.0",
            "_view_name": "HTMLView",
            "description": "",
            "description_tooltip": null,
            "layout": "IPY_MODEL_338276b033494458bc3687459a0094ce",
            "placeholder": "​",
            "style": "IPY_MODEL_d90ce6a4d7b64a37b4b3a172f02d68cb",
            "value": "1_Pooling/config.json: 100%"
          }
        },
        "d44f381b7fbb4c08b42b22f23df3ed0c": {
          "model_module": "@jupyter-widgets/controls",
          "model_module_version": "1.5.0",
          "model_name": "FloatProgressModel",
          "state": {
            "_dom_classes": [],
            "_model_module": "@jupyter-widgets/controls",
            "_model_module_version": "1.5.0",
            "_model_name": "FloatProgressModel",
            "_view_count": null,
            "_view_module": "@jupyter-widgets/controls",
            "_view_module_version": "1.5.0",
            "_view_name": "ProgressView",
            "bar_style": "success",
            "description": "",
            "description_tooltip": null,
            "layout": "IPY_MODEL_c5aea1daf50c4c0e845ac7bd855da87c",
            "max": 116,
            "min": 0,
            "orientation": "horizontal",
            "style": "IPY_MODEL_fab754cbb80d4872bf0b6e5c9b41eec7",
            "value": 116
          }
        },
        "d50b1d399c1c415cb21207e49ca6e2a1": {
          "model_module": "@jupyter-widgets/controls",
          "model_module_version": "1.5.0",
          "model_name": "FloatProgressModel",
          "state": {
            "_dom_classes": [],
            "_model_module": "@jupyter-widgets/controls",
            "_model_module_version": "1.5.0",
            "_model_name": "FloatProgressModel",
            "_view_count": null,
            "_view_module": "@jupyter-widgets/controls",
            "_view_module_version": "1.5.0",
            "_view_name": "ProgressView",
            "bar_style": "success",
            "description": "",
            "description_tooltip": null,
            "layout": "IPY_MODEL_7c06266dabc546739fed1abf29ceec66",
            "max": 90868376,
            "min": 0,
            "orientation": "horizontal",
            "style": "IPY_MODEL_5e0ac109055a4c769605b226f5042698",
            "value": 90868376
          }
        },
        "d576ea35b60d42acaf9db073341761b5": {
          "model_module": "@jupyter-widgets/base",
          "model_module_version": "1.2.0",
          "model_name": "LayoutModel",
          "state": {
            "_model_module": "@jupyter-widgets/base",
            "_model_module_version": "1.2.0",
            "_model_name": "LayoutModel",
            "_view_count": null,
            "_view_module": "@jupyter-widgets/base",
            "_view_module_version": "1.2.0",
            "_view_name": "LayoutView",
            "align_content": null,
            "align_items": null,
            "align_self": null,
            "border": null,
            "bottom": null,
            "display": null,
            "flex": null,
            "flex_flow": null,
            "grid_area": null,
            "grid_auto_columns": null,
            "grid_auto_flow": null,
            "grid_auto_rows": null,
            "grid_column": null,
            "grid_gap": null,
            "grid_row": null,
            "grid_template_areas": null,
            "grid_template_columns": null,
            "grid_template_rows": null,
            "height": null,
            "justify_content": null,
            "justify_items": null,
            "left": null,
            "margin": null,
            "max_height": null,
            "max_width": null,
            "min_height": null,
            "min_width": null,
            "object_fit": null,
            "object_position": null,
            "order": null,
            "overflow": null,
            "overflow_x": null,
            "overflow_y": null,
            "padding": null,
            "right": null,
            "top": null,
            "visibility": null,
            "width": null
          }
        },
        "d79ba862199a4406a669a56bce25bf73": {
          "model_module": "@jupyter-widgets/controls",
          "model_module_version": "1.5.0",
          "model_name": "DescriptionStyleModel",
          "state": {
            "_model_module": "@jupyter-widgets/controls",
            "_model_module_version": "1.5.0",
            "_model_name": "DescriptionStyleModel",
            "_view_count": null,
            "_view_module": "@jupyter-widgets/base",
            "_view_module_version": "1.2.0",
            "_view_name": "StyleView",
            "description_width": ""
          }
        },
        "d7a47a91987648198a68262f787df3b9": {
          "model_module": "@jupyter-widgets/controls",
          "model_module_version": "1.5.0",
          "model_name": "HTMLModel",
          "state": {
            "_dom_classes": [],
            "_model_module": "@jupyter-widgets/controls",
            "_model_module_version": "1.5.0",
            "_model_name": "HTMLModel",
            "_view_count": null,
            "_view_module": "@jupyter-widgets/controls",
            "_view_module_version": "1.5.0",
            "_view_name": "HTMLView",
            "description": "",
            "description_tooltip": null,
            "layout": "IPY_MODEL_d576ea35b60d42acaf9db073341761b5",
            "placeholder": "​",
            "style": "IPY_MODEL_af9b40be2a99410d96f0368a719d4c80",
            "value": " 10.7k/10.7k [00:00&lt;00:00, 324kB/s]"
          }
        },
        "d90ce6a4d7b64a37b4b3a172f02d68cb": {
          "model_module": "@jupyter-widgets/controls",
          "model_module_version": "1.5.0",
          "model_name": "DescriptionStyleModel",
          "state": {
            "_model_module": "@jupyter-widgets/controls",
            "_model_module_version": "1.5.0",
            "_model_name": "DescriptionStyleModel",
            "_view_count": null,
            "_view_module": "@jupyter-widgets/base",
            "_view_module_version": "1.2.0",
            "_view_name": "StyleView",
            "description_width": ""
          }
        },
        "d936378f84af45e7ba4367402d0623db": {
          "model_module": "@jupyter-widgets/base",
          "model_module_version": "1.2.0",
          "model_name": "LayoutModel",
          "state": {
            "_model_module": "@jupyter-widgets/base",
            "_model_module_version": "1.2.0",
            "_model_name": "LayoutModel",
            "_view_count": null,
            "_view_module": "@jupyter-widgets/base",
            "_view_module_version": "1.2.0",
            "_view_name": "LayoutView",
            "align_content": null,
            "align_items": null,
            "align_self": null,
            "border": null,
            "bottom": null,
            "display": null,
            "flex": null,
            "flex_flow": null,
            "grid_area": null,
            "grid_auto_columns": null,
            "grid_auto_flow": null,
            "grid_auto_rows": null,
            "grid_column": null,
            "grid_gap": null,
            "grid_row": null,
            "grid_template_areas": null,
            "grid_template_columns": null,
            "grid_template_rows": null,
            "height": null,
            "justify_content": null,
            "justify_items": null,
            "left": null,
            "margin": null,
            "max_height": null,
            "max_width": null,
            "min_height": null,
            "min_width": null,
            "object_fit": null,
            "object_position": null,
            "order": null,
            "overflow": null,
            "overflow_x": null,
            "overflow_y": null,
            "padding": null,
            "right": null,
            "top": null,
            "visibility": null,
            "width": null
          }
        },
        "d982a14f02474c31849ce3401e0c5cf8": {
          "model_module": "@jupyter-widgets/base",
          "model_module_version": "1.2.0",
          "model_name": "LayoutModel",
          "state": {
            "_model_module": "@jupyter-widgets/base",
            "_model_module_version": "1.2.0",
            "_model_name": "LayoutModel",
            "_view_count": null,
            "_view_module": "@jupyter-widgets/base",
            "_view_module_version": "1.2.0",
            "_view_name": "LayoutView",
            "align_content": null,
            "align_items": null,
            "align_self": null,
            "border": null,
            "bottom": null,
            "display": null,
            "flex": null,
            "flex_flow": null,
            "grid_area": null,
            "grid_auto_columns": null,
            "grid_auto_flow": null,
            "grid_auto_rows": null,
            "grid_column": null,
            "grid_gap": null,
            "grid_row": null,
            "grid_template_areas": null,
            "grid_template_columns": null,
            "grid_template_rows": null,
            "height": null,
            "justify_content": null,
            "justify_items": null,
            "left": null,
            "margin": null,
            "max_height": null,
            "max_width": null,
            "min_height": null,
            "min_width": null,
            "object_fit": null,
            "object_position": null,
            "order": null,
            "overflow": null,
            "overflow_x": null,
            "overflow_y": null,
            "padding": null,
            "right": null,
            "top": null,
            "visibility": null,
            "width": null
          }
        },
        "dacf77c3cd334870ac105c9b1f54820b": {
          "model_module": "@jupyter-widgets/base",
          "model_module_version": "1.2.0",
          "model_name": "LayoutModel",
          "state": {
            "_model_module": "@jupyter-widgets/base",
            "_model_module_version": "1.2.0",
            "_model_name": "LayoutModel",
            "_view_count": null,
            "_view_module": "@jupyter-widgets/base",
            "_view_module_version": "1.2.0",
            "_view_name": "LayoutView",
            "align_content": null,
            "align_items": null,
            "align_self": null,
            "border": null,
            "bottom": null,
            "display": null,
            "flex": null,
            "flex_flow": null,
            "grid_area": null,
            "grid_auto_columns": null,
            "grid_auto_flow": null,
            "grid_auto_rows": null,
            "grid_column": null,
            "grid_gap": null,
            "grid_row": null,
            "grid_template_areas": null,
            "grid_template_columns": null,
            "grid_template_rows": null,
            "height": null,
            "justify_content": null,
            "justify_items": null,
            "left": null,
            "margin": null,
            "max_height": null,
            "max_width": null,
            "min_height": null,
            "min_width": null,
            "object_fit": null,
            "object_position": null,
            "order": null,
            "overflow": null,
            "overflow_x": null,
            "overflow_y": null,
            "padding": null,
            "right": null,
            "top": null,
            "visibility": null,
            "width": null
          }
        },
        "dd877c5d9d56441c8e3bc8ff09c303d6": {
          "model_module": "@jupyter-widgets/controls",
          "model_module_version": "1.5.0",
          "model_name": "HBoxModel",
          "state": {
            "_dom_classes": [],
            "_model_module": "@jupyter-widgets/controls",
            "_model_module_version": "1.5.0",
            "_model_name": "HBoxModel",
            "_view_count": null,
            "_view_module": "@jupyter-widgets/controls",
            "_view_module_version": "1.5.0",
            "_view_name": "HBoxView",
            "box_style": "",
            "children": [
              "IPY_MODEL_c90770e536af487aa34d41703aecdfe2",
              "IPY_MODEL_8919069cd08b42f7b0139be4941ecb82",
              "IPY_MODEL_a2a10c672b9b4c78ad109ed4658fc94a"
            ],
            "layout": "IPY_MODEL_406474011aeb42919e57329b592e5c1c"
          }
        },
        "e1796464ccbc4fe096a7358df5c2fc42": {
          "model_module": "@jupyter-widgets/base",
          "model_module_version": "1.2.0",
          "model_name": "LayoutModel",
          "state": {
            "_model_module": "@jupyter-widgets/base",
            "_model_module_version": "1.2.0",
            "_model_name": "LayoutModel",
            "_view_count": null,
            "_view_module": "@jupyter-widgets/base",
            "_view_module_version": "1.2.0",
            "_view_name": "LayoutView",
            "align_content": null,
            "align_items": null,
            "align_self": null,
            "border": null,
            "bottom": null,
            "display": null,
            "flex": null,
            "flex_flow": null,
            "grid_area": null,
            "grid_auto_columns": null,
            "grid_auto_flow": null,
            "grid_auto_rows": null,
            "grid_column": null,
            "grid_gap": null,
            "grid_row": null,
            "grid_template_areas": null,
            "grid_template_columns": null,
            "grid_template_rows": null,
            "height": null,
            "justify_content": null,
            "justify_items": null,
            "left": null,
            "margin": null,
            "max_height": null,
            "max_width": null,
            "min_height": null,
            "min_width": null,
            "object_fit": null,
            "object_position": null,
            "order": null,
            "overflow": null,
            "overflow_x": null,
            "overflow_y": null,
            "padding": null,
            "right": null,
            "top": null,
            "visibility": null,
            "width": null
          }
        },
        "e28e79f362d74fa89a77c6fc3ef62563": {
          "model_module": "@jupyter-widgets/controls",
          "model_module_version": "1.5.0",
          "model_name": "ProgressStyleModel",
          "state": {
            "_model_module": "@jupyter-widgets/controls",
            "_model_module_version": "1.5.0",
            "_model_name": "ProgressStyleModel",
            "_view_count": null,
            "_view_module": "@jupyter-widgets/base",
            "_view_module_version": "1.2.0",
            "_view_name": "StyleView",
            "bar_color": null,
            "description_width": ""
          }
        },
        "e426f8cf3eb142b6a73e8ce8bcf22590": {
          "model_module": "@jupyter-widgets/base",
          "model_module_version": "1.2.0",
          "model_name": "LayoutModel",
          "state": {
            "_model_module": "@jupyter-widgets/base",
            "_model_module_version": "1.2.0",
            "_model_name": "LayoutModel",
            "_view_count": null,
            "_view_module": "@jupyter-widgets/base",
            "_view_module_version": "1.2.0",
            "_view_name": "LayoutView",
            "align_content": null,
            "align_items": null,
            "align_self": null,
            "border": null,
            "bottom": null,
            "display": null,
            "flex": null,
            "flex_flow": null,
            "grid_area": null,
            "grid_auto_columns": null,
            "grid_auto_flow": null,
            "grid_auto_rows": null,
            "grid_column": null,
            "grid_gap": null,
            "grid_row": null,
            "grid_template_areas": null,
            "grid_template_columns": null,
            "grid_template_rows": null,
            "height": null,
            "justify_content": null,
            "justify_items": null,
            "left": null,
            "margin": null,
            "max_height": null,
            "max_width": null,
            "min_height": null,
            "min_width": null,
            "object_fit": null,
            "object_position": null,
            "order": null,
            "overflow": null,
            "overflow_x": null,
            "overflow_y": null,
            "padding": null,
            "right": null,
            "top": null,
            "visibility": null,
            "width": null
          }
        },
        "e477db4d14134895809250d94f9d7ed7": {
          "model_module": "@jupyter-widgets/base",
          "model_module_version": "1.2.0",
          "model_name": "LayoutModel",
          "state": {
            "_model_module": "@jupyter-widgets/base",
            "_model_module_version": "1.2.0",
            "_model_name": "LayoutModel",
            "_view_count": null,
            "_view_module": "@jupyter-widgets/base",
            "_view_module_version": "1.2.0",
            "_view_name": "LayoutView",
            "align_content": null,
            "align_items": null,
            "align_self": null,
            "border": null,
            "bottom": null,
            "display": null,
            "flex": null,
            "flex_flow": null,
            "grid_area": null,
            "grid_auto_columns": null,
            "grid_auto_flow": null,
            "grid_auto_rows": null,
            "grid_column": null,
            "grid_gap": null,
            "grid_row": null,
            "grid_template_areas": null,
            "grid_template_columns": null,
            "grid_template_rows": null,
            "height": null,
            "justify_content": null,
            "justify_items": null,
            "left": null,
            "margin": null,
            "max_height": null,
            "max_width": null,
            "min_height": null,
            "min_width": null,
            "object_fit": null,
            "object_position": null,
            "order": null,
            "overflow": null,
            "overflow_x": null,
            "overflow_y": null,
            "padding": null,
            "right": null,
            "top": null,
            "visibility": null,
            "width": null
          }
        },
        "e86b81b2b4ea495381b8b51b70d39b90": {
          "model_module": "@jupyter-widgets/controls",
          "model_module_version": "1.5.0",
          "model_name": "ProgressStyleModel",
          "state": {
            "_model_module": "@jupyter-widgets/controls",
            "_model_module_version": "1.5.0",
            "_model_name": "ProgressStyleModel",
            "_view_count": null,
            "_view_module": "@jupyter-widgets/base",
            "_view_module_version": "1.2.0",
            "_view_name": "StyleView",
            "bar_color": null,
            "description_width": ""
          }
        },
        "ea33634149ff40db979510086110dbf5": {
          "model_module": "@jupyter-widgets/controls",
          "model_module_version": "1.5.0",
          "model_name": "HBoxModel",
          "state": {
            "_dom_classes": [],
            "_model_module": "@jupyter-widgets/controls",
            "_model_module_version": "1.5.0",
            "_model_name": "HBoxModel",
            "_view_count": null,
            "_view_module": "@jupyter-widgets/controls",
            "_view_module_version": "1.5.0",
            "_view_name": "HBoxView",
            "box_style": "",
            "children": [
              "IPY_MODEL_14f8238ab27145d5b8a9fa715036f30f",
              "IPY_MODEL_88ae5948356a4e74b67c7be65b5568de",
              "IPY_MODEL_815872c49be04ef09820ac04f9fc68bb"
            ],
            "layout": "IPY_MODEL_f52213bf17e0491d9faca51271da8982"
          }
        },
        "ec734e7f1fe142b49dc43ac45d6a267c": {
          "model_module": "@jupyter-widgets/base",
          "model_module_version": "1.2.0",
          "model_name": "LayoutModel",
          "state": {
            "_model_module": "@jupyter-widgets/base",
            "_model_module_version": "1.2.0",
            "_model_name": "LayoutModel",
            "_view_count": null,
            "_view_module": "@jupyter-widgets/base",
            "_view_module_version": "1.2.0",
            "_view_name": "LayoutView",
            "align_content": null,
            "align_items": null,
            "align_self": null,
            "border": null,
            "bottom": null,
            "display": null,
            "flex": null,
            "flex_flow": null,
            "grid_area": null,
            "grid_auto_columns": null,
            "grid_auto_flow": null,
            "grid_auto_rows": null,
            "grid_column": null,
            "grid_gap": null,
            "grid_row": null,
            "grid_template_areas": null,
            "grid_template_columns": null,
            "grid_template_rows": null,
            "height": null,
            "justify_content": null,
            "justify_items": null,
            "left": null,
            "margin": null,
            "max_height": null,
            "max_width": null,
            "min_height": null,
            "min_width": null,
            "object_fit": null,
            "object_position": null,
            "order": null,
            "overflow": null,
            "overflow_x": null,
            "overflow_y": null,
            "padding": null,
            "right": null,
            "top": null,
            "visibility": null,
            "width": null
          }
        },
        "ee917c19b82f43138838c860b338112b": {
          "model_module": "@jupyter-widgets/base",
          "model_module_version": "1.2.0",
          "model_name": "LayoutModel",
          "state": {
            "_model_module": "@jupyter-widgets/base",
            "_model_module_version": "1.2.0",
            "_model_name": "LayoutModel",
            "_view_count": null,
            "_view_module": "@jupyter-widgets/base",
            "_view_module_version": "1.2.0",
            "_view_name": "LayoutView",
            "align_content": null,
            "align_items": null,
            "align_self": null,
            "border": null,
            "bottom": null,
            "display": null,
            "flex": null,
            "flex_flow": null,
            "grid_area": null,
            "grid_auto_columns": null,
            "grid_auto_flow": null,
            "grid_auto_rows": null,
            "grid_column": null,
            "grid_gap": null,
            "grid_row": null,
            "grid_template_areas": null,
            "grid_template_columns": null,
            "grid_template_rows": null,
            "height": null,
            "justify_content": null,
            "justify_items": null,
            "left": null,
            "margin": null,
            "max_height": null,
            "max_width": null,
            "min_height": null,
            "min_width": null,
            "object_fit": null,
            "object_position": null,
            "order": null,
            "overflow": null,
            "overflow_x": null,
            "overflow_y": null,
            "padding": null,
            "right": null,
            "top": null,
            "visibility": null,
            "width": null
          }
        },
        "f0146546faa846be9be9f8edfc752e51": {
          "model_module": "@jupyter-widgets/base",
          "model_module_version": "1.2.0",
          "model_name": "LayoutModel",
          "state": {
            "_model_module": "@jupyter-widgets/base",
            "_model_module_version": "1.2.0",
            "_model_name": "LayoutModel",
            "_view_count": null,
            "_view_module": "@jupyter-widgets/base",
            "_view_module_version": "1.2.0",
            "_view_name": "LayoutView",
            "align_content": null,
            "align_items": null,
            "align_self": null,
            "border": null,
            "bottom": null,
            "display": null,
            "flex": null,
            "flex_flow": null,
            "grid_area": null,
            "grid_auto_columns": null,
            "grid_auto_flow": null,
            "grid_auto_rows": null,
            "grid_column": null,
            "grid_gap": null,
            "grid_row": null,
            "grid_template_areas": null,
            "grid_template_columns": null,
            "grid_template_rows": null,
            "height": null,
            "justify_content": null,
            "justify_items": null,
            "left": null,
            "margin": null,
            "max_height": null,
            "max_width": null,
            "min_height": null,
            "min_width": null,
            "object_fit": null,
            "object_position": null,
            "order": null,
            "overflow": null,
            "overflow_x": null,
            "overflow_y": null,
            "padding": null,
            "right": null,
            "top": null,
            "visibility": null,
            "width": null
          }
        },
        "f52213bf17e0491d9faca51271da8982": {
          "model_module": "@jupyter-widgets/base",
          "model_module_version": "1.2.0",
          "model_name": "LayoutModel",
          "state": {
            "_model_module": "@jupyter-widgets/base",
            "_model_module_version": "1.2.0",
            "_model_name": "LayoutModel",
            "_view_count": null,
            "_view_module": "@jupyter-widgets/base",
            "_view_module_version": "1.2.0",
            "_view_name": "LayoutView",
            "align_content": null,
            "align_items": null,
            "align_self": null,
            "border": null,
            "bottom": null,
            "display": null,
            "flex": null,
            "flex_flow": null,
            "grid_area": null,
            "grid_auto_columns": null,
            "grid_auto_flow": null,
            "grid_auto_rows": null,
            "grid_column": null,
            "grid_gap": null,
            "grid_row": null,
            "grid_template_areas": null,
            "grid_template_columns": null,
            "grid_template_rows": null,
            "height": null,
            "justify_content": null,
            "justify_items": null,
            "left": null,
            "margin": null,
            "max_height": null,
            "max_width": null,
            "min_height": null,
            "min_width": null,
            "object_fit": null,
            "object_position": null,
            "order": null,
            "overflow": null,
            "overflow_x": null,
            "overflow_y": null,
            "padding": null,
            "right": null,
            "top": null,
            "visibility": null,
            "width": null
          }
        },
        "f69ade0466d04722a5525badaf01caf5": {
          "model_module": "@jupyter-widgets/base",
          "model_module_version": "1.2.0",
          "model_name": "LayoutModel",
          "state": {
            "_model_module": "@jupyter-widgets/base",
            "_model_module_version": "1.2.0",
            "_model_name": "LayoutModel",
            "_view_count": null,
            "_view_module": "@jupyter-widgets/base",
            "_view_module_version": "1.2.0",
            "_view_name": "LayoutView",
            "align_content": null,
            "align_items": null,
            "align_self": null,
            "border": null,
            "bottom": null,
            "display": null,
            "flex": null,
            "flex_flow": null,
            "grid_area": null,
            "grid_auto_columns": null,
            "grid_auto_flow": null,
            "grid_auto_rows": null,
            "grid_column": null,
            "grid_gap": null,
            "grid_row": null,
            "grid_template_areas": null,
            "grid_template_columns": null,
            "grid_template_rows": null,
            "height": null,
            "justify_content": null,
            "justify_items": null,
            "left": null,
            "margin": null,
            "max_height": null,
            "max_width": null,
            "min_height": null,
            "min_width": null,
            "object_fit": null,
            "object_position": null,
            "order": null,
            "overflow": null,
            "overflow_x": null,
            "overflow_y": null,
            "padding": null,
            "right": null,
            "top": null,
            "visibility": null,
            "width": null
          }
        },
        "f89dd41693674639be04bee4536daf0b": {
          "model_module": "@jupyter-widgets/controls",
          "model_module_version": "1.5.0",
          "model_name": "FloatProgressModel",
          "state": {
            "_dom_classes": [],
            "_model_module": "@jupyter-widgets/controls",
            "_model_module_version": "1.5.0",
            "_model_name": "FloatProgressModel",
            "_view_count": null,
            "_view_module": "@jupyter-widgets/controls",
            "_view_module_version": "1.5.0",
            "_view_name": "ProgressView",
            "bar_style": "success",
            "description": "",
            "description_tooltip": null,
            "layout": "IPY_MODEL_4898d9692761446f910d7d4c271bf1b4",
            "max": 53,
            "min": 0,
            "orientation": "horizontal",
            "style": "IPY_MODEL_214458dce9b6446ab974023f07118d44",
            "value": 53
          }
        },
        "fab754cbb80d4872bf0b6e5c9b41eec7": {
          "model_module": "@jupyter-widgets/controls",
          "model_module_version": "1.5.0",
          "model_name": "ProgressStyleModel",
          "state": {
            "_model_module": "@jupyter-widgets/controls",
            "_model_module_version": "1.5.0",
            "_model_name": "ProgressStyleModel",
            "_view_count": null,
            "_view_module": "@jupyter-widgets/base",
            "_view_module_version": "1.2.0",
            "_view_name": "StyleView",
            "bar_color": null,
            "description_width": ""
          }
        },
        "fc1f70bb462d4e74b69a0207179908dd": {
          "model_module": "@jupyter-widgets/controls",
          "model_module_version": "1.5.0",
          "model_name": "HTMLModel",
          "state": {
            "_dom_classes": [],
            "_model_module": "@jupyter-widgets/controls",
            "_model_module_version": "1.5.0",
            "_model_name": "HTMLModel",
            "_view_count": null,
            "_view_module": "@jupyter-widgets/controls",
            "_view_module_version": "1.5.0",
            "_view_name": "HTMLView",
            "description": "",
            "description_tooltip": null,
            "layout": "IPY_MODEL_d2476568fd274df08cfa5ba7b6d3e392",
            "placeholder": "​",
            "style": "IPY_MODEL_48f0771064364c1fb24e5f396e2d75ec",
            "value": " 53.0/53.0 [00:00&lt;00:00, 2.89kB/s]"
          }
        },
        "ffaecfb16714421d9fdcf76dcbe67e80": {
          "model_module": "@jupyter-widgets/controls",
          "model_module_version": "1.5.0",
          "model_name": "HTMLModel",
          "state": {
            "_dom_classes": [],
            "_model_module": "@jupyter-widgets/controls",
            "_model_module_version": "1.5.0",
            "_model_name": "HTMLModel",
            "_view_count": null,
            "_view_module": "@jupyter-widgets/controls",
            "_view_module_version": "1.5.0",
            "_view_name": "HTMLView",
            "description": "",
            "description_tooltip": null,
            "layout": "IPY_MODEL_e426f8cf3eb142b6a73e8ce8bcf22590",
            "placeholder": "​",
            "style": "IPY_MODEL_8e0e7be631e34808af6295a581f6e364",
            "value": "sentence_bert_config.json: 100%"
          }
        }
      }
    }
  },
  "nbformat": 4,
  "nbformat_minor": 0
}